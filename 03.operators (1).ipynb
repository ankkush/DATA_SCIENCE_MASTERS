{
 "cells": [
  {
   "cell_type": "markdown",
   "id": "c5ba4210-b57a-4b5b-afa8-118c1118cc90",
   "metadata": {},
   "source": [
    "## LOGICAL OPERATORS\n",
    "1. and\n",
    "2. or\n",
    "3. not"
   ]
  },
  {
   "cell_type": "code",
   "execution_count": 2,
   "id": "55f412a2-e676-4913-bffa-7c59b032bc66",
   "metadata": {},
   "outputs": [
    {
     "data": {
      "text/plain": [
       "True"
      ]
     },
     "execution_count": 2,
     "metadata": {},
     "output_type": "execute_result"
    }
   ],
   "source": [
    "True or False"
   ]
  },
  {
   "cell_type": "code",
   "execution_count": 3,
   "id": "0d16cbd1-50be-41d4-b0f9-db5ea0f747ce",
   "metadata": {},
   "outputs": [
    {
     "data": {
      "text/plain": [
       "True"
      ]
     },
     "execution_count": 3,
     "metadata": {},
     "output_type": "execute_result"
    }
   ],
   "source": [
    "not False\n"
   ]
  },
  {
   "cell_type": "code",
   "execution_count": 6,
   "id": "21dd8daa-7dc3-46db-8c75-5e3fbeea703b",
   "metadata": {},
   "outputs": [
    {
     "name": "stdout",
     "output_type": "stream",
     "text": [
      "DEFINE VALUES OF start=True\n",
      "DEFINE values of stop=False\n",
      "\n",
      "DEFINE VALUES OF start=True\n",
      "DEFINE values of stop by negative start=True\n",
      "DEFINE VALUES OF start by negative stop=False\n",
      "DEFINE values of stop=False\n"
     ]
    }
   ],
   "source": [
    "# let's define two variable having boolean values true and false\n",
    "\n",
    "start=True\n",
    "stop=False\n",
    "print(f\"DEFINE VALUES OF start={start}\")\n",
    "print(f\"DEFINE values of stop={stop}\\n\")\n",
    "\n",
    "print(f\"DEFINE VALUES OF start={start}\")\n",
    "print(f\"DEFINE values of stop by negative start={not stop}\")\n",
    "\n",
    "print(f\"DEFINE VALUES OF start by negative stop={not start}\")\n",
    "print(f\"DEFINE values of stop={stop}\") "
   ]
  },
  {
   "cell_type": "code",
   "execution_count": 7,
   "id": "ed6fd555-518e-42ab-97d6-0b4eda1dd90d",
   "metadata": {},
   "outputs": [
    {
     "data": {
      "text/plain": [
       "False"
      ]
     },
     "execution_count": 7,
     "metadata": {},
     "output_type": "execute_result"
    }
   ],
   "source": [
    "bool(0)"
   ]
  },
  {
   "cell_type": "code",
   "execution_count": 8,
   "id": "b20f15d6-ad57-4e67-b6af-a84c29e1f269",
   "metadata": {},
   "outputs": [
    {
     "data": {
      "text/plain": [
       "0"
      ]
     },
     "execution_count": 8,
     "metadata": {},
     "output_type": "execute_result"
    }
   ],
   "source": [
    "int(bool(0))# first we type cast int in bool then bool in int"
   ]
  },
  {
   "cell_type": "code",
   "execution_count": 9,
   "id": "606c0189-b030-4dc4-9253-af388013d173",
   "metadata": {},
   "outputs": [
    {
     "data": {
      "text/plain": [
       "True"
      ]
     },
     "execution_count": 9,
     "metadata": {},
     "output_type": "execute_result"
    }
   ],
   "source": [
    "not int(bool(0))# again we type cast"
   ]
  },
  {
   "cell_type": "code",
   "execution_count": 10,
   "id": "00fc5260-8449-4eda-a745-eca637af0281",
   "metadata": {},
   "outputs": [
    {
     "data": {
      "text/plain": [
       "False"
      ]
     },
     "execution_count": 10,
     "metadata": {},
     "output_type": "execute_result"
    }
   ],
   "source": [
    "not 1\n"
   ]
  },
  {
   "cell_type": "code",
   "execution_count": 12,
   "id": "f5f3d3ca-43c6-4f4f-b114-8945611089b1",
   "metadata": {},
   "outputs": [
    {
     "data": {
      "text/plain": [
       "1"
      ]
     },
     "execution_count": 12,
     "metadata": {},
     "output_type": "execute_result"
    }
   ],
   "source": [
    "int (not 0)"
   ]
  },
  {
   "cell_type": "code",
   "execution_count": 13,
   "id": "9c824919-f1c1-42df-9ce9-999e4bf24595",
   "metadata": {},
   "outputs": [
    {
     "data": {
      "text/plain": [
       "0"
      ]
     },
     "execution_count": 13,
     "metadata": {},
     "output_type": "execute_result"
    }
   ],
   "source": [
    "int (not 4)# it reverse the no. 0 to 1 ...and other number--> to 0"
   ]
  },
  {
   "cell_type": "code",
   "execution_count": 19,
   "id": "6bbf01ef-e445-4c17-8247-163ead3dbef0",
   "metadata": {},
   "outputs": [
    {
     "name": "stdout",
     "output_type": "stream",
     "text": [
      "boolean value of no. 5 is True\n",
      "boolean value of no. -5 is True\n",
      "negation of no. 5 is Falseand negation of -5 is False\n"
     ]
    }
   ],
   "source": [
    "positive=5\n",
    "negative=-5\n",
    "print(f\"boolean value of no. {positive} is {bool(positive)}\")\n",
    "print(f\"boolean value of no. {negative} is {bool(positive)}\")\n",
    "\n",
    "print(f\"negation of no. {positive} is {not(positive) }and negation of {negative} is {not negative}\")\n",
    "\n",
    "      \n"
   ]
  },
  {
   "cell_type": "markdown",
   "id": "a71b79c9-5761-4f27-adf4-2b7fddb6c6ce",
   "metadata": {},
   "source": [
    "## logical And"
   ]
  },
  {
   "cell_type": "code",
   "execution_count": 21,
   "id": "939a1600-6238-4d05-95af-ff277eb3c1f0",
   "metadata": {},
   "outputs": [
    {
     "name": "stdout",
     "output_type": "stream",
     "text": [
      "Dish contains vegetables :True\n",
      "Dish contains salt:False\n",
      "HEENCE, dish prepared was good:False\n"
     ]
    }
   ],
   "source": [
    "vegetables=True\n",
    "salt=False\n",
    "dish=vegetables and salt\n",
    "print(f\"Dish contains vegetables :{vegetables}\")\n",
    "print(f\"Dish contains salt:{salt}\")\n",
    "print(f\"HEENCE, dish prepared was good:{dish}\")"
   ]
  },
  {
   "cell_type": "code",
   "execution_count": 22,
   "id": "a290e028-bc4c-49e4-8d9b-e8637594c32f",
   "metadata": {},
   "outputs": [
    {
     "data": {
      "text/plain": [
       "1"
      ]
     },
     "execution_count": 22,
     "metadata": {},
     "output_type": "execute_result"
    }
   ],
   "source": [
    "True*True# as 1*1"
   ]
  },
  {
   "cell_type": "code",
   "execution_count": 23,
   "id": "72bcdb4b-23c4-4a02-88d1-baf481fe81a8",
   "metadata": {},
   "outputs": [
    {
     "data": {
      "text/plain": [
       "0"
      ]
     },
     "execution_count": 23,
     "metadata": {},
     "output_type": "execute_result"
    }
   ],
   "source": [
    "True*Falseas #1*0"
   ]
  },
  {
   "cell_type": "code",
   "execution_count": 24,
   "id": "86d3f5a9-c37e-4e79-87ad-945e6366cc15",
   "metadata": {},
   "outputs": [
    {
     "data": {
      "text/plain": [
       "True"
      ]
     },
     "execution_count": 24,
     "metadata": {},
     "output_type": "execute_result"
    }
   ],
   "source": [
    "not True* False #here, it arises due to order of precedences, as we use bracket (as shown below) it first solve bracket , hence. output will correct"
   ]
  },
  {
   "cell_type": "code",
   "execution_count": 25,
   "id": "c9868d2a-1756-4138-b76c-6f9bec7397e0",
   "metadata": {},
   "outputs": [
    {
     "data": {
      "text/plain": [
       "0"
      ]
     },
     "execution_count": 25,
     "metadata": {},
     "output_type": "execute_result"
    }
   ],
   "source": [
    "False*False"
   ]
  },
  {
   "cell_type": "code",
   "execution_count": 26,
   "id": "18c8a81d-faf8-4e18-9a8f-5b2743ba24b4",
   "metadata": {},
   "outputs": [
    {
     "data": {
      "text/plain": [
       "0"
      ]
     },
     "execution_count": 26,
     "metadata": {},
     "output_type": "execute_result"
    }
   ],
   "source": [
    "(not True)*False"
   ]
  },
  {
   "cell_type": "code",
   "execution_count": 28,
   "id": "5862a526-67c9-47fd-b919-0e7af2079edf",
   "metadata": {},
   "outputs": [
    {
     "data": {
      "text/plain": [
       "True"
      ]
     },
     "execution_count": 28,
     "metadata": {},
     "output_type": "execute_result"
    }
   ],
   "source": [
    "not False * False# it solves firstly false into false which is 0, the it solve not 0 which is true....hence precedence order is also useful"
   ]
  },
  {
   "cell_type": "code",
   "execution_count": 41,
   "id": "d2a22597-74bc-465f-a7e7-3bf2b38f9e80",
   "metadata": {},
   "outputs": [
    {
     "name": "stdout",
     "output_type": "stream",
     "text": [
      "True\n",
      "True\n",
      "0\n"
     ]
    }
   ],
   "source": [
    "print(not(False)*False)\n",
    "print(not False*False)\n",
    "print((not False)*False)"
   ]
  },
  {
   "cell_type": "code",
   "execution_count": 38,
   "id": "2f197b94-c2c9-4c35-95b6-4afe75c0d2b0",
   "metadata": {},
   "outputs": [
    {
     "data": {
      "text/plain": [
       "True"
      ]
     },
     "execution_count": 42,
     "metadata": {},
     "output_type": "execute_result"
    }
   ],
   "source": [
    "not(False"
   ]
  },
  {
   "cell_type": "markdown",
   "id": "8472651b-38c1-4b05-9d69-bd2be394f066",
   "metadata": {},
   "source": [
    "### Equality operators\n",
    "##### 1)is      #example a is  b return true if variable/identifiers a and b points to the same objects\n",
    "##### 2)is not  #example a is not b return true if variable/identifiers a and b points to the different objects\n",
    "##### 3)==       #example a == b return true if variable/identifiers a and b has same values\n",
    "##### 4)!=       #example a != b return true if variable/identifiers a and b has different values"
   ]
  },
  {
   "cell_type": "code",
   "execution_count": 1,
   "id": "76f29f2d-f681-4407-a5ab-76add2162e85",
   "metadata": {},
   "outputs": [],
   "source": [
    "l1=[1,2,3,4]\n",
    "l2=[1,2,3,4]\n"
   ]
  },
  {
   "cell_type": "code",
   "execution_count": 3,
   "id": "01cf614b-8261-4463-87a3-5a734be46b2a",
   "metadata": {},
   "outputs": [
    {
     "name": "stdout",
     "output_type": "stream",
     "text": [
      "139851788231104\n",
      "139851788230848\n"
     ]
    }
   ],
   "source": [
    "print(id(l1))#it returns id of l1\n",
    "print(id(l2))#return of id l2"
   ]
  },
  {
   "cell_type": "code",
   "execution_count": null,
   "id": "5dfada88-3ce6-4c63-9e74-3309c75a8577",
   "metadata": {},
   "outputs": [],
   "source": [
    "#here both id's are different .hence, memory address will also different...so that,l1 is not l2"
   ]
  },
  {
   "cell_type": "code",
   "execution_count": 4,
   "id": "aa6d75e2-c184-4ec3-8f13-6ecd6d0d05ca",
   "metadata": {},
   "outputs": [
    {
     "data": {
      "text/plain": [
       "False"
      ]
     },
     "execution_count": 4,
     "metadata": {},
     "output_type": "execute_result"
    }
   ],
   "source": [
    "l1 is l2#it return false , because both have different adress"
   ]
  },
  {
   "cell_type": "code",
   "execution_count": 5,
   "id": "8456222a-e610-498b-8129-d3736b0780f2",
   "metadata": {},
   "outputs": [],
   "source": [
    "#but, in below case different memory address will not created\n",
    "l1=[1,2,3,4]\n",
    "l2=l1"
   ]
  },
  {
   "cell_type": "code",
   "execution_count": 6,
   "id": "3470d995-b682-46f6-9e5c-6c3fb98d661e",
   "metadata": {},
   "outputs": [
    {
     "name": "stdout",
     "output_type": "stream",
     "text": [
      "139851848557184\n",
      "139851848557184\n"
     ]
    }
   ],
   "source": [
    "print(id(l1))\n",
    "print(id(l2))#heree both id's are same"
   ]
  },
  {
   "cell_type": "code",
   "execution_count": 7,
   "id": "03e3e28a-113f-4f36-99c5-571946d977de",
   "metadata": {},
   "outputs": [
    {
     "data": {
      "text/plain": [
       "True"
      ]
     },
     "execution_count": 7,
     "metadata": {},
     "output_type": "execute_result"
    }
   ],
   "source": [
    "l1 is l2 #As both id's are same also differnet memory will not created.hence, answer will be true"
   ]
  },
  {
   "cell_type": "code",
   "execution_count": 8,
   "id": "32f6460d-9e70-4d9d-96bc-38aa73ed555d",
   "metadata": {},
   "outputs": [
    {
     "data": {
      "text/plain": [
       "True"
      ]
     },
     "execution_count": 8,
     "metadata": {},
     "output_type": "execute_result"
    }
   ],
   "source": [
    "#is not\n",
    "l1=[1,2,3,4]\n",
    "l2=[1,2,3,4]\n",
    "l1 is not l2#true will execute"
   ]
  },
  {
   "cell_type": "code",
   "execution_count": 9,
   "id": "fa198d19-3ebd-471b-8ac7-08c545560e15",
   "metadata": {},
   "outputs": [
    {
     "data": {
      "text/plain": [
       "True"
      ]
     },
     "execution_count": 9,
     "metadata": {},
     "output_type": "execute_result"
    }
   ],
   "source": [
    "#==\n",
    "l1==l2#now, it checks value(element) inside it and not check memory address hence answer is obviously true"
   ]
  },
  {
   "cell_type": "code",
   "execution_count": 10,
   "id": "f3f4328a-b286-43b6-87f5-fb3efdf61440",
   "metadata": {},
   "outputs": [
    {
     "name": "stdout",
     "output_type": "stream",
     "text": [
      "[2, 4, 5, 6]\n"
     ]
    }
   ],
   "source": [
    "#LIST\n",
    "list=[2,4,5,6]\n",
    "print(list)"
   ]
  },
  {
   "cell_type": "code",
   "execution_count": 11,
   "id": "087e2c1e-e182-47f1-81b1-aa23e2c9499f",
   "metadata": {},
   "outputs": [
    {
     "name": "stdout",
     "output_type": "stream",
     "text": [
      "4\n"
     ]
    }
   ],
   "source": [
    "print(list[1])"
   ]
  },
  {
   "cell_type": "code",
   "execution_count": 12,
   "id": "15a954f7-78af-4b8a-b3d7-5181e3d82f98",
   "metadata": {},
   "outputs": [
    {
     "name": "stdout",
     "output_type": "stream",
     "text": [
      "[2, 4, 5, 999]\n"
     ]
    }
   ],
   "source": [
    "list[3]=999\n",
    "print(list)"
   ]
  },
  {
   "cell_type": "code",
   "execution_count": 14,
   "id": "40c85761-baa5-411f-a849-b0904bcb68e9",
   "metadata": {},
   "outputs": [
    {
     "name": "stdout",
     "output_type": "stream",
     "text": [
      "[2, 'N', 5, 999]\n"
     ]
    }
   ],
   "source": [
    "list[1]=\"N\"\n",
    "print(list)"
   ]
  },
  {
   "cell_type": "code",
   "execution_count": 16,
   "id": "00f31795-2c57-43a5-8907-edce31defcc9",
   "metadata": {},
   "outputs": [
    {
     "name": "stdout",
     "output_type": "stream",
     "text": [
      "['NISHA', 'DISHA', 'ISHA', 'LAVISHA', 'MANISHA']\n"
     ]
    }
   ],
   "source": [
    "str=[\"NISHA\",\"DISHA\",\"ISHA\",\"LAVISHA\",\"MANISHA\"]\n",
    "print(str)\n"
   ]
  },
  {
   "cell_type": "code",
   "execution_count": 20,
   "id": "eda4f2de-9eaa-446a-b621-63d251890af7",
   "metadata": {},
   "outputs": [
    {
     "name": "stdout",
     "output_type": "stream",
     "text": [
      "['NISHA', 'P', 'AASHA', 'LAVISHA', 'MANISHA']\n"
     ]
    }
   ],
   "source": [
    "str[2]=\"AASHA\"\n",
    "str[1]='P'\n",
    "print(str)"
   ]
  },
  {
   "cell_type": "markdown",
   "id": "5a0167f8-61bc-46d9-aeb1-6714198ae4eb",
   "metadata": {},
   "source": [
    "## COMPARISION OPERATIONS.\n",
    "### <, >, <=, >=, etc.."
   ]
  },
  {
   "cell_type": "code",
   "execution_count": 23,
   "id": "95f4cb6c-d495-47f9-a805-59725fc5a835",
   "metadata": {},
   "outputs": [
    {
     "name": "stdout",
     "output_type": "stream",
     "text": [
      "bike is faster than car:False\n"
     ]
    }
   ],
   "source": [
    "maximum_speed_of_car=200\n",
    "maximum_speed_of_bike=150\n",
    "print(f\"bike is faster than car:{maximum_speed_of_car < maximum_speed_of_bike}\")"
   ]
  },
  {
   "cell_type": "markdown",
   "id": "e8f18535-d773-4f94-bbec-240337c4dde4",
   "metadata": {},
   "source": [
    "# ARITHMETIC OPERATORS\n",
    "### / , * , + ,**, //etc.."
   ]
  },
  {
   "cell_type": "code",
   "execution_count": 24,
   "id": "20f53812-44e2-47c0-9869-2a3d910e1620",
   "metadata": {},
   "outputs": [
    {
     "data": {
      "text/plain": [
       "106470"
      ]
     },
     "execution_count": 24,
     "metadata": {},
     "output_type": "execute_result"
    }
   ],
   "source": [
    "234*455\n"
   ]
  },
  {
   "cell_type": "code",
   "execution_count": 27,
   "id": "40d385f0-d120-4a71-bb7d-d9bcaab8a919",
   "metadata": {},
   "outputs": [
    {
     "data": {
      "text/plain": [
       "24"
      ]
     },
     "execution_count": 27,
     "metadata": {},
     "output_type": "execute_result"
    }
   ],
   "source": [
    "122//5# it will given answer in integer"
   ]
  },
  {
   "cell_type": "code",
   "execution_count": 28,
   "id": "4203a46d-64e9-4018-9afc-734aa2ba3289",
   "metadata": {},
   "outputs": [
    {
     "data": {
      "text/plain": [
       "24.4"
      ]
     },
     "execution_count": 28,
     "metadata": {},
     "output_type": "execute_result"
    }
   ],
   "source": [
    "122/5#it will give answer in float"
   ]
  },
  {
   "cell_type": "code",
   "execution_count": 31,
   "id": "917bd891-ad16-4d61-b972-e26f0a5743d1",
   "metadata": {},
   "outputs": [
    {
     "data": {
      "text/plain": [
       "16"
      ]
     },
     "execution_count": 31,
     "metadata": {},
     "output_type": "execute_result"
    }
   ],
   "source": [
    "2**4#it gives 2 raiseto 4"
   ]
  },
  {
   "cell_type": "code",
   "execution_count": 33,
   "id": "37f40ee2-3a6b-4794-96c6-6a1f3cb13c45",
   "metadata": {},
   "outputs": [
    {
     "data": {
      "text/plain": [
       "5"
      ]
     },
     "execution_count": 33,
     "metadata": {},
     "output_type": "execute_result"
    }
   ],
   "source": [
    "23%6# direct displays remainder"
   ]
  },
  {
   "cell_type": "markdown",
   "id": "70e72448-82b7-4a16-b481-dda91c9d1e2a",
   "metadata": {},
   "source": [
    "## Bitwise operators\n",
    "#### ~ (bitwise complement)\n",
    "#### & (bitwise and)\n",
    "#### | (bitwise or)\n",
    "#### << (shift bits left)\n",
    "#### >> (shifts bits right)"
   ]
  },
  {
   "cell_type": "code",
   "execution_count": 41,
   "id": "8473182a-521c-4557-8bf3-2d833fefa420",
   "metadata": {},
   "outputs": [
    {
     "data": {
      "text/plain": [
       "'0b1010'"
      ]
     },
     "execution_count": 41,
     "metadata": {},
     "output_type": "execute_result"
    }
   ],
   "source": [
    "var=10\n",
    "bin(var)# it will gives binary of 10 which is 1010"
   ]
  },
  {
   "cell_type": "code",
   "execution_count": 60,
   "id": "f676afc2-629e-49a3-ab6a-7549022171fc",
   "metadata": {},
   "outputs": [
    {
     "data": {
      "text/plain": [
       "-11"
      ]
     },
     "execution_count": 60,
     "metadata": {},
     "output_type": "execute_result"
    }
   ],
   "source": [
    "~var"
   ]
  },
  {
   "cell_type": "code",
   "execution_count": 61,
   "id": "b5bd307c-3ceb-4547-bb08-6b9002514df9",
   "metadata": {},
   "outputs": [
    {
     "data": {
      "text/plain": [
       "True"
      ]
     },
     "execution_count": 61,
     "metadata": {},
     "output_type": "execute_result"
    }
   ],
   "source": [
    " True | False"
   ]
  },
  {
   "cell_type": "code",
   "execution_count": 63,
   "id": "eaebbb7d-41a8-46c0-b69f-c02985f91252",
   "metadata": {},
   "outputs": [
    {
     "data": {
      "text/plain": [
       "False"
      ]
     },
     "execution_count": 63,
     "metadata": {},
     "output_type": "execute_result"
    }
   ],
   "source": [
    "True & False"
   ]
  },
  {
   "cell_type": "code",
   "execution_count": 70,
   "id": "7a47db92-4441-4ec5-ae06-82f6fd054db9",
   "metadata": {},
   "outputs": [
    {
     "data": {
      "text/plain": [
       "2"
      ]
     },
     "execution_count": 70,
     "metadata": {},
     "output_type": "execute_result"
    }
   ],
   "source": [
    "var>>2 "
   ]
  },
  {
   "cell_type": "code",
   "execution_count": 66,
   "id": "59ca1f16-eda7-45f1-a4af-75717e1202b9",
   "metadata": {},
   "outputs": [
    {
     "data": {
      "text/plain": [
       "20"
      ]
     },
     "execution_count": 66,
     "metadata": {},
     "output_type": "execute_result"
    }
   ],
   "source": [
    "var=10 \n",
    "var<<1 "
   ]
  },
  {
   "cell_type": "markdown",
   "id": "98f12c60-9bc9-4bc3-91bb-8c82bd9fd8b6",
   "metadata": {},
   "source": [
    " ### Strings"
   ]
  },
  {
   "cell_type": "code",
   "execution_count": 71,
   "id": "732c657e-2832-4566-b586-040f207a6907",
   "metadata": {},
   "outputs": [],
   "source": [
    "str=\"AB KUSH DEVELIERS\""
   ]
  },
  {
   "cell_type": "code",
   "execution_count": 73,
   "id": "7dc42325-623e-43e9-be47-a787d4574ffa",
   "metadata": {},
   "outputs": [
    {
     "data": {
      "text/plain": [
       "str"
      ]
     },
     "execution_count": 73,
     "metadata": {},
     "output_type": "execute_result"
    }
   ],
   "source": [
    "type(str)"
   ]
  },
  {
   "cell_type": "code",
   "execution_count": 75,
   "id": "98f60c34-71f1-42ef-b8aa-5341a3a2e542",
   "metadata": {},
   "outputs": [
    {
     "ename": "TypeError",
     "evalue": "'str' object does not support item assignment",
     "output_type": "error",
     "traceback": [
      "\u001b[0;31m---------------------------------------------------------------------------\u001b[0m",
      "\u001b[0;31mTypeError\u001b[0m                                 Traceback (most recent call last)",
      "Cell \u001b[0;32mIn[75], line 1\u001b[0m\n\u001b[0;32m----> 1\u001b[0m \u001b[38;5;28;43mstr\u001b[39;49m\u001b[43m[\u001b[49m\u001b[38;5;241;43m2\u001b[39;49m\u001b[43m]\u001b[49m\u001b[38;5;241m=\u001b[39m\u001b[38;5;241m12\u001b[39m\n",
      "\u001b[0;31mTypeError\u001b[0m: 'str' object does not support item assignment"
     ]
    }
   ],
   "source": [
    "str[2]=12#we cant change index in the string"
   ]
  },
  {
   "cell_type": "code",
   "execution_count": 84,
   "id": "5b310eb6-4159-4530-8e32-f51d8d7933d2",
   "metadata": {},
   "outputs": [
    {
     "name": "stdout",
     "output_type": "stream",
     "text": [
      "JAAN JA\n"
     ]
    }
   ],
   "source": [
    "str=\"JAAN JA\"# we can change whole string\n",
    "print(str)"
   ]
  },
  {
   "cell_type": "code",
   "execution_count": 83,
   "id": "92c27b92-9994-40c1-ad62-d1d4f503e5cb",
   "metadata": {},
   "outputs": [],
   "source": [
    "  #press  tab , in str2. to see its all functions"
   ]
  },
  {
   "cell_type": "code",
   "execution_count": 85,
   "id": "8bd06d8c-5953-4cbd-9a15-e802b55ed49d",
   "metadata": {},
   "outputs": [],
   "source": [
    "str2=\"india\"\n"
   ]
  },
  {
   "cell_type": "code",
   "execution_count": null,
   "id": "a2c38a61-9378-4895-a0f0-704823db9bb0",
   "metadata": {},
   "outputs": [],
   "source": [
    "str2."
   ]
  },
  {
   "cell_type": "code",
   "execution_count": 115,
   "id": "79ac23c8-3fc2-4eb3-b70d-2a6f46d07586",
   "metadata": {},
   "outputs": [],
   "source": [
    "str3=\"Pw SkiLlS DaTA SCienCE\""
   ]
  },
  {
   "cell_type": "code",
   "execution_count": 88,
   "id": "20ff9c51-1e35-410a-90cb-78891f545779",
   "metadata": {},
   "outputs": [
    {
     "data": {
      "text/plain": [
       "'k'"
      ]
     },
     "execution_count": 88,
     "metadata": {},
     "output_type": "execute_result"
    }
   ],
   "source": [
    "str3[4]"
   ]
  },
  {
   "cell_type": "code",
   "execution_count": 90,
   "id": "6fabd6a6-b55a-4bab-8745-ecc47e9e1796",
   "metadata": {},
   "outputs": [
    {
     "data": {
      "text/plain": [
       "' SkiLlS DaTA SCienCE'"
      ]
     },
     "execution_count": 90,
     "metadata": {},
     "output_type": "execute_result"
    }
   ],
   "source": [
    "str3[2:]"
   ]
  },
  {
   "cell_type": "code",
   "execution_count": 91,
   "id": "a6efccb8-94f5-4e08-bdf3-7d0012b5e7e4",
   "metadata": {},
   "outputs": [
    {
     "data": {
      "text/plain": [
       "'Pw SkiLlS DaTA SCienCE'"
      ]
     },
     "execution_count": 91,
     "metadata": {},
     "output_type": "execute_result"
    }
   ],
   "source": [
    "str3[:]"
   ]
  },
  {
   "cell_type": "code",
   "execution_count": 93,
   "id": "b6087727-936e-4d23-8d39-bca2c3838625",
   "metadata": {},
   "outputs": [
    {
     "data": {
      "text/plain": [
       "'Pw Ski'"
      ]
     },
     "execution_count": 93,
     "metadata": {},
     "output_type": "execute_result"
    }
   ],
   "source": [
    "str3[:6]"
   ]
  },
  {
   "cell_type": "code",
   "execution_count": 97,
   "id": "3acc0a5e-34b6-4f96-92aa-a355da55f465",
   "metadata": {},
   "outputs": [
    {
     "data": {
      "text/plain": [
       "22"
      ]
     },
     "execution_count": 97,
     "metadata": {},
     "output_type": "execute_result"
    }
   ],
   "source": [
    "len(str3)"
   ]
  },
  {
   "cell_type": "code",
   "execution_count": 99,
   "id": "641744b3-4f0b-4991-9091-eb08f1ce72ff",
   "metadata": {},
   "outputs": [
    {
     "data": {
      "text/plain": [
       "'lS DaTA SCi'"
      ]
     },
     "execution_count": 99,
     "metadata": {},
     "output_type": "execute_result"
    }
   ],
   "source": [
    "str3[-15:-4]"
   ]
  },
  {
   "cell_type": "code",
   "execution_count": 104,
   "id": "2aa86c33-4033-4f88-980d-0883d3396e07",
   "metadata": {},
   "outputs": [
    {
     "data": {
      "text/plain": [
       "'P kLSDT CeC'"
      ]
     },
     "execution_count": 104,
     "metadata": {},
     "output_type": "execute_result"
    }
   ],
   "source": [
    "str3[0:22:2]"
   ]
  },
  {
   "cell_type": "code",
   "execution_count": 106,
   "id": "67bcca5d-4880-4475-9ac6-571cd81a09e8",
   "metadata": {},
   "outputs": [
    {
     "data": {
      "text/plain": [
       "'ECneiCS ATaD SlLikS wP'"
      ]
     },
     "execution_count": 106,
     "metadata": {},
     "output_type": "execute_result"
    }
   ],
   "source": [
    "str3[::-1]#print reverse"
   ]
  },
  {
   "cell_type": "code",
   "execution_count": 109,
   "id": "cf48dcb4-c135-4884-98f4-48d3ed8cd0bb",
   "metadata": {},
   "outputs": [
    {
     "data": {
      "text/plain": [
       "'EniS'"
      ]
     },
     "execution_count": 109,
     "metadata": {},
     "output_type": "execute_result"
    }
   ],
   "source": [
    "str3[:14:-2]# counts from backward in case of neg"
   ]
  },
  {
   "cell_type": "code",
   "execution_count": 124,
   "id": "f8567838-0115-47e8-aca3-65870d86c57e",
   "metadata": {},
   "outputs": [],
   "source": [
    "#concatenation"
   ]
  },
  {
   "cell_type": "code",
   "execution_count": 127,
   "id": "d2061b86-717a-4949-84a1-3726b81d23d1",
   "metadata": {},
   "outputs": [
    {
     "name": "stdout",
     "output_type": "stream",
     "text": [
      "Pw SkiLlS DaTA SCienCEJAAN JA\n"
     ]
    }
   ],
   "source": [
    "print(str3 + str1)"
   ]
  },
  {
   "cell_type": "code",
   "execution_count": 128,
   "id": "bb83a29c-4d28-4948-9683-0b16bbf09d86",
   "metadata": {},
   "outputs": [
    {
     "data": {
      "text/plain": [
       "'JAAN JAJAAN JAJAAN JAJAAN JAJAAN JA'"
      ]
     },
     "execution_count": 128,
     "metadata": {},
     "output_type": "execute_result"
    }
   ],
   "source": [
    "str1*5"
   ]
  },
  {
   "cell_type": "code",
   "execution_count": 133,
   "id": "f19ec56c-df6d-4639-82fb-11a892646268",
   "metadata": {},
   "outputs": [
    {
     "data": {
      "text/plain": [
       "-1"
      ]
     },
     "execution_count": 133,
     "metadata": {},
     "output_type": "execute_result"
    }
   ],
   "source": [
    "str3.find(\"SkiLS\")#not present then gives -1"
   ]
  },
  {
   "cell_type": "code",
   "execution_count": 136,
   "id": "9df0cb95-6fe7-46b1-ae44-8a59cfae082a",
   "metadata": {},
   "outputs": [
    {
     "data": {
      "text/plain": [
       "3"
      ]
     },
     "execution_count": 136,
     "metadata": {},
     "output_type": "execute_result"
    }
   ],
   "source": [
    "#count\n",
    "str1.count('A')"
   ]
  },
  {
   "cell_type": "code",
   "execution_count": 137,
   "id": "da1b9639-9c5f-49f8-ae17-e8f28328c674",
   "metadata": {},
   "outputs": [
    {
     "data": {
      "text/plain": [
       "['Pw', 'SkiLlS', 'DaTA', 'SCienCE']"
      ]
     },
     "execution_count": 137,
     "metadata": {},
     "output_type": "execute_result"
    }
   ],
   "source": [
    "#split functions\n",
    "str3.split(\" \")"
   ]
  },
  {
   "cell_type": "code",
   "execution_count": 139,
   "id": "74021b18-bfd1-4302-80e5-0bb68d129cbe",
   "metadata": {},
   "outputs": [
    {
     "data": {
      "text/plain": [
       "['Pw ', 'kiLl', ' DaTA ', 'CienCE']"
      ]
     },
     "execution_count": 139,
     "metadata": {},
     "output_type": "execute_result"
    }
   ],
   "source": [
    "str3.split(\"S\")"
   ]
  },
  {
   "cell_type": "code",
   "execution_count": 140,
   "id": "063c64ee-e812-434f-bdb6-bc4461e1df75",
   "metadata": {},
   "outputs": [
    {
     "data": {
      "text/plain": [
       "('Pw SkiLlS DaTA SCienCE', '', '')"
      ]
     },
     "execution_count": 140,
     "metadata": {},
     "output_type": "execute_result"
    }
   ],
   "source": [
    "#parition\n",
    "str3.partition(\"s\")"
   ]
  },
  {
   "cell_type": "code",
   "execution_count": 141,
   "id": "0ae0e078-3a3e-497f-a11f-4bcc0d2b079a",
   "metadata": {},
   "outputs": [
    {
     "data": {
      "text/plain": [
       "'PW SKILLS DATA SCIENCE'"
      ]
     },
     "execution_count": 141,
     "metadata": {},
     "output_type": "execute_result"
    }
   ],
   "source": [
    "##string upper and lower\n",
    "str3.upper()"
   ]
  },
  {
   "cell_type": "code",
   "execution_count": 142,
   "id": "0d812251-ccfa-4fa2-a48e-a98ad6eb83a0",
   "metadata": {},
   "outputs": [
    {
     "data": {
      "text/plain": [
       "'pW sKIlLs dAta scIENce'"
      ]
     },
     "execution_count": 142,
     "metadata": {},
     "output_type": "execute_result"
    }
   ],
   "source": [
    "#swap case\n",
    "str3.swapcase()"
   ]
  },
  {
   "cell_type": "code",
   "execution_count": 144,
   "id": "f08b21c3-8767-4597-9ac6-f4df8614dc52",
   "metadata": {},
   "outputs": [
    {
     "data": {
      "text/plain": [
       "'Pw Skills Data Science'"
      ]
     },
     "execution_count": 144,
     "metadata": {},
     "output_type": "execute_result"
    }
   ],
   "source": [
    "str3.title()# every letter of 1st word will capital"
   ]
  },
  {
   "cell_type": "code",
   "execution_count": null,
   "id": "d3aaec4a-18f3-4075-94ac-2549ecc8d307",
   "metadata": {},
   "outputs": [],
   "source": []
  }
 ],
 "metadata": {
  "kernelspec": {
   "display_name": "Python 3 (ipykernel)",
   "language": "python",
   "name": "python3"
  },
  "language_info": {
   "codemirror_mode": {
    "name": "ipython",
    "version": 3
   },
   "file_extension": ".py",
   "mimetype": "text/x-python",
   "name": "python",
   "nbconvert_exporter": "python",
   "pygments_lexer": "ipython3",
   "version": "3.10.8"
  }
 },
 "nbformat": 4,
 "nbformat_minor": 5
}
