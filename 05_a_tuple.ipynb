{
 "cells": [
  {
   "cell_type": "code",
   "execution_count": 1,
   "id": "2e46faf0-0faa-4331-a4db-31b98593dd8a",
   "metadata": {},
   "outputs": [],
   "source": [
    "t=()"
   ]
  },
  {
   "cell_type": "code",
   "execution_count": 2,
   "id": "00ff4ea1-9962-4835-8478-91c5d4ecf76a",
   "metadata": {},
   "outputs": [
    {
     "data": {
      "text/plain": [
       "tuple"
      ]
     },
     "execution_count": 2,
     "metadata": {},
     "output_type": "execute_result"
    }
   ],
   "source": [
    "type(t)"
   ]
  },
  {
   "cell_type": "code",
   "execution_count": 37,
   "id": "1db69154-6438-474a-927b-46b5b74bcad1",
   "metadata": {},
   "outputs": [],
   "source": [
    "t1=(2.3,3+2j,'ANKUSH',None,False)"
   ]
  },
  {
   "cell_type": "code",
   "execution_count": 38,
   "id": "f61bc79e-f46a-410f-8ae4-f5b39d0e39fb",
   "metadata": {
    "tags": []
   },
   "outputs": [
    {
     "name": "stdout",
     "output_type": "stream",
     "text": [
      "(2.3, (3+2j), 'ANKUSH', None, False)\n"
     ]
    }
   ],
   "source": [
    "print(t1)"
   ]
  },
  {
   "cell_type": "code",
   "execution_count": 39,
   "id": "4586a2fe-b3a9-4725-a3be-a752ca523917",
   "metadata": {},
   "outputs": [
    {
     "data": {
      "text/plain": [
       "2.3"
      ]
     },
     "execution_count": 39,
     "metadata": {},
     "output_type": "execute_result"
    }
   ],
   "source": [
    "t1[0]#don't think in tuple we use t1(0),to find index we "
   ]
  },
  {
   "cell_type": "code",
   "execution_count": 40,
   "id": "8b52b13d-167b-4f11-96c4-562f7a6d0a9c",
   "metadata": {},
   "outputs": [
    {
     "data": {
      "text/plain": [
       "'ANKUSH'"
      ]
     },
     "execution_count": 40,
     "metadata": {},
     "output_type": "execute_result"
    }
   ],
   "source": [
    "t1[2]#If \"ANKUSH\" then not printed it prints only if 'ANKUSH'"
   ]
  },
  {
   "cell_type": "code",
   "execution_count": 41,
   "id": "9383ea32-ea2d-4d57-8ff6-0e6927ff24e4",
   "metadata": {},
   "outputs": [
    {
     "data": {
      "text/plain": [
       "(False, None, 'ANKUSH', (3+2j), 2.3)"
      ]
     },
     "execution_count": 41,
     "metadata": {},
     "output_type": "execute_result"
    }
   ],
   "source": [
    "#reverse order\n",
    "t1[::-1]\n",
    "#this is not ging to revers the original tuple to change original tuple we have to follow"
   ]
  },
  {
   "cell_type": "code",
   "execution_count": 32,
   "id": "4caa352f-e834-410d-843f-4e1ae0513e16",
   "metadata": {},
   "outputs": [],
   "source": [
    "t1=t1[::-1]"
   ]
  },
  {
   "cell_type": "code",
   "execution_count": 33,
   "id": "67a040a9-5156-4542-b1cf-1ad524a696d5",
   "metadata": {},
   "outputs": [
    {
     "name": "stdout",
     "output_type": "stream",
     "text": [
      "(False, None, 'ANKUSH', (3+2j), 2.3)\n"
     ]
    }
   ],
   "source": [
    "print(t1)"
   ]
  },
  {
   "cell_type": "code",
   "execution_count": 43,
   "id": "1547c88e-9d72-4c10-9778-4f53b0320355",
   "metadata": {},
   "outputs": [
    {
     "data": {
      "text/plain": [
       "(2.3, (3+2j), 'ANKUSH')"
      ]
     },
     "execution_count": 43,
     "metadata": {},
     "output_type": "execute_result"
    }
   ],
   "source": [
    "t1[0:3]"
   ]
  },
  {
   "cell_type": "code",
   "execution_count": 44,
   "id": "3675e916-39d8-4b1b-98f7-2f96c6a76b5d",
   "metadata": {},
   "outputs": [
    {
     "data": {
      "text/plain": [
       "0"
      ]
     },
     "execution_count": 44,
     "metadata": {},
     "output_type": "execute_result"
    }
   ],
   "source": [
    "t1.count(4)"
   ]
  },
  {
   "cell_type": "code",
   "execution_count": 46,
   "id": "4aff45c6-2fb0-4608-953a-05194ac56f10",
   "metadata": {},
   "outputs": [
    {
     "data": {
      "text/plain": [
       "1"
      ]
     },
     "execution_count": 46,
     "metadata": {},
     "output_type": "execute_result"
    }
   ],
   "source": [
    "t1.count(2.3)"
   ]
  },
  {
   "cell_type": "code",
   "execution_count": 52,
   "id": "845cfaa3-5e42-49a4-96d8-1306bd98725a",
   "metadata": {},
   "outputs": [
    {
     "data": {
      "text/plain": [
       "1"
      ]
     },
     "execution_count": 52,
     "metadata": {},
     "output_type": "execute_result"
    }
   ],
   "source": [
    "t1.index(3+2j)"
   ]
  },
  {
   "cell_type": "code",
   "execution_count": 49,
   "id": "03e8ce02-54cf-4930-afb5-d3849b7cdeeb",
   "metadata": {},
   "outputs": [
    {
     "data": {
      "text/plain": [
       "2"
      ]
     },
     "execution_count": 49,
     "metadata": {},
     "output_type": "execute_result"
    }
   ],
   "source": [
    "t1.index(\"ANKUSH\")"
   ]
  },
  {
   "cell_type": "code",
   "execution_count": 74,
   "id": "05794e0f-c698-498d-aec8-c6edee467ebf",
   "metadata": {},
   "outputs": [],
   "source": [
    "t3=(False,1,\"hey\",0,3.3,\"good evening\")"
   ]
  },
  {
   "cell_type": "code",
   "execution_count": 75,
   "id": "440209aa-b787-49d5-a153-0f85af147c4d",
   "metadata": {},
   "outputs": [
    {
     "data": {
      "text/plain": [
       "0"
      ]
     },
     "execution_count": 75,
     "metadata": {},
     "output_type": "execute_result"
    }
   ],
   "source": [
    "t3.index(0) #it consider False value as zero that's why "
   ]
  },
  {
   "cell_type": "code",
   "execution_count": 64,
   "id": "5eb18d5f-ad17-4f26-ba1e-67cdba0017fd",
   "metadata": {},
   "outputs": [
    {
     "data": {
      "text/plain": [
       "1"
      ]
     },
     "execution_count": 64,
     "metadata": {},
     "output_type": "execute_result"
    }
   ],
   "source": [
    "t3.index(1)#now 1 is index at 0 hence answer should be 0..but,"
   ]
  },
  {
   "cell_type": "code",
   "execution_count": 76,
   "id": "7abf78b0-78be-42de-8aa4-4524d158d595",
   "metadata": {},
   "outputs": [],
   "source": [
    "t4=(2,1,True)"
   ]
  },
  {
   "cell_type": "code",
   "execution_count": 79,
   "id": "26f8cb71-06d5-40f5-a5d0-cd4cada4b436",
   "metadata": {},
   "outputs": [
    {
     "data": {
      "text/plain": [
       "1"
      ]
     },
     "execution_count": 79,
     "metadata": {},
     "output_type": "execute_result"
    }
   ],
   "source": [
    "t4.index(True)# it consider 1 value as True value therefore gives 1 index , if you write 0 at place of 1 then False index will execute as 2"
   ]
  },
  {
   "cell_type": "code",
   "execution_count": 80,
   "id": "7259a8d4-94bb-4797-829e-de7f8b87291c",
   "metadata": {},
   "outputs": [
    {
     "data": {
      "text/plain": [
       "2"
      ]
     },
     "execution_count": 80,
     "metadata": {},
     "output_type": "execute_result"
    }
   ],
   "source": [
    "t4.count(True)#surprrise why answer is 2,???"
   ]
  },
  {
   "cell_type": "code",
   "execution_count": 81,
   "id": "c67c1499-0505-41bb-890b-2a5e425ac101",
   "metadata": {},
   "outputs": [
    {
     "data": {
      "text/plain": [
       "2"
      ]
     },
     "execution_count": 81,
     "metadata": {},
     "output_type": "execute_result"
    }
   ],
   "source": [
    "t4.count(1)# it also consider true a 1 value"
   ]
  },
  {
   "cell_type": "code",
   "execution_count": 82,
   "id": "16a5b523-bf1e-48fa-be43-56d12623dac2",
   "metadata": {},
   "outputs": [],
   "source": [
    "#difference with list for tuple"
   ]
  },
  {
   "cell_type": "code",
   "execution_count": 83,
   "id": "d9c22ac9-8346-45e8-932d-e253db0f20ca",
   "metadata": {},
   "outputs": [],
   "source": [
    "t2=(1,2,34,5,6,6)"
   ]
  },
  {
   "cell_type": "code",
   "execution_count": 85,
   "id": "20efb9f9-5a5d-42ac-93d7-4c07aaba96ce",
   "metadata": {},
   "outputs": [
    {
     "data": {
      "text/plain": [
       "1"
      ]
     },
     "execution_count": 85,
     "metadata": {},
     "output_type": "execute_result"
    }
   ],
   "source": [
    "t2[0]"
   ]
  },
  {
   "cell_type": "code",
   "execution_count": 86,
   "id": "5b102db3-539b-4bf0-9b19-6ba2c9448830",
   "metadata": {},
   "outputs": [
    {
     "ename": "TypeError",
     "evalue": "'tuple' object does not support item assignment",
     "output_type": "error",
     "traceback": [
      "\u001b[0;31m---------------------------------------------------------------------------\u001b[0m",
      "\u001b[0;31mTypeError\u001b[0m                                 Traceback (most recent call last)",
      "Cell \u001b[0;32mIn[86], line 1\u001b[0m\n\u001b[0;32m----> 1\u001b[0m \u001b[43mt\u001b[49m\u001b[43m[\u001b[49m\u001b[38;5;241;43m2\u001b[39;49m\u001b[43m]\u001b[49m\u001b[38;5;241m=\u001b[39m\u001b[38;5;241m100\u001b[39m\u001b[38;5;66;03m#wecan not replace tuple like list...it throws erroe\u001b[39;00m\n",
      "\u001b[0;31mTypeError\u001b[0m: 'tuple' object does not support item assignment"
     ]
    }
   ],
   "source": [
    "t[2]=100#wecan not replace tuple like list...it throws erroe"
   ]
  },
  {
   "cell_type": "code",
   "execution_count": 87,
   "id": "1a091500-2aeb-4ece-a88d-6d9586cc7842",
   "metadata": {},
   "outputs": [],
   "source": [
    "# tuple is immutable , we cannot update or change the value of tuple"
   ]
  },
  {
   "cell_type": "code",
   "execution_count": 88,
   "id": "4e73253c-5f00-4750-bc96-5352ccc3c6fa",
   "metadata": {},
   "outputs": [
    {
     "name": "stdout",
     "output_type": "stream",
     "text": [
      "1\n",
      "2\n",
      "34\n",
      "5\n",
      "6\n",
      "6\n"
     ]
    }
   ],
   "source": [
    "for i in t2:\n",
    "    print(i)"
   ]
  },
  {
   "cell_type": "code",
   "execution_count": 89,
   "id": "a0af1282-a666-4651-9b69-440e2970fe34",
   "metadata": {},
   "outputs": [
    {
     "name": "stdout",
     "output_type": "stream",
     "text": [
      "2.3 <class 'float'>\n",
      "(3+2j) <class 'complex'>\n",
      "ANKUSH <class 'str'>\n",
      "None <class 'NoneType'>\n",
      "False <class 'bool'>\n"
     ]
    }
   ],
   "source": [
    "for i in t:\n",
    "    print(i, type(i))"
   ]
  },
  {
   "cell_type": "code",
   "execution_count": 90,
   "id": "dadad0f8-08f5-45c5-88da-eefb98ef7474",
   "metadata": {},
   "outputs": [
    {
     "data": {
      "text/plain": [
       "(1, 2, 34, 5, 6, 6, 1, 2, 34, 5, 6, 6)"
      ]
     },
     "execution_count": 90,
     "metadata": {},
     "output_type": "execute_result"
    }
   ],
   "source": [
    "t2*2"
   ]
  },
  {
   "cell_type": "code",
   "execution_count": 91,
   "id": "5f460181-a003-4c7a-9a00-5f9fa781b22d",
   "metadata": {},
   "outputs": [
    {
     "data": {
      "text/plain": [
       "34"
      ]
     },
     "execution_count": 91,
     "metadata": {},
     "output_type": "execute_result"
    }
   ],
   "source": [
    "max(t2)"
   ]
  },
  {
   "cell_type": "code",
   "execution_count": 93,
   "id": "6341a07b-67b4-481c-80c0-a0550072ff4e",
   "metadata": {},
   "outputs": [
    {
     "data": {
      "text/plain": [
       "1"
      ]
     },
     "execution_count": 93,
     "metadata": {},
     "output_type": "execute_result"
    }
   ],
   "source": [
    "min(t2)"
   ]
  },
  {
   "cell_type": "code",
   "execution_count": 97,
   "id": "73a3ecf4-4e30-4750-8906-a55bb3f670cd",
   "metadata": {},
   "outputs": [],
   "source": [
    "t1=(1,2,4,6)\n",
    "t2=(2,4,6,8)\n",
    "t=[4,6,8,9]"
   ]
  },
  {
   "cell_type": "code",
   "execution_count": 98,
   "id": "45280ce9-597a-4238-9170-1a90eab435aa",
   "metadata": {},
   "outputs": [],
   "source": [
    "t3=(t1,t2)"
   ]
  },
  {
   "cell_type": "code",
   "execution_count": 99,
   "id": "8acbabbf-b142-44c6-8566-a5e556789581",
   "metadata": {},
   "outputs": [
    {
     "data": {
      "text/plain": [
       "((1, 2, 4, 6), (2, 4, 6, 8))"
      ]
     },
     "execution_count": 99,
     "metadata": {},
     "output_type": "execute_result"
    }
   ],
   "source": [
    "t3"
   ]
  },
  {
   "cell_type": "code",
   "execution_count": 104,
   "id": "3c40f815-c990-4e30-bf18-c9fea02ba673",
   "metadata": {},
   "outputs": [],
   "source": [
    "t4=(t1,t)#we can kept list inside tuple"
   ]
  },
  {
   "cell_type": "code",
   "execution_count": 103,
   "id": "e0502184-2450-45eb-aeb9-edc3678eb222",
   "metadata": {},
   "outputs": [
    {
     "data": {
      "text/plain": [
       "((1, 2, 4, 6), [4, 6, 8, 9])"
      ]
     },
     "execution_count": 103,
     "metadata": {},
     "output_type": "execute_result"
    }
   ],
   "source": [
    "t4"
   ]
  },
  {
   "cell_type": "code",
   "execution_count": 108,
   "id": "653d4595-df11-4d16-aef0-c9a1e9fee4f5",
   "metadata": {},
   "outputs": [
    {
     "ename": "NameError",
     "evalue": "name 't3' is not defined",
     "output_type": "error",
     "traceback": [
      "\u001b[0;31m---------------------------------------------------------------------------\u001b[0m",
      "\u001b[0;31mNameError\u001b[0m                                 Traceback (most recent call last)",
      "Cell \u001b[0;32mIn[108], line 1\u001b[0m\n\u001b[0;32m----> 1\u001b[0m \u001b[38;5;28;01mdel\u001b[39;00m t3\u001b[38;5;66;03m#delete is possible in case of t3\u001b[39;00m\n",
      "\u001b[0;31mNameError\u001b[0m: name 't3' is not defined"
     ]
    }
   ],
   "source": [
    "del t3#delete is possible in case of t3"
   ]
  },
  {
   "cell_type": "code",
   "execution_count": 109,
   "id": "4fba1206-a1ad-4773-bbe4-c9f1482f560d",
   "metadata": {},
   "outputs": [
    {
     "data": {
      "text/plain": [
       "4"
      ]
     },
     "execution_count": 109,
     "metadata": {},
     "output_type": "execute_result"
    }
   ],
   "source": [
    "len(t2)"
   ]
  },
  {
   "cell_type": "code",
   "execution_count": 110,
   "id": "88c378a2-eaef-4334-b214-c1139bd1aa66",
   "metadata": {},
   "outputs": [
    {
     "data": {
      "text/plain": [
       "True"
      ]
     },
     "execution_count": 110,
     "metadata": {},
     "output_type": "execute_result"
    }
   ],
   "source": [
    "4 in t1"
   ]
  },
  {
   "cell_type": "code",
   "execution_count": null,
   "id": "9d876152-a5b8-4ae5-ad5d-099d49faac26",
   "metadata": {},
   "outputs": [],
   "source": []
  }
 ],
 "metadata": {
  "kernelspec": {
   "display_name": "Python 3 (ipykernel)",
   "language": "python",
   "name": "python3"
  },
  "language_info": {
   "codemirror_mode": {
    "name": "ipython",
    "version": 3
   },
   "file_extension": ".py",
   "mimetype": "text/x-python",
   "name": "python",
   "nbconvert_exporter": "python",
   "pygments_lexer": "ipython3",
   "version": "3.10.8"
  }
 },
 "nbformat": 4,
 "nbformat_minor": 5
}
