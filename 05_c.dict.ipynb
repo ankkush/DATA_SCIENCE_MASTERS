{
 "cells": [
  {
   "cell_type": "code",
   "execution_count": 1,
   "id": "bbff676f-81bf-4062-9b3b-7edb55d2ba77",
   "metadata": {},
   "outputs": [],
   "source": [
    "d={}"
   ]
  },
  {
   "cell_type": "code",
   "execution_count": 2,
   "id": "020741e5-8cdf-4e0e-b66e-9968b842cb11",
   "metadata": {},
   "outputs": [
    {
     "data": {
      "text/plain": [
       "dict"
      ]
     },
     "execution_count": 2,
     "metadata": {},
     "output_type": "execute_result"
    }
   ],
   "source": [
    "type(d)"
   ]
  },
  {
   "cell_type": "code",
   "execution_count": 4,
   "id": "ff436bbc-f022-4002-b078-8c008db934fe",
   "metadata": {},
   "outputs": [],
   "source": [
    "d={\"name\":\"ANKUSH\",\"email_ID\":\"ankush8908@gmail.com\",\"number\":98765433210}"
   ]
  },
  {
   "cell_type": "code",
   "execution_count": 5,
   "id": "4de56017-3706-4a2b-9921-d3f8c1932b30",
   "metadata": {},
   "outputs": [
    {
     "data": {
      "text/plain": [
       "{'name': 'ANKUSH', 'email_ID': 'ankush8908@gmail.com', 'number': 98765433210}"
      ]
     },
     "execution_count": 5,
     "metadata": {},
     "output_type": "execute_result"
    }
   ],
   "source": [
    "d"
   ]
  },
  {
   "cell_type": "code",
   "execution_count": 1,
   "id": "80b8fd18-1a3a-4717-b603-11fa026c3d40",
   "metadata": {},
   "outputs": [],
   "source": [
    "d2={\"name\":\"ANKUSH\",\"email_ID\":\"ankush8908@gmail.com\",\"number\":98765433210,\"name\":\"kush\"}"
   ]
  },
  {
   "cell_type": "code",
   "execution_count": 4,
   "id": "9748658b-203a-4f09-838e-1bd74e74c89d",
   "metadata": {},
   "outputs": [
    {
     "data": {
      "text/plain": [
       "{'name': 'kush', 'email_ID': 'ankush8908@gmail.com', 'number': 98765433210}"
      ]
     },
     "execution_count": 4,
     "metadata": {},
     "output_type": "execute_result"
    }
   ],
   "source": [
    "d2# if there is two name then it select always first one(key cant repeat)"
   ]
  },
  {
   "cell_type": "code",
   "execution_count": 6,
   "id": "a12d5802-04fd-40b8-a4ea-7715895c277a",
   "metadata": {},
   "outputs": [],
   "source": [
    "d3={123:\"good\"}"
   ]
  },
  {
   "cell_type": "code",
   "execution_count": 7,
   "id": "5cdea7e1-6a24-4bfa-b9e1-820f48ab3379",
   "metadata": {},
   "outputs": [
    {
     "data": {
      "text/plain": [
       "{123: 'good'}"
      ]
     },
     "execution_count": 7,
     "metadata": {},
     "output_type": "execute_result"
    }
   ],
   "source": [
    "d3"
   ]
  },
  {
   "cell_type": "code",
   "execution_count": 8,
   "id": "6cf11cc4-3158-47ef-bb36-671cbdbe740d",
   "metadata": {},
   "outputs": [],
   "source": [
    "d4={123.23:\"abs\"}"
   ]
  },
  {
   "cell_type": "code",
   "execution_count": 9,
   "id": "6f1dd9b4-3346-4526-a523-4457a3ed2b58",
   "metadata": {},
   "outputs": [
    {
     "data": {
      "text/plain": [
       "{123.23: 'abs'}"
      ]
     },
     "execution_count": 9,
     "metadata": {},
     "output_type": "execute_result"
    }
   ],
   "source": [
    "d4"
   ]
  },
  {
   "cell_type": "code",
   "execution_count": 10,
   "id": "6b1f6243-db8b-4881-916d-c37bcc1f63ed",
   "metadata": {},
   "outputs": [],
   "source": [
    "d5={True:\"ankush\"}"
   ]
  },
  {
   "cell_type": "code",
   "execution_count": 11,
   "id": "1b976b30-f7e0-46e3-8f61-5a63238fedba",
   "metadata": {},
   "outputs": [
    {
     "data": {
      "text/plain": [
       "{True: 'ankush'}"
      ]
     },
     "execution_count": 11,
     "metadata": {},
     "output_type": "execute_result"
    }
   ],
   "source": [
    "d5"
   ]
  },
  {
   "cell_type": "code",
   "execution_count": 12,
   "id": "580ef7d3-75a5-4c58-a4c2-c6359c97793a",
   "metadata": {},
   "outputs": [
    {
     "ename": "SyntaxError",
     "evalue": "incomplete input (404366591.py, line 1)",
     "output_type": "error",
     "traceback": [
      "\u001b[0;36m  Cell \u001b[0;32mIn[12], line 1\u001b[0;36m\u001b[0m\n\u001b[0;31m    d6={#:\"ok\"}  #this time it is not going to exectute it throws an error , hence special case as a key is not permitable\u001b[0m\n\u001b[0m                                                                                                                          ^\u001b[0m\n\u001b[0;31mSyntaxError\u001b[0m\u001b[0;31m:\u001b[0m incomplete input\n"
     ]
    }
   ],
   "source": [
    "d6={#:\"ok\"}  #this time it is not going to exectute it throws an error , hence special case as a key is not permitable"
   ]
  },
  {
   "cell_type": "code",
   "execution_count": 13,
   "id": "1cbbf049-0c8a-4aaf-8823-02898c2c6210",
   "metadata": {},
   "outputs": [],
   "source": [
    "d8={\"@\":122}#as @ is double quotes means now it is string so now it will execute the result"
   ]
  },
  {
   "cell_type": "code",
   "execution_count": 14,
   "id": "733400c0-be4a-4bab-9b74-06d88eeb1888",
   "metadata": {},
   "outputs": [
    {
     "data": {
      "text/plain": [
       "{'@': 122}"
      ]
     },
     "execution_count": 14,
     "metadata": {},
     "output_type": "execute_result"
    }
   ],
   "source": [
    "d8"
   ]
  },
  {
   "cell_type": "code",
   "execution_count": 17,
   "id": "982aa1a8-2321-4261-affb-00fb2cc66756",
   "metadata": {},
   "outputs": [],
   "source": [
    "d9={(1,2,3):\"REAL\"}# as tubles values cant not change (as it is  immutable and hasable )so that is can use as akey in dict"
   ]
  },
  {
   "cell_type": "code",
   "execution_count": 16,
   "id": "bcd59d38-90ee-4f4c-8de2-2a05f0594d1c",
   "metadata": {},
   "outputs": [
    {
     "data": {
      "text/plain": [
       "{(1, 2, 3): 'REAL'}"
      ]
     },
     "execution_count": 16,
     "metadata": {},
     "output_type": "execute_result"
    }
   ],
   "source": [
    "d9"
   ]
  },
  {
   "cell_type": "code",
   "execution_count": 20,
   "id": "b6505e57-362b-414c-8272-9a1ee028df56",
   "metadata": {},
   "outputs": [
    {
     "ename": "SyntaxError",
     "evalue": "unterminated string literal (detected at line 1) (4117308241.py, line 1)",
     "output_type": "error",
     "traceback": [
      "\u001b[0;36m  Cell \u001b[0;32mIn[20], line 1\u001b[0;36m\u001b[0m\n\u001b[0;31m    d10:{[1,2]\":\"kush\"}# as it is unhasable and mutable ..hence it can't use as a key in dict\u001b[0m\n\u001b[0m                     ^\u001b[0m\n\u001b[0;31mSyntaxError\u001b[0m\u001b[0;31m:\u001b[0m unterminated string literal (detected at line 1)\n"
     ]
    }
   ],
   "source": [
    "d10:{[1,2]\":\"kush\"}# as it is unhasable and mutable ..hence it can't use as a key in dict"
   ]
  },
  {
   "cell_type": "code",
   "execution_count": 19,
   "id": "ac7bd75f-756c-4f58-a148-df83877f10d3",
   "metadata": {},
   "outputs": [
    {
     "ename": "TypeError",
     "evalue": "unhashable type: 'set'",
     "output_type": "error",
     "traceback": [
      "\u001b[0;31m---------------------------------------------------------------------------\u001b[0m",
      "\u001b[0;31mTypeError\u001b[0m                                 Traceback (most recent call last)",
      "Cell \u001b[0;32mIn[19], line 1\u001b[0m\n\u001b[0;32m----> 1\u001b[0m d11:{{\u001b[38;5;241m1\u001b[39m,\u001b[38;5;241m2\u001b[39m}:\u001b[38;5;124m\"\u001b[39m\u001b[38;5;124mlikh diya\u001b[39m\u001b[38;5;124m\"\u001b[39m}\u001b[38;5;66;03m# as sets are also unhasable and mutable .therefore it can't be key ...and so that it's value will not execute\u001b[39;00m\n",
      "\u001b[0;31mTypeError\u001b[0m: unhashable type: 'set'"
     ]
    }
   ],
   "source": [
    "d11:{{1,2}:\"likh diya\"}# as sets are also unhasable and mutable .therefore it can't be key ...and so that it's value will not execute"
   ]
  },
  {
   "cell_type": "code",
   "execution_count": 21,
   "id": "3ad083ef-db07-4d3c-9dbc-c95aaf3858f4",
   "metadata": {},
   "outputs": [
    {
     "ename": "TypeError",
     "evalue": "unhashable type: 'dict'",
     "output_type": "error",
     "traceback": [
      "\u001b[0;31m---------------------------------------------------------------------------\u001b[0m",
      "\u001b[0;31mTypeError\u001b[0m                                 Traceback (most recent call last)",
      "Cell \u001b[0;32mIn[21], line 1\u001b[0m\n\u001b[0;32m----> 1\u001b[0m d14:{{\u001b[38;5;124m\"\u001b[39m\u001b[38;5;124myes\u001b[39m\u001b[38;5;124m\"\u001b[39m:\u001b[38;5;28;01mTrue\u001b[39;00m}:\u001b[38;5;28;01mFalse\u001b[39;00m} \u001b[38;5;66;03m# we can't chose dict in the dict..in short we can't chose dict as a key\u001b[39;00m\n",
      "\u001b[0;31mTypeError\u001b[0m: unhashable type: 'dict'"
     ]
    }
   ],
   "source": [
    "d14:{{\"yes\":True}:False} # we can't chose dict in the dict..in short we can't chose dict as a key"
   ]
  },
  {
   "cell_type": "code",
   "execution_count": 24,
   "id": "405eba0d-9268-41cb-937e-d9c574ac7270",
   "metadata": {},
   "outputs": [],
   "source": [
    "d15={\"Course_name\":[\"data science masters\", \"web development\",\"java with dsa\"]}"
   ]
  },
  {
   "cell_type": "code",
   "execution_count": 26,
   "id": "b8245962-4a9c-4b9a-a923-e8c5134d03a7",
   "metadata": {},
   "outputs": [
    {
     "data": {
      "text/plain": [
       "{'Course_name': ['data science masters', 'web development', 'java with dsa']}"
      ]
     },
     "execution_count": 26,
     "metadata": {},
     "output_type": "execute_result"
    }
   ],
   "source": [
    "d15# we can chose mutiple values for single key...and here we can put values in List"
   ]
  },
  {
   "cell_type": "code",
   "execution_count": 31,
   "id": "7dde864d-dbd3-476c-87b3-18281cc3c6a5",
   "metadata": {},
   "outputs": [],
   "source": [
    "d16={\"KEy\":(1,2,3,4)}"
   ]
  },
  {
   "cell_type": "code",
   "execution_count": 33,
   "id": "421f28a5-3de9-46c2-9d67-696dd51293a9",
   "metadata": {},
   "outputs": [
    {
     "data": {
      "text/plain": [
       "{'KEy': (1, 2, 3, 4)}"
      ]
     },
     "execution_count": 33,
     "metadata": {},
     "output_type": "execute_result"
    }
   ],
   "source": [
    "d16# value in tuple is also allow, similiary values in set is also allowed"
   ]
  },
  {
   "cell_type": "code",
   "execution_count": 61,
   "id": "f38ca173-5155-454c-8e14-afe65c8403d3",
   "metadata": {},
   "outputs": [],
   "source": [
    "d17={\"KEY\":{\"NAME\":\"REAL_KUSH\",\"COURSE\":\"DSM\"}}"
   ]
  },
  {
   "cell_type": "code",
   "execution_count": 62,
   "id": "4f290b14-310e-43c2-b790-5550cef82b6a",
   "metadata": {},
   "outputs": [
    {
     "data": {
      "text/plain": [
       "{'KEY': {'NAME': 'REAL_KUSH', 'COURSE': 'DSM'}}"
      ]
     },
     "execution_count": 62,
     "metadata": {},
     "output_type": "execute_result"
    }
   ],
   "source": [
    "d17 # dict in values is allowed "
   ]
  },
  {
   "cell_type": "code",
   "execution_count": 37,
   "id": "1d7995c1-f048-4983-a6be-d9591dae77c8",
   "metadata": {},
   "outputs": [],
   "source": [
    "# and above is also known as nested dictionary"
   ]
  },
  {
   "cell_type": "code",
   "execution_count": 41,
   "id": "2cf4f67f-2525-4e0d-8709-1fccde4f8e78",
   "metadata": {},
   "outputs": [],
   "source": [
    "d18={\"Batch_name\":[\"data science masters \", \"web dev\",\"JDS\"], \"Start_date\":(28,14,21),\"Mentor_name\":{\"KRISH NAIK\",\"SUDANSHU\",\"hitesh\",\"navin\",\"anurag\",\"haider\"}}"
   ]
  },
  {
   "cell_type": "code",
   "execution_count": 42,
   "id": "a5ac3b6d-d684-4e56-8a19-7fbdb743c012",
   "metadata": {},
   "outputs": [
    {
     "data": {
      "text/plain": [
       "{'Batch_name': ['data science masters ', 'web dev', 'JDS'],\n",
       " 'Start_date': (28, 14, 21),\n",
       " 'Mentor_name': {'KRISH NAIK',\n",
       "  'SUDANSHU',\n",
       "  'anurag',\n",
       "  'haider',\n",
       "  'hitesh',\n",
       "  'navin'}}"
      ]
     },
     "execution_count": 42,
     "metadata": {},
     "output_type": "execute_result"
    }
   ],
   "source": [
    "d18"
   ]
  },
  {
   "cell_type": "code",
   "execution_count": 43,
   "id": "64791415-0d3d-4765-a7b9-d97eff355c58",
   "metadata": {},
   "outputs": [],
   "source": [
    "#Lets add pairs of keys and values in dict"
   ]
  },
  {
   "cell_type": "code",
   "execution_count": 46,
   "id": "324a1ff4-b003-477a-ae5c-f8cb3d8b4eb8",
   "metadata": {},
   "outputs": [],
   "source": [
    "d18[\"timing\"]=(8,9,7)"
   ]
  },
  {
   "cell_type": "code",
   "execution_count": 47,
   "id": "efd6c4aa-86b1-4fc7-8571-67f2592011c1",
   "metadata": {},
   "outputs": [
    {
     "data": {
      "text/plain": [
       "{'Batch_name': ['data science masters ', 'web dev', 'JDS'],\n",
       " 'Start_date': (28, 14, 21),\n",
       " 'Mentor_name': {'KRISH NAIK',\n",
       "  'SUDANSHU',\n",
       "  'anurag',\n",
       "  'haider',\n",
       "  'hitesh',\n",
       "  'navin'},\n",
       " 'timing': (8, 9, 7)}"
      ]
     },
     "execution_count": 47,
     "metadata": {},
     "output_type": "execute_result"
    }
   ],
   "source": [
    "d18"
   ]
  },
  {
   "cell_type": "code",
   "execution_count": 49,
   "id": "67dce70a-e2f5-47d8-80f8-abc014983058",
   "metadata": {},
   "outputs": [
    {
     "data": {
      "text/plain": [
       "['data science masters ', 'web dev', 'JDS']"
      ]
     },
     "execution_count": 49,
     "metadata": {},
     "output_type": "execute_result"
    }
   ],
   "source": [
    "d18[\"Batch_name\"]"
   ]
  },
  {
   "cell_type": "code",
   "execution_count": 51,
   "id": "3acf15d2-d6c0-4598-9970-755a544670a9",
   "metadata": {},
   "outputs": [
    {
     "data": {
      "text/plain": [
       "{'KRISH NAIK', 'SUDANSHU', 'anurag', 'haider', 'hitesh', 'navin'}"
      ]
     },
     "execution_count": 51,
     "metadata": {},
     "output_type": "execute_result"
    }
   ],
   "source": [
    "d18[\"Mentor_name\"]"
   ]
  },
  {
   "cell_type": "code",
   "execution_count": 52,
   "id": "660acb49-b815-441c-85a6-b96485eaec05",
   "metadata": {},
   "outputs": [
    {
     "ename": "TypeError",
     "evalue": "'dict' object is not callable",
     "output_type": "error",
     "traceback": [
      "\u001b[0;31m---------------------------------------------------------------------------\u001b[0m",
      "\u001b[0;31mTypeError\u001b[0m                                 Traceback (most recent call last)",
      "Cell \u001b[0;32mIn[52], line 1\u001b[0m\n\u001b[0;32m----> 1\u001b[0m \u001b[43md18\u001b[49m\u001b[43m(\u001b[49m\u001b[38;5;124;43m\"\u001b[39;49m\u001b[38;5;124;43mBest_batch\u001b[39;49m\u001b[38;5;124;43m\"\u001b[39;49m\u001b[43m)\u001b[49m\u001b[38;5;66;03m# which is not available in dict\u001b[39;00m\n",
      "\u001b[0;31mTypeError\u001b[0m: 'dict' object is not callable"
     ]
    }
   ],
   "source": [
    "d18(\"Best_batch\")# which is not available in dict"
   ]
  },
  {
   "cell_type": "code",
   "execution_count": 56,
   "id": "50305814-830d-485d-8548-788d672f6251",
   "metadata": {},
   "outputs": [],
   "source": [
    "d18[\"STUDENT_NAME\"]=\"REAL_KUSH\""
   ]
  },
  {
   "cell_type": "code",
   "execution_count": 57,
   "id": "ca791e8d-b817-44a5-b6e7-65cbb216ae6c",
   "metadata": {},
   "outputs": [
    {
     "data": {
      "text/plain": [
       "{'Batch_name': ['data science masters ', 'web dev', 'JDS'],\n",
       " 'Start_date': (28, 14, 21),\n",
       " 'Mentor_name': {'KRISH NAIK',\n",
       "  'SUDANSHU',\n",
       "  'anurag',\n",
       "  'haider',\n",
       "  'hitesh',\n",
       "  'navin'},\n",
       " 'timing': (8, 9, 7),\n",
       " 'STUDENT_NAME': 'REAL_KUSH'}"
      ]
     },
     "execution_count": 57,
     "metadata": {},
     "output_type": "execute_result"
    }
   ],
   "source": [
    "d18"
   ]
  },
  {
   "cell_type": "code",
   "execution_count": 58,
   "id": "6020be27-6902-4a92-84b8-be82e12e9ff1",
   "metadata": {},
   "outputs": [
    {
     "data": {
      "text/plain": [
       "'REAL_KUSH'"
      ]
     },
     "execution_count": 58,
     "metadata": {},
     "output_type": "execute_result"
    }
   ],
   "source": [
    "d18[\"STUDENT_NAME\"]"
   ]
  },
  {
   "cell_type": "code",
   "execution_count": 60,
   "id": "19173bab-86f5-4412-a634-312523b8b0a6",
   "metadata": {},
   "outputs": [
    {
     "data": {
      "text/plain": [
       "'real_kush'"
      ]
     },
     "execution_count": 60,
     "metadata": {},
     "output_type": "execute_result"
    }
   ],
   "source": [
    "d18[\"STUDENT_NAME\"].lower()"
   ]
  },
  {
   "cell_type": "code",
   "execution_count": 64,
   "id": "17880cac-b05d-4d63-9ec5-dbbc4812b58c",
   "metadata": {},
   "outputs": [
    {
     "data": {
      "text/plain": [
       "'Real_Kush'"
      ]
     },
     "execution_count": 64,
     "metadata": {},
     "output_type": "execute_result"
    }
   ],
   "source": [
    "d18[\"STUDENT_NAME\"].title()"
   ]
  },
  {
   "cell_type": "code",
   "execution_count": 65,
   "id": "19082523-8a15-41b1-a401-755459bcb208",
   "metadata": {},
   "outputs": [
    {
     "data": {
      "text/plain": [
       "{'KEY': {'NAME': 'REAL_KUSH', 'COURSE': 'DSM'}}"
      ]
     },
     "execution_count": 65,
     "metadata": {},
     "output_type": "execute_result"
    }
   ],
   "source": [
    "d17"
   ]
  },
  {
   "cell_type": "code",
   "execution_count": 66,
   "id": "554ad012-d8fd-471d-8765-9b53dad95df0",
   "metadata": {},
   "outputs": [
    {
     "data": {
      "text/plain": [
       "{'NAME': 'REAL_KUSH', 'COURSE': 'DSM'}"
      ]
     },
     "execution_count": 66,
     "metadata": {},
     "output_type": "execute_result"
    }
   ],
   "source": [
    "d17[\"KEY\"]"
   ]
  },
  {
   "cell_type": "code",
   "execution_count": 69,
   "id": "44216545-9ce8-4984-bc1e-cb9b133914a5",
   "metadata": {},
   "outputs": [
    {
     "data": {
      "text/plain": [
       "dict"
      ]
     },
     "execution_count": 69,
     "metadata": {},
     "output_type": "execute_result"
    }
   ],
   "source": [
    "type(d17[\"KEY\"])"
   ]
  },
  {
   "cell_type": "code",
   "execution_count": 70,
   "id": "071a702d-8491-4415-aa60-f3a2e513835c",
   "metadata": {},
   "outputs": [
    {
     "data": {
      "text/plain": [
       "'DSM'"
      ]
     },
     "execution_count": 70,
     "metadata": {},
     "output_type": "execute_result"
    }
   ],
   "source": [
    "d17[\"KEY\"][\"COURSE\"]  # hence, to go at values od nested dict we have to go one by one"
   ]
  },
  {
   "cell_type": "code",
   "execution_count": 71,
   "id": "968635bb-0e00-45c3-8fcd-f9651e6f062c",
   "metadata": {},
   "outputs": [],
   "source": [
    "#TO add something in nested dict"
   ]
  },
  {
   "cell_type": "code",
   "execution_count": 74,
   "id": "365011a6-e2b7-4041-a62d-d7ed7c9c6136",
   "metadata": {},
   "outputs": [],
   "source": [
    "d17[\"Mentor_name\"]=\"KRISH NAIK\""
   ]
  },
  {
   "cell_type": "code",
   "execution_count": 75,
   "id": "3bee99b4-2b29-4de4-ba35-f45f3be2e3cd",
   "metadata": {},
   "outputs": [
    {
     "data": {
      "text/plain": [
       "{'KEY': {'NAME': 'REAL_KUSH', 'COURSE': 'DSM'}, 'Mentor_name': 'KRISH NAIK'}"
      ]
     },
     "execution_count": 75,
     "metadata": {},
     "output_type": "execute_result"
    }
   ],
   "source": [
    "d17"
   ]
  },
  {
   "cell_type": "code",
   "execution_count": 76,
   "id": "f5f61c34-db7f-4615-924a-aeb3aa876dbe",
   "metadata": {},
   "outputs": [],
   "source": [
    "del d17[\"Mentor_name\"]# to delete something"
   ]
  },
  {
   "cell_type": "code",
   "execution_count": 77,
   "id": "9f99cac6-1837-40dc-9c9f-88c3a0c7c96a",
   "metadata": {},
   "outputs": [
    {
     "data": {
      "text/plain": [
       "{'KEY': {'NAME': 'REAL_KUSH', 'COURSE': 'DSM'}}"
      ]
     },
     "execution_count": 77,
     "metadata": {},
     "output_type": "execute_result"
    }
   ],
   "source": [
    "d17"
   ]
  },
  {
   "cell_type": "code",
   "execution_count": 78,
   "id": "9e63e546-ca7e-48af-9b11-5b51cb0bf0fb",
   "metadata": {},
   "outputs": [],
   "source": [
    "# some existing functions of dict"
   ]
  },
  {
   "cell_type": "code",
   "execution_count": 79,
   "id": "1313223f-fbe0-4fc4-a9db-f6d5dd8243a3",
   "metadata": {},
   "outputs": [],
   "source": [
    "d15.clear()"
   ]
  },
  {
   "cell_type": "code",
   "execution_count": 80,
   "id": "7defac8b-9f19-43e0-8afe-d79df292f19f",
   "metadata": {},
   "outputs": [
    {
     "data": {
      "text/plain": [
       "{}"
      ]
     },
     "execution_count": 80,
     "metadata": {},
     "output_type": "execute_result"
    }
   ],
   "source": [
    "d15"
   ]
  },
  {
   "cell_type": "code",
   "execution_count": 82,
   "id": "aa3f1160-a966-4f89-b2b4-d313c916c90a",
   "metadata": {},
   "outputs": [
    {
     "data": {
      "text/plain": [
       "5"
      ]
     },
     "execution_count": 82,
     "metadata": {},
     "output_type": "execute_result"
    }
   ],
   "source": [
    "len(d18)#shows value of key pairs totak number"
   ]
  },
  {
   "cell_type": "code",
   "execution_count": 83,
   "id": "8655313a-f20f-42a5-bea9-8483216d7b7c",
   "metadata": {},
   "outputs": [
    {
     "data": {
      "text/plain": [
       "dict_keys(['Batch_name', 'Start_date', 'Mentor_name', 'timing', 'STUDENT_NAME'])"
      ]
     },
     "execution_count": 83,
     "metadata": {},
     "output_type": "execute_result"
    }
   ],
   "source": [
    "d18.keys() #it gives all keys values"
   ]
  },
  {
   "cell_type": "code",
   "execution_count": 84,
   "id": "22ab739b-e5ec-4551-a9e8-adf4d2568226",
   "metadata": {},
   "outputs": [
    {
     "data": {
      "text/plain": [
       "dict_values([['data science masters ', 'web dev', 'JDS'], (28, 14, 21), {'hitesh', 'KRISH NAIK', 'navin', 'haider', 'SUDANSHU', 'anurag'}, (8, 9, 7), 'REAL_KUSH'])"
      ]
     },
     "execution_count": 84,
     "metadata": {},
     "output_type": "execute_result"
    }
   ],
   "source": [
    "d18.values()#show values"
   ]
  },
  {
   "cell_type": "code",
   "execution_count": 87,
   "id": "adc340e0-9c03-4757-a220-619cf5c31bbc",
   "metadata": {},
   "outputs": [
    {
     "data": {
      "text/plain": [
       "[['data science masters ', 'web dev', 'JDS'],\n",
       " (28, 14, 21),\n",
       " {'KRISH NAIK', 'SUDANSHU', 'anurag', 'haider', 'hitesh', 'navin'},\n",
       " (8, 9, 7),\n",
       " 'REAL_KUSH']"
      ]
     },
     "execution_count": 87,
     "metadata": {},
     "output_type": "execute_result"
    }
   ],
   "source": [
    "list(d18.values())# we can convert in list"
   ]
  },
  {
   "cell_type": "code",
   "execution_count": 88,
   "id": "8cdb1b4f-190d-488e-9533-ea72f7c77fbe",
   "metadata": {},
   "outputs": [
    {
     "data": {
      "text/plain": [
       "['Batch_name', 'Start_date', 'Mentor_name', 'timing', 'STUDENT_NAME']"
      ]
     },
     "execution_count": 88,
     "metadata": {},
     "output_type": "execute_result"
    }
   ],
   "source": [
    "list(d18.keys())"
   ]
  },
  {
   "cell_type": "code",
   "execution_count": 91,
   "id": "9ad0130e-e04b-42e2-956a-6db0667a9981",
   "metadata": {},
   "outputs": [
    {
     "data": {
      "text/plain": [
       "dict_items([('Batch_name', ['data science masters ', 'web dev', 'JDS']), ('Start_date', (28, 14, 21)), ('Mentor_name', {'hitesh', 'KRISH NAIK', 'navin', 'haider', 'SUDANSHU', 'anurag'}), ('timing', (8, 9, 7)), ('STUDENT_NAME', 'REAL_KUSH')])"
      ]
     },
     "execution_count": 91,
     "metadata": {},
     "output_type": "execute_result"
    }
   ],
   "source": [
    "d18.items()# gives complete ans"
   ]
  },
  {
   "cell_type": "code",
   "execution_count": 90,
   "id": "357e98f4-65ba-4983-b5ec-1564002bebb8",
   "metadata": {},
   "outputs": [
    {
     "data": {
      "text/plain": [
       "[('Batch_name', ['data science masters ', 'web dev', 'JDS']),\n",
       " ('Start_date', (28, 14, 21)),\n",
       " ('Mentor_name',\n",
       "  {'KRISH NAIK', 'SUDANSHU', 'anurag', 'haider', 'hitesh', 'navin'}),\n",
       " ('timing', (8, 9, 7)),\n",
       " ('STUDENT_NAME', 'REAL_KUSH')]"
      ]
     },
     "execution_count": 90,
     "metadata": {},
     "output_type": "execute_result"
    }
   ],
   "source": [
    "list(d18.items())"
   ]
  },
  {
   "cell_type": "code",
   "execution_count": 92,
   "id": "79e8d613-de9b-4a6f-b373-0d97cbf611d4",
   "metadata": {},
   "outputs": [
    {
     "data": {
      "text/plain": [
       "{'Batch_name': ['data science masters ', 'web dev', 'JDS'],\n",
       " 'Start_date': (28, 14, 21),\n",
       " 'Mentor_name': {'KRISH NAIK',\n",
       "  'SUDANSHU',\n",
       "  'anurag',\n",
       "  'haider',\n",
       "  'hitesh',\n",
       "  'navin'},\n",
       " 'timing': (8, 9, 7),\n",
       " 'STUDENT_NAME': 'REAL_KUSH'}"
      ]
     },
     "execution_count": 92,
     "metadata": {},
     "output_type": "execute_result"
    }
   ],
   "source": [
    "d18"
   ]
  },
  {
   "cell_type": "code",
   "execution_count": 93,
   "id": "d0a7e493-ca34-46ba-ac30-c66b53ba51b8",
   "metadata": {},
   "outputs": [],
   "source": [
    "d19=d18.copy()"
   ]
  },
  {
   "cell_type": "code",
   "execution_count": 94,
   "id": "f15c4dc0-0ad2-40b3-9466-195f37bc57ab",
   "metadata": {},
   "outputs": [
    {
     "data": {
      "text/plain": [
       "{'Batch_name': ['data science masters ', 'web dev', 'JDS'],\n",
       " 'Start_date': (28, 14, 21),\n",
       " 'Mentor_name': {'KRISH NAIK',\n",
       "  'SUDANSHU',\n",
       "  'anurag',\n",
       "  'haider',\n",
       "  'hitesh',\n",
       "  'navin'},\n",
       " 'timing': (8, 9, 7),\n",
       " 'STUDENT_NAME': 'REAL_KUSH'}"
      ]
     },
     "execution_count": 94,
     "metadata": {},
     "output_type": "execute_result"
    }
   ],
   "source": [
    "d19"
   ]
  },
  {
   "cell_type": "code",
   "execution_count": 95,
   "id": "e3b0f383-5963-4fb4-bb3a-f6f61110dd65",
   "metadata": {},
   "outputs": [],
   "source": [
    "d20=d18"
   ]
  },
  {
   "cell_type": "code",
   "execution_count": 96,
   "id": "79fe6353-8066-421b-88d7-984939c81a3e",
   "metadata": {},
   "outputs": [
    {
     "data": {
      "text/plain": [
       "{'Batch_name': ['data science masters ', 'web dev', 'JDS'],\n",
       " 'Start_date': (28, 14, 21),\n",
       " 'Mentor_name': {'KRISH NAIK',\n",
       "  'SUDANSHU',\n",
       "  'anurag',\n",
       "  'haider',\n",
       "  'hitesh',\n",
       "  'navin'},\n",
       " 'timing': (8, 9, 7),\n",
       " 'STUDENT_NAME': 'REAL_KUSH'}"
      ]
     },
     "execution_count": 96,
     "metadata": {},
     "output_type": "execute_result"
    }
   ],
   "source": [
    "d20"
   ]
  },
  {
   "cell_type": "code",
   "execution_count": 97,
   "id": "875ded21-abe5-4886-a6b3-576170a846ce",
   "metadata": {},
   "outputs": [],
   "source": [
    "# difference between d19 and d20, one is enterd by copy and othere by just using equals to sign"
   ]
  },
  {
   "cell_type": "code",
   "execution_count": 99,
   "id": "83bae7c1-6bf1-4fa1-b292-a9faff6df282",
   "metadata": {},
   "outputs": [],
   "source": [
    "del d18[\"STUDENT_NAME\"]"
   ]
  },
  {
   "cell_type": "code",
   "execution_count": 100,
   "id": "3caf7d39-1a43-491a-8bdf-1983c9695787",
   "metadata": {},
   "outputs": [
    {
     "data": {
      "text/plain": [
       "{'Batch_name': ['data science masters ', 'web dev', 'JDS'],\n",
       " 'Start_date': (28, 14, 21),\n",
       " 'Mentor_name': {'KRISH NAIK',\n",
       "  'SUDANSHU',\n",
       "  'anurag',\n",
       "  'haider',\n",
       "  'hitesh',\n",
       "  'navin'},\n",
       " 'timing': (8, 9, 7)}"
      ]
     },
     "execution_count": 100,
     "metadata": {},
     "output_type": "execute_result"
    }
   ],
   "source": [
    "d18"
   ]
  },
  {
   "cell_type": "code",
   "execution_count": 104,
   "id": "ca2f4c2b-b1fc-49e5-87ba-56a81bdab041",
   "metadata": {},
   "outputs": [
    {
     "data": {
      "text/plain": [
       "{'Batch_name': ['data science masters ', 'web dev', 'JDS'],\n",
       " 'Start_date': (28, 14, 21),\n",
       " 'Mentor_name': {'KRISH NAIK',\n",
       "  'SUDANSHU',\n",
       "  'anurag',\n",
       "  'haider',\n",
       "  'hitesh',\n",
       "  'navin'},\n",
       " 'timing': (8, 9, 7),\n",
       " 'STUDENT_NAME': 'REAL_KUSH'}"
      ]
     },
     "execution_count": 104,
     "metadata": {},
     "output_type": "execute_result"
    }
   ],
   "source": [
    "d19# here student name is present"
   ]
  },
  {
   "cell_type": "code",
   "execution_count": 103,
   "id": "13c51280-92d5-4b0f-8c96-df27d910a0a6",
   "metadata": {},
   "outputs": [
    {
     "data": {
      "text/plain": [
       "{'Batch_name': ['data science masters ', 'web dev', 'JDS'],\n",
       " 'Start_date': (28, 14, 21),\n",
       " 'Mentor_name': {'KRISH NAIK',\n",
       "  'SUDANSHU',\n",
       "  'anurag',\n",
       "  'haider',\n",
       "  'hitesh',\n",
       "  'navin'},\n",
       " 'timing': (8, 9, 7)}"
      ]
     },
     "execution_count": 103,
     "metadata": {},
     "output_type": "execute_result"
    }
   ],
   "source": [
    "d20#here student name is not present"
   ]
  },
  {
   "cell_type": "code",
   "execution_count": 106,
   "id": "9b8069ca-c0a8-4ef0-a0c2-cc7bf2c9cb62",
   "metadata": {},
   "outputs": [
    {
     "ename": "TypeError",
     "evalue": "pop expected at least 1 argument, got 0",
     "output_type": "error",
     "traceback": [
      "\u001b[0;31m---------------------------------------------------------------------------\u001b[0m",
      "\u001b[0;31mTypeError\u001b[0m                                 Traceback (most recent call last)",
      "Cell \u001b[0;32mIn[106], line 1\u001b[0m\n\u001b[0;32m----> 1\u001b[0m \u001b[43md18\u001b[49m\u001b[38;5;241;43m.\u001b[39;49m\u001b[43mpop\u001b[49m\u001b[43m(\u001b[49m\u001b[43m)\u001b[49m\u001b[38;5;66;03m# in case of list it remove any random values , but in dict we have to give keys name(arguments) inside the bracket()\u001b[39;00m\n",
      "\u001b[0;31mTypeError\u001b[0m: pop expected at least 1 argument, got 0"
     ]
    }
   ],
   "source": [
    "d18.pop()# in case of list it remove any random values , but in dict we have to give keys name(arguments) inside the bracket()"
   ]
  },
  {
   "cell_type": "code",
   "execution_count": 107,
   "id": "6c7120cc-91ac-4cdb-b770-49f8101d4bbe",
   "metadata": {},
   "outputs": [
    {
     "data": {
      "text/plain": [
       "(8, 9, 7)"
      ]
     },
     "execution_count": 107,
     "metadata": {},
     "output_type": "execute_result"
    }
   ],
   "source": [
    "d18.pop(\"timing\")"
   ]
  },
  {
   "cell_type": "code",
   "execution_count": 108,
   "id": "801f58f8-e525-402d-b451-d8a78289bd67",
   "metadata": {},
   "outputs": [
    {
     "data": {
      "text/plain": [
       "{'Batch_name': ['data science masters ', 'web dev', 'JDS'],\n",
       " 'Start_date': (28, 14, 21),\n",
       " 'Mentor_name': {'KRISH NAIK',\n",
       "  'SUDANSHU',\n",
       "  'anurag',\n",
       "  'haider',\n",
       "  'hitesh',\n",
       "  'navin'}}"
      ]
     },
     "execution_count": 108,
     "metadata": {},
     "output_type": "execute_result"
    }
   ],
   "source": [
    "d18# here it remove timings"
   ]
  },
  {
   "cell_type": "code",
   "execution_count": 115,
   "id": "32cc26b6-1fcf-4bb2-867f-c4562c9ad2a9",
   "metadata": {},
   "outputs": [
    {
     "data": {
      "text/plain": [
       "{1: ('a', 'A', 'b', 'B'), 2: ('a', 'A', 'b', 'B'), 3: ('a', 'A', 'b', 'B')}"
      ]
     },
     "execution_count": 115,
     "metadata": {},
     "output_type": "execute_result"
    }
   ],
   "source": [
    "d={}# here i defined that d is dict\n",
    "d.fromkeys((1,2,3),(\"a\",\"A\",\"b\",\"B\"))"
   ]
  },
  {
   "cell_type": "code",
   "execution_count": 121,
   "id": "c8530093-da38-4975-8d44-dc9bb55eaf1e",
   "metadata": {},
   "outputs": [],
   "source": [
    "d21={\"Keys\":\"Values\",\"Keys1\":\"Values1\",\"Keys2\":\"Values2\"}\n",
    "d22={\"Keys3\":\"Values3\",\"Keys4\":\"Values4\",\"Keys5\":\"Values5\"}"
   ]
  },
  {
   "cell_type": "code",
   "execution_count": 122,
   "id": "5269c038-231b-4b41-b4a9-36d8bce84550",
   "metadata": {},
   "outputs": [
    {
     "data": {
      "text/plain": [
       "({'Keys': 'Values', 'Keys1': 'Values1', 'Keys2': 'Values2'},\n",
       " {'Keys3': 'Values3', 'Keys4': 'Values4', 'Keys5': 'Values5'})"
      ]
     },
     "execution_count": 122,
     "metadata": {},
     "output_type": "execute_result"
    }
   ],
   "source": [
    "(d21,d22)#dict inside a tuple is possible"
   ]
  },
  {
   "cell_type": "code",
   "execution_count": 123,
   "id": "bc3e2c75-ca77-4a95-aa2e-6cc7b55aecd8",
   "metadata": {},
   "outputs": [
    {
     "data": {
      "text/plain": [
       "[{'Keys': 'Values', 'Keys1': 'Values1', 'Keys2': 'Values2'},\n",
       " {'Keys3': 'Values3', 'Keys4': 'Values4', 'Keys5': 'Values5'}]"
      ]
     },
     "execution_count": 123,
     "metadata": {},
     "output_type": "execute_result"
    }
   ],
   "source": [
    "[d21,d22]"
   ]
  },
  {
   "cell_type": "code",
   "execution_count": 125,
   "id": "480a3b8f-089d-4548-b8c5-5634bf823fd2",
   "metadata": {},
   "outputs": [
    {
     "ename": "TypeError",
     "evalue": "unhashable type: 'dict'",
     "output_type": "error",
     "traceback": [
      "\u001b[0;31m---------------------------------------------------------------------------\u001b[0m",
      "\u001b[0;31mTypeError\u001b[0m                                 Traceback (most recent call last)",
      "Cell \u001b[0;32mIn[125], line 1\u001b[0m\n\u001b[0;32m----> 1\u001b[0m {d21,d22}\u001b[38;5;66;03m#dict in sets is not possible\u001b[39;00m\n",
      "\u001b[0;31mTypeError\u001b[0m: unhashable type: 'dict'"
     ]
    }
   ],
   "source": [
    "{d21,d22}#dict in sets is not possible"
   ]
  },
  {
   "cell_type": "code",
   "execution_count": 126,
   "id": "0f74f3cd-7c9c-405c-9014-de37dde74219",
   "metadata": {},
   "outputs": [],
   "source": [
    "d18.update(d21)"
   ]
  },
  {
   "cell_type": "code",
   "execution_count": 129,
   "id": "ce78ae50-05e2-482f-814d-4dcd306ed066",
   "metadata": {},
   "outputs": [
    {
     "data": {
      "text/plain": [
       "{'Batch_name': ['data science masters ', 'web dev', 'JDS'],\n",
       " 'Start_date': (28, 14, 21),\n",
       " 'Mentor_name': {'KRISH NAIK',\n",
       "  'SUDANSHU',\n",
       "  'anurag',\n",
       "  'haider',\n",
       "  'hitesh',\n",
       "  'navin'},\n",
       " 'Keys': 'Values',\n",
       " 'Keys1': 'Values1',\n",
       " 'Keys2': 'Values2'}"
      ]
     },
     "execution_count": 129,
     "metadata": {},
     "output_type": "execute_result"
    }
   ],
   "source": [
    "d18# puts values of d21 in d8"
   ]
  },
  {
   "cell_type": "code",
   "execution_count": 130,
   "id": "02e046d7-82fc-4c5b-8597-62297b8e3d45",
   "metadata": {},
   "outputs": [
    {
     "data": {
      "text/plain": [
       "{'Keys': 'Values', 'Keys1': 'Values1', 'Keys2': 'Values2'}"
      ]
     },
     "execution_count": 130,
     "metadata": {},
     "output_type": "execute_result"
    }
   ],
   "source": [
    "d21# d21 remains as it is"
   ]
  },
  {
   "cell_type": "code",
   "execution_count": 137,
   "id": "b896f50a-b268-4d71-9590-fd1a1bb43ece",
   "metadata": {},
   "outputs": [],
   "source": [
    "d3.update(d16)"
   ]
  },
  {
   "cell_type": "code",
   "execution_count": 139,
   "id": "6206a7ea-ddf7-45b7-bdb5-1437b27b89db",
   "metadata": {},
   "outputs": [
    {
     "data": {
      "text/plain": [
       "{123: 'good', 'KEy': (1, 2, 3, 4), 'STUDENT_NAME': 'REAL_KUSH'}"
      ]
     },
     "execution_count": 139,
     "metadata": {},
     "output_type": "execute_result"
    }
   ],
   "source": [
    "d3"
   ]
  },
  {
   "cell_type": "code",
   "execution_count": 140,
   "id": "dadabe37-e05b-46b0-aa12-6dd5b6c72694",
   "metadata": {},
   "outputs": [
    {
     "data": {
      "text/plain": [
       "{'KEy': (1, 2, 3, 4), 'STUDENT_NAME': 'REAL_KUSH'}"
      ]
     },
     "execution_count": 140,
     "metadata": {},
     "output_type": "execute_result"
    }
   ],
   "source": [
    "d16"
   ]
  },
  {
   "cell_type": "code",
   "execution_count": 142,
   "id": "2aa71fc2-e546-4596-ac79-babdcc69329c",
   "metadata": {},
   "outputs": [
    {
     "data": {
      "text/plain": [
       "'Values'"
      ]
     },
     "execution_count": 142,
     "metadata": {},
     "output_type": "execute_result"
    }
   ],
   "source": [
    "d21.get(\"Keys\")"
   ]
  },
  {
   "cell_type": "code",
   "execution_count": 143,
   "id": "aeb25c6c-37b0-468a-99eb-a23b10ed0a88",
   "metadata": {},
   "outputs": [
    {
     "data": {
      "text/plain": [
       "'Values'"
      ]
     },
     "execution_count": 143,
     "metadata": {},
     "output_type": "execute_result"
    }
   ],
   "source": [
    "d21[\"Keys\"]# above get function and this is same"
   ]
  },
  {
   "cell_type": "code",
   "execution_count": 145,
   "id": "42fa58b4-7735-4167-9546-19c589515cbf",
   "metadata": {},
   "outputs": [
    {
     "ename": "KeyError",
     "evalue": "'Keys4'",
     "output_type": "error",
     "traceback": [
      "\u001b[0;31m---------------------------------------------------------------------------\u001b[0m",
      "\u001b[0;31mKeyError\u001b[0m                                  Traceback (most recent call last)",
      "Cell \u001b[0;32mIn[145], line 2\u001b[0m\n\u001b[1;32m      1\u001b[0m \u001b[38;5;66;03m#but difference is that get never gives error from not existing values\u001b[39;00m\n\u001b[0;32m----> 2\u001b[0m \u001b[43md21\u001b[49m\u001b[43m[\u001b[49m\u001b[38;5;124;43m\"\u001b[39;49m\u001b[38;5;124;43mKeys4\u001b[39;49m\u001b[38;5;124;43m\"\u001b[39;49m\u001b[43m]\u001b[49m\n",
      "\u001b[0;31mKeyError\u001b[0m: 'Keys4'"
     ]
    }
   ],
   "source": [
    "#but difference is that get never gives error from not existing values\n",
    "d21[\"Keys4\"]# this shows error"
   ]
  },
  {
   "cell_type": "code",
   "execution_count": 149,
   "id": "ef1d75c2-d763-491f-aa55-24d86e42bf0f",
   "metadata": {},
   "outputs": [],
   "source": [
    "d21.get(\"hello\")#not shows an error"
   ]
  },
  {
   "cell_type": "markdown",
   "id": "9665203f-1300-47eb-aad6-0e5131581f38",
   "metadata": {},
   "source": [
    " # Dictionary Comprehension"
   ]
  },
  {
   "cell_type": "code",
   "execution_count": 167,
   "id": "9902f713-acb2-4d28-867c-850e79eb9a4c",
   "metadata": {},
   "outputs": [
    {
     "data": {
      "text/plain": [
       "{1: 1, 2: 4, 3: 9, 4: 16, 5: 25, 6: 36, 7: 49, 8: 64, 9: 81, 10: 100}"
      ]
     },
     "execution_count": 167,
     "metadata": {},
     "output_type": "execute_result"
    }
   ],
   "source": [
    "{i : i**2 for i in range(1,11)}"
   ]
  },
  {
   "cell_type": "code",
   "execution_count": 163,
   "id": "f86da898-6e12-44b3-b384-4aef86b5beac",
   "metadata": {},
   "outputs": [
    {
     "data": {
      "text/plain": [
       "[1, 2, 3, 4, 5, 6, 7, 8, 9, 10]"
      ]
     },
     "execution_count": 163,
     "metadata": {},
     "output_type": "execute_result"
    }
   ],
   "source": [
    "list(range(1,11))"
   ]
  },
  {
   "cell_type": "code",
   "execution_count": 170,
   "id": "202d1505-9a1d-4908-bc27-3b48ee24ca1f",
   "metadata": {},
   "outputs": [
    {
     "data": {
      "text/plain": [
       "{1: 11, 2: 12, 3: 13, 4: 14, 5: 15, 6: 16, 7: 17, 8: 18, 9: 19, 10: 20}"
      ]
     },
     "execution_count": 170,
     "metadata": {},
     "output_type": "execute_result"
    }
   ],
   "source": [
    "{i : i+10 for i in range(1,11)}"
   ]
  },
  {
   "cell_type": "code",
   "execution_count": 173,
   "id": "5d24fdd0-51e7-4b78-afd8-06f36d819b53",
   "metadata": {},
   "outputs": [
    {
     "data": {
      "text/plain": [
       "{1: 0.0,\n",
       " 2: 0.3010299956639812,\n",
       " 3: 0.47712125471966244,\n",
       " 4: 0.6020599913279624,\n",
       " 5: 0.6989700043360189,\n",
       " 6: 0.7781512503836436,\n",
       " 7: 0.8450980400142568,\n",
       " 8: 0.9030899869919435,\n",
       " 9: 0.9542425094393249,\n",
       " 10: 1.0}"
      ]
     },
     "execution_count": 173,
     "metadata": {},
     "output_type": "execute_result"
    }
   ],
   "source": [
    "import math\n",
    "{i:math.log10(i) for i in range(1,11)}"
   ]
  },
  {
   "cell_type": "code",
   "execution_count": 175,
   "id": "51bc6ede-c7bd-492c-b18a-7c748f527846",
   "metadata": {},
   "outputs": [
    {
     "data": {
      "text/plain": [
       "{'KEy': (1, 2, 3, 4), 'STUDENT_NAME': 'REAL_KUSH'}"
      ]
     },
     "execution_count": 175,
     "metadata": {},
     "output_type": "execute_result"
    }
   ],
   "source": [
    "d16"
   ]
  },
  {
   "cell_type": "code",
   "execution_count": 176,
   "id": "af576b9b-938e-4825-9c3e-157edd7c35ea",
   "metadata": {},
   "outputs": [
    {
     "data": {
      "text/plain": [
       "True"
      ]
     },
     "execution_count": 176,
     "metadata": {},
     "output_type": "execute_result"
    }
   ],
   "source": [
    "\"KEy\" in d16"
   ]
  },
  {
   "cell_type": "code",
   "execution_count": 177,
   "id": "04509c81-2117-47d1-b5e4-87d39d410377",
   "metadata": {},
   "outputs": [
    {
     "data": {
      "text/plain": [
       "False"
      ]
     },
     "execution_count": 177,
     "metadata": {},
     "output_type": "execute_result"
    }
   ],
   "source": [
    "\"REAL_KUSH\" in d16"
   ]
  },
  {
   "cell_type": "code",
   "execution_count": 178,
   "id": "f10701d8-d958-4750-87e0-2e3d997b7d06",
   "metadata": {},
   "outputs": [
    {
     "data": {
      "text/plain": [
       "False"
      ]
     },
     "execution_count": 178,
     "metadata": {},
     "output_type": "execute_result"
    }
   ],
   "source": [
    "1 in d16"
   ]
  },
  {
   "cell_type": "code",
   "execution_count": 180,
   "id": "18b96fbd-c253-4e22-bec5-b72798b30951",
   "metadata": {},
   "outputs": [],
   "source": [
    "d25={1: 0.0,\n",
    " 2: 0.3010299956639812,\n",
    " 3: 0.47712125471966244,\n",
    " 4: 0.6020599913279624,\n",
    " 5: 0.6989700043360189,\n",
    " 6: 0.7781512503836436,\n",
    " 7: 0.8450980400142568,\n",
    " 8: 0.9030899869919435,\n",
    " 9: 0.9542425094393249,\n",
    " 10: 1.0}"
   ]
  },
  {
   "cell_type": "code",
   "execution_count": 181,
   "id": "31695991-015b-402b-b5db-da8fd0fbe4a4",
   "metadata": {},
   "outputs": [
    {
     "data": {
      "text/plain": [
       "{1: 0.0,\n",
       " 2: 0.3010299956639812,\n",
       " 3: 0.47712125471966244,\n",
       " 4: 0.6020599913279624,\n",
       " 5: 0.6989700043360189,\n",
       " 6: 0.7781512503836436,\n",
       " 7: 0.8450980400142568,\n",
       " 8: 0.9030899869919435,\n",
       " 9: 0.9542425094393249,\n",
       " 10: 1.0}"
      ]
     },
     "execution_count": 181,
     "metadata": {},
     "output_type": "execute_result"
    }
   ],
   "source": [
    "d25"
   ]
  },
  {
   "cell_type": "code",
   "execution_count": 182,
   "id": "b62b6bed-66b2-4ce1-8112-237ac1e63b2a",
   "metadata": {},
   "outputs": [],
   "source": [
    "# lets do something to extract whose values are even nu"
   ]
  },
  {
   "cell_type": "code",
   "execution_count": 183,
   "id": "530b1eb6-099c-4694-ab1d-12de359180ee",
   "metadata": {},
   "outputs": [
    {
     "data": {
      "text/plain": [
       "dict_keys([1, 2, 3, 4, 5, 6, 7, 8, 9, 10])"
      ]
     },
     "execution_count": 183,
     "metadata": {},
     "output_type": "execute_result"
    }
   ],
   "source": [
    "d25.keys()"
   ]
  },
  {
   "cell_type": "code",
   "execution_count": 185,
   "id": "9024d747-e576-4707-8af5-63f92f54fbed",
   "metadata": {},
   "outputs": [
    {
     "name": "stdout",
     "output_type": "stream",
     "text": [
      "0.3010299956639812\n",
      "0.6020599913279624\n",
      "0.7781512503836436\n",
      "0.9030899869919435\n",
      "1.0\n"
     ]
    }
   ],
   "source": [
    "for i in d25.keys():\n",
    "    if i%2==0:\n",
    "        print(d25[i])"
   ]
  },
  {
   "cell_type": "code",
   "execution_count": null,
   "id": "66a35c7b-9c71-4b0f-841a-6a6ec04e66a4",
   "metadata": {},
   "outputs": [],
   "source": []
  }
 ],
 "metadata": {
  "kernelspec": {
   "display_name": "Python 3 (ipykernel)",
   "language": "python",
   "name": "python3"
  },
  "language_info": {
   "codemirror_mode": {
    "name": "ipython",
    "version": 3
   },
   "file_extension": ".py",
   "mimetype": "text/x-python",
   "name": "python",
   "nbconvert_exporter": "python",
   "pygments_lexer": "ipython3",
   "version": "3.10.8"
  }
 },
 "nbformat": 4,
 "nbformat_minor": 5
}
