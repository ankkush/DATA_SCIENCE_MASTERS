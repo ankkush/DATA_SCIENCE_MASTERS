{
 "cells": [
  {
   "cell_type": "code",
   "execution_count": 1,
   "id": "0823be1c-e6f1-4bf9-8d15-dc21f0a9444d",
   "metadata": {},
   "outputs": [
    {
     "data": {
      "text/plain": [
       "range(1, 10)"
      ]
     },
     "execution_count": 1,
     "metadata": {},
     "output_type": "execute_result"
    }
   ],
   "source": [
    "range(1,10)"
   ]
  },
  {
   "cell_type": "code",
   "execution_count": 2,
   "id": "0a4acc5a-4cb6-4f8b-95de-8462dad22d85",
   "metadata": {},
   "outputs": [
    {
     "name": "stdout",
     "output_type": "stream",
     "text": [
      "1\n",
      "2\n",
      "3\n",
      "4\n",
      "5\n",
      "6\n",
      "7\n",
      "8\n",
      "9\n"
     ]
    }
   ],
   "source": [
    "for i in range(1,10):\n",
    "    print(i)"
   ]
  },
  {
   "cell_type": "code",
   "execution_count": 3,
   "id": "8f7867cd-b042-4f0b-ac02-f7cdfdd649ed",
   "metadata": {},
   "outputs": [],
   "source": [
    "list=[1,2,3,4,5,5,6,\"HI\"]"
   ]
  },
  {
   "cell_type": "code",
   "execution_count": 7,
   "id": "59d1a1fd-adaa-4879-8760-85e56016b70c",
   "metadata": {},
   "outputs": [],
   "source": [
    "def test1(a):\n",
    "    n=[]\n",
    "    for i in a :\n",
    "        if type(i)==int:\n",
    "            n.append(i)\n",
    "    return n\n",
    "\n",
    "    "
   ]
  },
  {
   "cell_type": "code",
   "execution_count": 9,
   "id": "4a62a8ec-eb15-4795-b63b-fe1a5a72b223",
   "metadata": {},
   "outputs": [
    {
     "data": {
      "text/plain": [
       "[1, 2, 3, 4, 5, 5, 6]"
      ]
     },
     "execution_count": 9,
     "metadata": {},
     "output_type": "execute_result"
    }
   ],
   "source": [
    "test1(list)"
   ]
  },
  {
   "cell_type": "code",
   "execution_count": 10,
   "id": "bc393d51-e8c3-4b7f-ae76-baa67f9bf919",
   "metadata": {},
   "outputs": [],
   "source": [
    "#fibonacci series\n",
    "    # 0,1,1,2,3,5,8,11,..."
   ]
  },
  {
   "cell_type": "code",
   "execution_count": 5,
   "id": "b8954bda-15fb-4764-8bd3-320e8abd1c33",
   "metadata": {},
   "outputs": [],
   "source": [
    "def fibbconacci(n):\n",
    "    a,b=0,1\n",
    "    for i in range(n):\n",
    "        yield a\n",
    "        a,b=b,a+b"
   ]
  },
  {
   "cell_type": "code",
   "execution_count": 7,
   "id": "588e72f5-4fa0-4516-971e-f469aeac67db",
   "metadata": {},
   "outputs": [
    {
     "data": {
      "text/plain": [
       "<generator object fibbconacci at 0x7efd61739a10>"
      ]
     },
     "execution_count": 7,
     "metadata": {},
     "output_type": "execute_result"
    }
   ],
   "source": [
    "fibbconacci(10) #wrong way"
   ]
  },
  {
   "cell_type": "code",
   "execution_count": 8,
   "id": "e3e9610d-7aee-45b6-a148-77d7c6e5e8ed",
   "metadata": {},
   "outputs": [
    {
     "name": "stdout",
     "output_type": "stream",
     "text": [
      "0\n",
      "1\n",
      "1\n",
      "2\n",
      "3\n",
      "5\n",
      "8\n",
      "13\n",
      "21\n",
      "34\n"
     ]
    }
   ],
   "source": [
    "for i in fibbconacci(10):\n",
    "    print(i)"
   ]
  },
  {
   "cell_type": "code",
   "execution_count": null,
   "id": "efa8ca0e-2354-4cf9-bf98-3c9a0d3bff2f",
   "metadata": {},
   "outputs": [],
   "source": []
  }
 ],
 "metadata": {
  "kernelspec": {
   "display_name": "Python 3 (ipykernel)",
   "language": "python",
   "name": "python3"
  },
  "language_info": {
   "codemirror_mode": {
    "name": "ipython",
    "version": 3
   },
   "file_extension": ".py",
   "mimetype": "text/x-python",
   "name": "python",
   "nbconvert_exporter": "python",
   "pygments_lexer": "ipython3",
   "version": "3.10.8"
  }
 },
 "nbformat": 4,
 "nbformat_minor": 5
}
