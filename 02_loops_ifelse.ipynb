{
 "cells": [
  {
   "cell_type": "code",
   "execution_count": 1,
   "id": "2496466d-c5b2-4449-b28b-a2dd939906a3",
   "metadata": {},
   "outputs": [],
   "source": [
    "a='c'\n"
   ]
  },
  {
   "cell_type": "code",
   "execution_count": 2,
   "id": "80ae3294-9b76-4e72-8e76-4a7dc8c004b1",
   "metadata": {},
   "outputs": [
    {
     "data": {
      "text/plain": [
       "str"
      ]
     },
     "execution_count": 2,
     "metadata": {},
     "output_type": "execute_result"
    }
   ],
   "source": [
    "type(a)"
   ]
  },
  {
   "cell_type": "code",
   "execution_count": 3,
   "id": "dad20484-b30f-42b1-a7fc-d6fa884342d3",
   "metadata": {},
   "outputs": [
    {
     "name": "stdout",
     "output_type": "stream",
     "text": [
      "GOOd\n"
     ]
    }
   ],
   "source": [
    "print(\"GOOd\")"
   ]
  },
  {
   "cell_type": "code",
   "execution_count": 4,
   "id": "e607c7aa-7919-4959-865f-0d11d6ca7674",
   "metadata": {},
   "outputs": [
    {
     "name": "stdout",
     "output_type": "stream",
     "text": [
      "5\n"
     ]
    }
   ],
   "source": [
    "print(2+3)"
   ]
  },
  {
   "cell_type": "code",
   "execution_count": 5,
   "id": "4c693ec4-f1cb-4d69-9a0c-ca7801d482a5",
   "metadata": {},
   "outputs": [
    {
     "name": "stdout",
     "output_type": "stream",
     "text": [
      "My age is: 17\n"
     ]
    }
   ],
   "source": [
    "age=17\n",
    "print(\"My age is:\",age)"
   ]
  },
  {
   "cell_type": "code",
   "execution_count": 7,
   "id": "02550976-27d9-4e29-830a-eaf449d049f4",
   "metadata": {},
   "outputs": [
    {
     "name": "stdout",
     "output_type": "stream",
     "text": [
      "i got 67 in maths of gtu exams\n"
     ]
    }
   ],
   "source": [
    "# f string\n",
    "marks=67\n",
    "print(f\"i got {marks} in maths of gtu exams\")"
   ]
  },
  {
   "cell_type": "code",
   "execution_count": 8,
   "id": "0488bfc3-59a2-4f79-856c-4e4f62917044",
   "metadata": {},
   "outputs": [
    {
     "name": "stdout",
     "output_type": "stream",
     "text": [
      "i score 67 marks in math and 69 marks in PPS\n"
     ]
    }
   ],
   "source": [
    "maths=67\n",
    "pps=69\n",
    "print(f'i score {maths} marks in math and {pps} marks in PPS')"
   ]
  },
  {
   "cell_type": "code",
   "execution_count": 10,
   "id": "43ea7424-8332-44eb-990f-7b587f5c9d0b",
   "metadata": {},
   "outputs": [
    {
     "name": "stdout",
     "output_type": "stream",
     "text": [
      "i score 67 marks in math and 69 marks in PPS\n"
     ]
    }
   ],
   "source": [
    "# we can also print like this\n",
    "maths=67\n",
    "pps=69\n",
    "print('i score {} marks in math and {} marks in PPS'.format(maths,pps))"
   ]
  },
  {
   "cell_type": "code",
   "execution_count": 12,
   "id": "69cec5ad-3a89-4257-a60a-704199b4533f",
   "metadata": {},
   "outputs": [
    {
     "name": "stdout",
     "output_type": "stream",
     "text": [
      "i score 69 marks in math and 67 marks in PPS\n"
     ]
    }
   ],
   "source": [
    "maths=67\n",
    "pps=69\n",
    "print('i score {} marks in math and {} marks in PPS'.format(pps,maths))# possiblearise if ham aage piche kar denge"
   ]
  },
  {
   "cell_type": "code",
   "execution_count": 14,
   "id": "b1f5bc3f-87b3-46f2-acff-72fdd6d4c957",
   "metadata": {},
   "outputs": [
    {
     "name": "stdout",
     "output_type": "stream",
     "text": [
      "i score 67 marks in math and 69 marks in PPS\n"
     ]
    }
   ],
   "source": [
    "#to avoid above we can follow this one\n",
    "maths=67\n",
    "pps=69\n",
    "print('i score {M} marks in math and {P} marks in PPS'.format(P=pps,M=maths))\n",
    "#i know f string is easy but pata to hona chahiye na kuch bhi kabhi pe bhi kaam aa sakta hai"
   ]
  },
  {
   "cell_type": "code",
   "execution_count": 17,
   "id": "ff6edc27-65cc-4752-be2d-4dad61c4e970",
   "metadata": {},
   "outputs": [
    {
     "name": "stdout",
     "output_type": "stream",
     "text": [
      "My age is 17.5 and i complete my BE degree with the name of ANKUSH\n"
     ]
    }
   ],
   "source": [
    "name=\"ANKUSH\"\n",
    "age=17.5\n",
    "degree=\"BE\"\n",
    "print(f\"My age is {age} and i complete my {degree} degree with the name of {name}\")"
   ]
  },
  {
   "cell_type": "code",
   "execution_count": 19,
   "id": "62f96ed7-4119-493e-a4a3-7616fe00bf30",
   "metadata": {},
   "outputs": [
    {
     "name": "stdout",
     "output_type": "stream",
     "text": [
      "My age is 17.5 and i complete my BE degree with the name of ANKUSH\n"
     ]
    }
   ],
   "source": [
    "print(\"My age is {age} and i complete my {deg} degree with the name of {A}\".format(A=name,age=age,deg=degree))"
   ]
  },
  {
   "cell_type": "markdown",
   "id": "e8deb281-1f88-4586-9ba4-9c4d39fed976",
   "metadata": {},
   "source": [
    "# control flow\n",
    "##  decision making"
   ]
  },
  {
   "cell_type": "code",
   "execution_count": 20,
   "id": "6574c7bf-836b-4084-9107-83ad8afc35cd",
   "metadata": {},
   "outputs": [
    {
     "name": "stdout",
     "output_type": "stream",
     "text": [
      "YOU CAN GIVE VOTE\n"
     ]
    }
   ],
   "source": [
    "# if statement\n",
    "age=18\n",
    "if age>=18:\n",
    "    print(\"YOU CAN GIVE VOTE\")"
   ]
  },
  {
   "cell_type": "code",
   "execution_count": 21,
   "id": "71edc5b0-a69a-4983-ba18-98f0075eedbd",
   "metadata": {},
   "outputs": [
    {
     "data": {
      "text/plain": [
       "False"
      ]
     },
     "execution_count": 21,
     "metadata": {},
     "output_type": "execute_result"
    }
   ],
   "source": [
    "18>18"
   ]
  },
  {
   "cell_type": "code",
   "execution_count": 23,
   "id": "50d2a022-a848-4397-b43b-ba5ce8548fc8",
   "metadata": {},
   "outputs": [
    {
     "name": "stdin",
     "output_type": "stream",
     "text": [
      "Enter your age 13\n"
     ]
    }
   ],
   "source": [
    "#Taking input\n",
    "age=input(\"Enter your age\")"
   ]
  },
  {
   "cell_type": "code",
   "execution_count": 24,
   "id": "64285ab1-5419-4e95-a56c-7a18eed7ed39",
   "metadata": {},
   "outputs": [
    {
     "data": {
      "text/plain": [
       "'13'"
      ]
     },
     "execution_count": 24,
     "metadata": {},
     "output_type": "execute_result"
    }
   ],
   "source": [
    "age"
   ]
  },
  {
   "cell_type": "code",
   "execution_count": 25,
   "id": "774c6c79-86ec-4367-8487-fb5c6dc74cf2",
   "metadata": {},
   "outputs": [
    {
     "data": {
      "text/plain": [
       "str"
      ]
     },
     "execution_count": 25,
     "metadata": {},
     "output_type": "execute_result"
    }
   ],
   "source": [
    "#input always stores in str variabe\n",
    "type(age)"
   ]
  },
  {
   "cell_type": "code",
   "execution_count": 2,
   "id": "a3bd879c-101c-4a06-9561-9e589827995a",
   "metadata": {},
   "outputs": [
    {
     "name": "stdin",
     "output_type": "stream",
     "text": [
      "Enter your age : 45\n"
     ]
    },
    {
     "name": "stdout",
     "output_type": "stream",
     "text": [
      "you can work bruh!!\n"
     ]
    }
   ],
   "source": [
    "# take input from user and give message if age is more than 18 he work and less than 45 he can work\n",
    "age=int(input(\"Enter your age :\"))\n",
    "if age >=18 and age<=45:\n",
    "    print('you can work bruh!!')\n",
    "else:\n",
    "    print(\"sorry, you are not eligible for work\")"
   ]
  },
  {
   "cell_type": "code",
   "execution_count": 22,
   "id": "1de11708-165f-4a36-b585-9897db3cb632",
   "metadata": {},
   "outputs": [
    {
     "name": "stdin",
     "output_type": "stream",
     "text": [
      "ENTER THE PRICE OF PRODUCT 5000\n"
     ]
    },
    {
     "name": "stdout",
     "output_type": "stream",
     "text": [
      "Rs.4000.0 you have to give for the product that you buy \n"
     ]
    }
   ],
   "source": [
    "'''in mall-input the product price \n",
    "product >1000rs 20% off\n",
    "print the product price\n",
    "product<1000rs 30% off\n",
    "print theproduct price\n",
    "'''\n",
    "\n",
    "price_of_product=int(input(\"ENTER THE PRICE OF PRODUCT\"))\n",
    "if price_of_product>1000:\n",
    "    discount=(price_of_product*20)/100\n",
    "    final_price=price_of_product - discount\n",
    "    print(f'Rs.{final_price} you have to give for the product that you buy ')\n",
    "else: \n",
    "    discount=(price_of_product*30)/100\n",
    "    final_price=price_of_product - discount\n",
    "    print(f'Rs.{final_price} you have to give for the product that you buy ')\n"
   ]
  },
  {
   "cell_type": "code",
   "execution_count": 23,
   "id": "b3e478b0-69a1-401a-b6f0-88537422b4ff",
   "metadata": {},
   "outputs": [
    {
     "data": {
      "text/plain": [
       "1000.0"
      ]
     },
     "execution_count": 23,
     "metadata": {},
     "output_type": "execute_result"
    }
   ],
   "source": [
    "5000*(20/100)"
   ]
  },
  {
   "cell_type": "code",
   "execution_count": 24,
   "id": "f3c0ac41-bfee-4862-be3c-abc230e176eb",
   "metadata": {},
   "outputs": [
    {
     "data": {
      "text/plain": [
       "7.0"
      ]
     },
     "execution_count": 24,
     "metadata": {},
     "output_type": "execute_result"
    }
   ],
   "source": [
    "10*0.7"
   ]
  },
  {
   "cell_type": "code",
   "execution_count": 27,
   "id": "6c9ccac1-6cf7-4562-b0f7-be6a445e4c5d",
   "metadata": {},
   "outputs": [
    {
     "name": "stdin",
     "output_type": "stream",
     "text": [
      "ENTER THE PRICE OF PRODUCT 562\n"
     ]
    },
    {
     "name": "stdout",
     "output_type": "stream",
     "text": [
      "Rs393.4 you have to give for the product that you buy \n"
     ]
    }
   ],
   "source": [
    "# second method\n",
    "'''in mall-input the product price \n",
    "product >1000rs 20% off\n",
    "print the product price\n",
    "product<1000rs 30% off\n",
    "print theproduct price\n",
    "'''\n",
    "\n",
    "price_of_product=int(input(\"ENTER THE PRICE OF PRODUCT\"))\n",
    "if price_of_product>1000:\n",
    "    print(f'Rs{price_of_product*0.8} you have to give for the product that you buy ')  #20/100=0.2-->1-0.2=0.8\n",
    "else: \n",
    "    print(f'Rs{price_of_product*0.7} you have to give for the product that you buy ')#30/100=0.3-->0.7\n"
   ]
  },
  {
   "cell_type": "code",
   "execution_count": 32,
   "id": "57347ed0-d3ed-4948-9f0d-80c03a61b784",
   "metadata": {},
   "outputs": [
    {
     "name": "stdin",
     "output_type": "stream",
     "text": [
      "ENTER THE PRICE OF PRODUCT 4000\n"
     ]
    },
    {
     "name": "stdout",
     "output_type": "stream",
     "text": [
      "Rs3200.0 you have to give for the product that you buy \n"
     ]
    }
   ],
   "source": [
    "\n",
    "'''in mall-input the product price \n",
    "product >3000rs 20% off\n",
    "print the product price\n",
    "product>=2000 rs and <=3000 30% off\n",
    "print the product price\n",
    "product <=2000 40% off\n",
    "print the product price after removing discount\n",
    "'''\n",
    "\n",
    "price_of_product=int(input(\"ENTER THE PRICE OF PRODUCT\"))\n",
    "if price_of_product>3000:\n",
    "    print(f'Rs{price_of_product*0.8} you have to give for the product that you buy ')  #20/100=0.2-->1-0.2=0.8\n",
    "elif price_of_product>=2000 and product_of_price<=3000:\n",
    "    print(f'Rs{price_of_product*0.7} you have to give for the product that you buy ')#30/100=0.3-->0.7\n",
    "else: \n",
    "    print(f'Rs{price_of_product*0.6} you have to give for the product that you buy ')#40/100=0\n"
   ]
  },
  {
   "cell_type": "code",
   "execution_count": 2,
   "id": "8741d3ad-3ce5-40de-b019-e8c1843b26d1",
   "metadata": {},
   "outputs": [
    {
     "name": "stdin",
     "output_type": "stream",
     "text": [
      "Enter the money you have: 1232\n"
     ]
    },
    {
     "name": "stdout",
     "output_type": "stream",
     "text": [
      "We can buy pizza now!!\n"
     ]
    }
   ],
   "source": [
    "#single statement suites\n",
    "val=int(input(\"Enter the money you have:\"))\n",
    "if val<=999: print(\"Lets buy ice-crean\")\n",
    "else:print(\"We can buy pizza now!!\")\n"
   ]
  },
  {
   "cell_type": "markdown",
   "id": "c9beed95-2358-4a8a-9f70-8a40d59d0bdb",
   "metadata": {},
   "source": [
    "##LOOPS"
   ]
  },
  {
   "cell_type": "code",
   "execution_count": 9,
   "id": "52635eba-41d8-45b4-9782-6285e30888ef",
   "metadata": {},
   "outputs": [
    {
     "name": "stdout",
     "output_type": "stream",
     "text": [
      "paisa in bank remains is 4500\n",
      "paisa in bank remains is 4000\n",
      "paisa in bank remains is 3500\n",
      "paisa in bank remains is 3000\n",
      "paisa in bank remains is 2500\n",
      "paisa in bank remains is 2000\n",
      "paisa in bank remains is 1500\n",
      "paisa in bank remains is 1000\n",
      "paisa in bank remains is 500\n",
      "atm is almost empty\n"
     ]
    }
   ],
   "source": [
    "#while loops with else statement:\n",
    "Amount_in_Bank=4500\n",
    "while Amount_in_Bank!=0:\n",
    "    print(f'paisa in bank remains is {Amount_in_Bank}')\n",
    "    Amount_in_Bank=Amount_in_Bank - 500\n",
    "else:\n",
    "    print(\"atm is almost empty\")\n"
   ]
  },
  {
   "cell_type": "code",
   "execution_count": 11,
   "id": "af96f43b-e1f8-40b4-a247-f3b7d7faf035",
   "metadata": {},
   "outputs": [],
   "source": [
    "## LIST\n",
    "l1=[\"REAL\",2.4,\"NAMASTE\",\"VIRAT\",'jab tak jai jaan',452]"
   ]
  },
  {
   "cell_type": "code",
   "execution_count": 12,
   "id": "5afe6428-d024-4bc7-b039-40b1e065fa60",
   "metadata": {},
   "outputs": [
    {
     "data": {
      "text/plain": [
       "list"
      ]
     },
     "execution_count": 12,
     "metadata": {},
     "output_type": "execute_result"
    }
   ],
   "source": [
    "type(l1)"
   ]
  },
  {
   "cell_type": "code",
   "execution_count": 13,
   "id": "0d9abfd8-455f-4a22-b8fc-b94d0d1b68db",
   "metadata": {},
   "outputs": [
    {
     "data": {
      "text/plain": [
       "'REAL'"
      ]
     },
     "execution_count": 13,
     "metadata": {},
     "output_type": "execute_result"
    }
   ],
   "source": [
    "l1[0]"
   ]
  },
  {
   "cell_type": "code",
   "execution_count": 14,
   "id": "150a3b8d-47ec-4789-80fe-006e87fa9a3c",
   "metadata": {},
   "outputs": [
    {
     "data": {
      "text/plain": [
       "452"
      ]
     },
     "execution_count": 14,
     "metadata": {},
     "output_type": "execute_result"
    }
   ],
   "source": [
    "l1[5]"
   ]
  },
  {
   "cell_type": "code",
   "execution_count": 15,
   "id": "55a9ff47-7e6b-4cd7-a8b7-ad7c195d4e28",
   "metadata": {},
   "outputs": [
    {
     "name": "stdout",
     "output_type": "stream",
     "text": [
      "REAL\n",
      "2.4\n",
      "NAMASTE\n",
      "VIRAT\n",
      "jab tak jai jaan\n",
      "452\n"
     ]
    }
   ],
   "source": [
    "##For loops:\n",
    "\n",
    "l1=[\"REAL\",2.4,\"NAMASTE\",\"VIRAT\",'jab tak jai jaan',452]\n",
    "for i in l1:\n",
    "    print(i)"
   ]
  },
  {
   "cell_type": "code",
   "execution_count": 17,
   "id": "0c4a8612-02f2-431c-a0bc-0b39b963adae",
   "metadata": {},
   "outputs": [
    {
     "name": "stdout",
     "output_type": "stream",
     "text": [
      "REAL\n",
      "2.4\n",
      "NAMASTE\n",
      "THIS IS GREET, in india\n",
      "VIRAT\n",
      "jab tak jai jaan\n",
      "452\n"
     ]
    }
   ],
   "source": [
    "l1=[\"REAL\",2.4,\"NAMASTE\",\"VIRAT\",'jab tak jai jaan',452]\n",
    "for i in l1:\n",
    "    print(i)\n",
    "    if i==\"NAMASTE\":\n",
    "        print(\"THIS IS GREET, in india\")"
   ]
  },
  {
   "cell_type": "code",
   "execution_count": 19,
   "id": "b69d768c-396a-4a4b-a2b5-b6132e2a74aa",
   "metadata": {},
   "outputs": [
    {
     "name": "stdout",
     "output_type": "stream",
     "text": [
      "REAL 2.4 NAMASTE VIRAT jab tak jai jaan 452 "
     ]
    }
   ],
   "source": [
    "l1=[\"REAL\",2.4,\"NAMASTE\",\"VIRAT\",'jab tak jai jaan',452]\n",
    "for i in l1:\n",
    "    print(i,end=\" \")# using end\"\" the next line will  not print"
   ]
  },
  {
   "cell_type": "code",
   "execution_count": 20,
   "id": "54a869de-5c01-46ad-85ae-edd885737f2f",
   "metadata": {},
   "outputs": [
    {
     "name": "stdout",
     "output_type": "stream",
     "text": [
      "MANGO\n",
      "JAPAN\n"
     ]
    }
   ],
   "source": [
    "fruit=\"MANGO\" , \"JAPAN\"\n",
    "for i in fruit:\n",
    "    print(i)"
   ]
  },
  {
   "cell_type": "code",
   "execution_count": 21,
   "id": "82296adb-0422-45ca-8237-fd4fb1e03d84",
   "metadata": {},
   "outputs": [
    {
     "name": "stdout",
     "output_type": "stream",
     "text": [
      "J\n",
      "A\n",
      "P\n",
      "A\n",
      "N\n"
     ]
    }
   ],
   "source": [
    "fruit=\"JAPAN\"\n",
    "for i in fruit:\n",
    "    print(i)##surprise!!, don't surprise ...for sigle string there words or charcters will be shown"
   ]
  },
  {
   "cell_type": "code",
   "execution_count": 22,
   "id": "4b2f865f-6e77-4621-b9eb-45293dc4086b",
   "metadata": {},
   "outputs": [
    {
     "data": {
      "text/plain": [
       "'A'"
      ]
     },
     "execution_count": 22,
     "metadata": {},
     "output_type": "execute_result"
    }
   ],
   "source": [
    "fruit[3]"
   ]
  },
  {
   "cell_type": "code",
   "execution_count": 24,
   "id": "559196d6-78f8-42f9-b800-982f4fd2913b",
   "metadata": {},
   "outputs": [
    {
     "name": "stdout",
     "output_type": "stream",
     "text": [
      "JAPAN"
     ]
    }
   ],
   "source": [
    "fruit=\"JAPAN\"\n",
    "for i in fruit:\n",
    "    print(i,end=\"\")"
   ]
  },
  {
   "cell_type": "code",
   "execution_count": 27,
   "id": "24e73c2a-4930-43dc-ab4b-9848d6c0601b",
   "metadata": {},
   "outputs": [
    {
     "name": "stdout",
     "output_type": "stream",
     "text": [
      "1\n",
      "2\n",
      "3\n",
      "4\n",
      "5\n"
     ]
    }
   ],
   "source": [
    "#range(start,stop[,step])\n",
    "for i in range(1,6):# 6 will not be include\n",
    "    print(i)"
   ]
  },
  {
   "cell_type": "code",
   "execution_count": 30,
   "id": "bc889674-20bb-4aad-a562-20d627d7d29d",
   "metadata": {},
   "outputs": [
    {
     "name": "stdout",
     "output_type": "stream",
     "text": [
      "1\n",
      "4\n",
      "7\n"
     ]
    }
   ],
   "source": [
    "for i in range(1,9,3):\n",
    "    print(i)"
   ]
  },
  {
   "cell_type": "code",
   "execution_count": 34,
   "id": "1f8e0102-12ab-41cd-94bc-427463309241",
   "metadata": {},
   "outputs": [
    {
     "name": "stdout",
     "output_type": "stream",
     "text": [
      "#\n",
      "##\n",
      "###\n",
      "####\n",
      "#####\n",
      "######\n",
      "#######\n"
     ]
    }
   ],
   "source": [
    "##nested loops:\n",
    "n=7\n",
    "for i in range(0,n):\n",
    "    for j in range(0,i+1):\n",
    "        print(\"#\",end=\"\")\n",
    "    print(\"\\r\")"
   ]
  },
  {
   "cell_type": "code",
   "execution_count": null,
   "id": "4b24db64-5dd4-49a9-a674-34088373f693",
   "metadata": {},
   "outputs": [],
   "source": []
  }
 ],
 "metadata": {
  "kernelspec": {
   "display_name": "Python 3 (ipykernel)",
   "language": "python",
   "name": "python3"
  },
  "language_info": {
   "codemirror_mode": {
    "name": "ipython",
    "version": 3
   },
   "file_extension": ".py",
   "mimetype": "text/x-python",
   "name": "python",
   "nbconvert_exporter": "python",
   "pygments_lexer": "ipython3",
   "version": "3.10.8"
  }
 },
 "nbformat": 4,
 "nbformat_minor": 5
}
