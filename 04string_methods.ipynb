{
 "cells": [
  {
   "cell_type": "code",
   "execution_count": 1,
   "id": "c8afca91-b288-441a-be52-566f148805e0",
   "metadata": {},
   "outputs": [],
   "source": [
    "name=\"DATA science MaSteRs\""
   ]
  },
  {
   "cell_type": "code",
   "execution_count": 2,
   "id": "2fb6a0f9-4b1e-46d0-9c3c-7b78c5acc2f3",
   "metadata": {},
   "outputs": [
    {
     "data": {
      "text/plain": [
       "'data SCIENCE mAsTErS'"
      ]
     },
     "execution_count": 2,
     "metadata": {},
     "output_type": "execute_result"
    }
   ],
   "source": [
    "name.swapcase()"
   ]
  },
  {
   "cell_type": "code",
   "execution_count": 3,
   "id": "5d6a347a-0f62-41c4-9732-15096c08547f",
   "metadata": {},
   "outputs": [
    {
     "data": {
      "text/plain": [
       "'Data Science Masters'"
      ]
     },
     "execution_count": 3,
     "metadata": {},
     "output_type": "execute_result"
    }
   ],
   "source": [
    "name.title()"
   ]
  },
  {
   "cell_type": "code",
   "execution_count": 4,
   "id": "e9272c9c-1ca9-41c7-ad9d-2977f87bbc06",
   "metadata": {},
   "outputs": [
    {
     "data": {
      "text/plain": [
       "'Data science masters'"
      ]
     },
     "execution_count": 4,
     "metadata": {},
     "output_type": "execute_result"
    }
   ],
   "source": [
    "name.capitalize()"
   ]
  },
  {
   "cell_type": "markdown",
   "id": "b89aa44e-d551-4925-bb1d-1507f3eb341f",
   "metadata": {},
   "source": [
    "#### reversing a string"
   ]
  },
  {
   "cell_type": "code",
   "execution_count": 5,
   "id": "147ee364-d012-497b-ab46-c26bcf381410",
   "metadata": {},
   "outputs": [
    {
     "data": {
      "text/plain": [
       "'sRetSaM ecneics ATAD'"
      ]
     },
     "execution_count": 5,
     "metadata": {},
     "output_type": "execute_result"
    }
   ],
   "source": [
    "name[::-1]"
   ]
  },
  {
   "cell_type": "code",
   "execution_count": 12,
   "id": "71dcf187-3019-47f3-9dd5-ce26880fa523",
   "metadata": {},
   "outputs": [
    {
     "data": {
      "text/plain": [
       "<reversed at 0x7f1da2f3d780>"
      ]
     },
     "execution_count": 12,
     "metadata": {},
     "output_type": "execute_result"
    }
   ],
   "source": [
    "reversed(name)#returns a reverse literators over the values of the given sequences"
   ]
  },
  {
   "cell_type": "code",
   "execution_count": 13,
   "id": "c5b58131-2e4a-4daa-aa7f-f7bfdf107c7c",
   "metadata": {},
   "outputs": [
    {
     "data": {
      "text/plain": [
       "'sRetSaM ecneics ATAD'"
      ]
     },
     "execution_count": 13,
     "metadata": {},
     "output_type": "execute_result"
    }
   ],
   "source": [
    "\"\".join(reversed(name))"
   ]
  },
  {
   "cell_type": "code",
   "execution_count": 17,
   "id": "dbcc3280-9f4d-4650-80b7-7a8e19aad0f8",
   "metadata": {},
   "outputs": [
    {
     "data": {
      "text/plain": [
       "'a b c d'"
      ]
     },
     "execution_count": 17,
     "metadata": {},
     "output_type": "execute_result"
    }
   ],
   "source": [
    "\" \".join(\"abcd\")#firstly a is joined then space is created then b is join then space again created and so on.."
   ]
  },
  {
   "cell_type": "code",
   "execution_count": 16,
   "id": "ebdad8cd-8620-4e0e-aea9-add6818753b2",
   "metadata": {},
   "outputs": [
    {
     "data": {
      "text/plain": [
       "'abc'"
      ]
     },
     "execution_count": 16,
     "metadata": {},
     "output_type": "execute_result"
    }
   ],
   "source": [
    "\"\".join(\"abc\")"
   ]
  },
  {
   "cell_type": "code",
   "execution_count": 21,
   "id": "760acb82-4f1a-47cf-bc9e-afec69c93d71",
   "metadata": {},
   "outputs": [
    {
     "data": {
      "text/plain": [
       "'aKUSHbKUSHc'"
      ]
     },
     "execution_count": 21,
     "metadata": {},
     "output_type": "execute_result"
    }
   ],
   "source": [
    "\"KUSH\".join(\"abc\")#here first a is join the KUSH , again b is join then KUSH ."
   ]
  },
  {
   "cell_type": "code",
   "execution_count": 24,
   "id": "0318e2af-b87c-4431-b412-635cfff2ddcf",
   "metadata": {},
   "outputs": [
    {
     "data": {
      "text/plain": [
       "'s R e t S a M   e c n e i c s   A T A D'"
      ]
     },
     "execution_count": 24,
     "metadata": {},
     "output_type": "execute_result"
    }
   ],
   "source": [
    " \" \".join(reversed(name))"
   ]
  },
  {
   "cell_type": "code",
   "execution_count": 25,
   "id": "2f2b20c8-becb-4dd2-b9bb-a8c5ccd2866e",
   "metadata": {},
   "outputs": [
    {
     "data": {
      "text/plain": [
       "'t n a'"
      ]
     },
     "execution_count": 25,
     "metadata": {},
     "output_type": "execute_result"
    }
   ],
   "source": [
    "' '.join(reversed(\"ant\"))"
   ]
  },
  {
   "cell_type": "code",
   "execution_count": 26,
   "id": "a9cd6beb-c789-42d9-a5e5-053c56297aa7",
   "metadata": {},
   "outputs": [
    {
     "data": {
      "text/plain": [
       "'t PW SKILLS n PW SKILLS a'"
      ]
     },
     "execution_count": 26,
     "metadata": {},
     "output_type": "execute_result"
    }
   ],
   "source": [
    "' PW SKILLS '.join(reversed(\"ant\"))"
   ]
  },
  {
   "cell_type": "code",
   "execution_count": 27,
   "id": "796d3a45-96ed-4591-9b62-2fc11448eb02",
   "metadata": {},
   "outputs": [
    {
     "data": {
      "text/plain": [
       "['t', 'n', 'a']"
      ]
     },
     "execution_count": 27,
     "metadata": {},
     "output_type": "execute_result"
    }
   ],
   "source": [
    "#typecasting\n",
    "list(reversed(\"ant\"))"
   ]
  },
  {
   "cell_type": "code",
   "execution_count": 29,
   "id": "7ff42cc7-c4f0-47e7-9b49-daf4dfe1a20b",
   "metadata": {},
   "outputs": [
    {
     "name": "stdout",
     "output_type": "stream",
     "text": [
      "s\n",
      "R\n",
      "e\n",
      "t\n",
      "S\n",
      "a\n",
      "M\n",
      " \n",
      "e\n",
      "c\n",
      "n\n",
      "e\n",
      "i\n",
      "c\n",
      "s\n",
      " \n",
      "A\n",
      "T\n",
      "A\n",
      "D\n"
     ]
    }
   ],
   "source": [
    "for i in list(reversed(name)):\n",
    "    print(i)"
   ]
  },
  {
   "cell_type": "code",
   "execution_count": 30,
   "id": "fd27a688-ba03-4fb6-aced-ccafce3822fa",
   "metadata": {},
   "outputs": [
    {
     "name": "stdout",
     "output_type": "stream",
     "text": [
      "s R e t S a M   e c n e i c s   A T A D "
     ]
    }
   ],
   "source": [
    "for i in list(reversed(name)):\n",
    "    print(i,end=' ')"
   ]
  },
  {
   "cell_type": "code",
   "execution_count": 31,
   "id": "f1b35995-907e-460e-b174-801ab20edb43",
   "metadata": {},
   "outputs": [],
   "source": [
    "#removing characters from the end of the strings"
   ]
  },
  {
   "cell_type": "code",
   "execution_count": 33,
   "id": "9b3d39f0-6063-4f1d-af8d-37b5b9dd4591",
   "metadata": {},
   "outputs": [],
   "source": [
    "strings=\" pwskills \"# what if you want to remove spaces..we can use strip()"
   ]
  },
  {
   "cell_type": "code",
   "execution_count": 34,
   "id": "c520baa3-2071-488f-b052-dc95138f6499",
   "metadata": {},
   "outputs": [
    {
     "data": {
      "text/plain": [
       "'pwskills'"
      ]
     },
     "execution_count": 34,
     "metadata": {},
     "output_type": "execute_result"
    }
   ],
   "source": [
    "strings.strip(\" \")"
   ]
  },
  {
   "cell_type": "code",
   "execution_count": 35,
   "id": "e7c4cf0d-c798-49ff-8e21-5d1fca58af50",
   "metadata": {},
   "outputs": [
    {
     "data": {
      "text/plain": [
       "'pwskills '"
      ]
     },
     "execution_count": 35,
     "metadata": {},
     "output_type": "execute_result"
    }
   ],
   "source": [
    "strings.lstrip(\" \")"
   ]
  },
  {
   "cell_type": "code",
   "execution_count": 37,
   "id": "b73edcc2-5f6d-4392-9421-ee2b90a3e24b",
   "metadata": {},
   "outputs": [
    {
     "data": {
      "text/plain": [
       "' pwskills'"
      ]
     },
     "execution_count": 37,
     "metadata": {},
     "output_type": "execute_result"
    }
   ],
   "source": [
    "strings.rstrip(\" \")"
   ]
  },
  {
   "cell_type": "code",
   "execution_count": 38,
   "id": "70ceb028-7e20-43a8-9a59-373e59c66b63",
   "metadata": {},
   "outputs": [
    {
     "data": {
      "text/plain": [
       "'Greetingd from pwskills'"
      ]
     },
     "execution_count": 38,
     "metadata": {},
     "output_type": "execute_result"
    }
   ],
   "source": [
    "str2=\"Greetingd to pwskills\"\n",
    "str2.replace(\"to\",\"from\")"
   ]
  },
  {
   "cell_type": "code",
   "execution_count": 39,
   "id": "963c1dd8-d2af-421f-a9aa-48864efae7a0",
   "metadata": {},
   "outputs": [],
   "source": [
    "# in strings we can replace space and words from sentence we can't replace word ..example given below"
   ]
  },
  {
   "cell_type": "code",
   "execution_count": 40,
   "id": "4e3b1e9c-0b79-4f8d-ac93-be57c3998a20",
   "metadata": {},
   "outputs": [
    {
     "ename": "TypeError",
     "evalue": "'str' object does not support item assignment",
     "output_type": "error",
     "traceback": [
      "\u001b[0;31m---------------------------------------------------------------------------\u001b[0m",
      "\u001b[0;31mTypeError\u001b[0m                                 Traceback (most recent call last)",
      "Cell \u001b[0;32mIn[40], line 1\u001b[0m\n\u001b[0;32m----> 1\u001b[0m \u001b[43mstr2\u001b[49m\u001b[43m[\u001b[49m\u001b[38;5;241;43m0\u001b[39;49m\u001b[43m]\u001b[49m\u001b[38;5;241m=\u001b[39m\u001b[38;5;124m\"\u001b[39m\u001b[38;5;124mP\u001b[39m\u001b[38;5;124m\"\u001b[39m\n",
      "\u001b[0;31mTypeError\u001b[0m: 'str' object does not support item assignment"
     ]
    }
   ],
   "source": [
    "str2[0]=\"P\""
   ]
  },
  {
   "cell_type": "code",
   "execution_count": 41,
   "id": "6c7b2b66-254e-4dac-a0a6-e01696b8a77d",
   "metadata": {},
   "outputs": [
    {
     "data": {
      "text/plain": [
       "'Treetingd to pwskills'"
      ]
     },
     "execution_count": 41,
     "metadata": {},
     "output_type": "execute_result"
    }
   ],
   "source": [
    "str2.replace(\"G\",\"T\")"
   ]
  },
  {
   "cell_type": "code",
   "execution_count": 42,
   "id": "f97fd03c-f924-4a26-8015-b9a1c2d881d3",
   "metadata": {},
   "outputs": [
    {
     "data": {
      "text/plain": [
       "'hello \\nworld'"
      ]
     },
     "execution_count": 42,
     "metadata": {},
     "output_type": "execute_result"
    }
   ],
   "source": [
    "'hello \\nworld'"
   ]
  },
  {
   "cell_type": "code",
   "execution_count": 43,
   "id": "9c3f31f0-5688-4763-ad2b-67e0ff7a4e43",
   "metadata": {},
   "outputs": [
    {
     "data": {
      "text/plain": [
       "'hello\\tworld'"
      ]
     },
     "execution_count": 43,
     "metadata": {},
     "output_type": "execute_result"
    }
   ],
   "source": [
    "\"hello\\tworld\""
   ]
  },
  {
   "cell_type": "code",
   "execution_count": 44,
   "id": "36f59eac-f4cf-4d5a-b7fb-a46e065fc32a",
   "metadata": {},
   "outputs": [
    {
     "data": {
      "text/plain": [
       "'hello   world'"
      ]
     },
     "execution_count": 44,
     "metadata": {},
     "output_type": "execute_result"
    }
   ],
   "source": [
    "\"hello\\tworld\".expandtabs()\n"
   ]
  },
  {
   "cell_type": "code",
   "execution_count": 45,
   "id": "f0c57bb3-d704-40fd-8b2c-4c88798600dd",
   "metadata": {},
   "outputs": [],
   "source": [
    "str3=\"Welcome to pwskills.Welcome to Dat cience Masters\"\n"
   ]
  },
  {
   "cell_type": "code",
   "execution_count": 47,
   "id": "dbb0a95a-9faf-45c9-96cb-efe00f81ac67",
   "metadata": {},
   "outputs": [
    {
     "data": {
      "text/plain": [
       "' Welcome to pwskills. Welcome to Data Science Masters'"
      ]
     },
     "execution_count": 47,
     "metadata": {},
     "output_type": "execute_result"
    }
   ],
   "source": [
    "str3.replace(\"Dat\",\"Data\").replace(\"cience\",\"Science\").replace(\"Welcome\",\" Welcome\")"
   ]
  },
  {
   "cell_type": "code",
   "execution_count": 48,
   "id": "20c4503d-3d43-402a-9487-92a07c1a47c1",
   "metadata": {},
   "outputs": [
    {
     "data": {
      "text/plain": [
       "False"
      ]
     },
     "execution_count": 48,
     "metadata": {},
     "output_type": "execute_result"
    }
   ],
   "source": [
    "str3.isupper()"
   ]
  },
  {
   "cell_type": "code",
   "execution_count": 49,
   "id": "760b7cf4-c907-4d98-974f-767b4d99cd25",
   "metadata": {},
   "outputs": [
    {
     "data": {
      "text/plain": [
       "False"
      ]
     },
     "execution_count": 49,
     "metadata": {},
     "output_type": "execute_result"
    }
   ],
   "source": [
    "str3.islower()"
   ]
  },
  {
   "cell_type": "code",
   "execution_count": 50,
   "id": "75a3de07-53a1-4c0f-99e6-2002f14ec5ee",
   "metadata": {},
   "outputs": [
    {
     "data": {
      "text/plain": [
       "False"
      ]
     },
     "execution_count": 50,
     "metadata": {},
     "output_type": "execute_result"
    }
   ],
   "source": [
    "str3.isspace()"
   ]
  },
  {
   "cell_type": "code",
   "execution_count": 51,
   "id": "2f883278-73a6-40ef-9341-a0a0eadad915",
   "metadata": {},
   "outputs": [
    {
     "data": {
      "text/plain": [
       "True"
      ]
     },
     "execution_count": 51,
     "metadata": {},
     "output_type": "execute_result"
    }
   ],
   "source": [
    "' '.isspace()"
   ]
  },
  {
   "cell_type": "code",
   "execution_count": 79,
   "id": "0b8736b7-5185-492f-a17d-1b654739c052",
   "metadata": {},
   "outputs": [
    {
     "name": "stdout",
     "output_type": "stream",
     "text": [
      "GOOD\n"
     ]
    }
   ],
   "source": [
    "if\" \".isspace():\n",
    "    print(\"GOOD\")"
   ]
  },
  {
   "cell_type": "code",
   "execution_count": 80,
   "id": "09eeb345-c173-4c53-ba27-0d6f53f95093",
   "metadata": {},
   "outputs": [],
   "source": [
    "str=\"Ankush\""
   ]
  },
  {
   "cell_type": "code",
   "execution_count": 81,
   "id": "18525e7a-17f2-4a1c-93eb-53d12db755d5",
   "metadata": {},
   "outputs": [
    {
     "data": {
      "text/plain": [
       "True"
      ]
     },
     "execution_count": 81,
     "metadata": {},
     "output_type": "execute_result"
    }
   ],
   "source": [
    "str.endswith('h')"
   ]
  },
  {
   "cell_type": "code",
   "execution_count": 56,
   "id": "7bf2da32-6779-4b19-9cef-7ea91c70bd25",
   "metadata": {},
   "outputs": [
    {
     "data": {
      "text/plain": [
       "False"
      ]
     },
     "execution_count": 56,
     "metadata": {},
     "output_type": "execute_result"
    }
   ],
   "source": [
    "str.startswith(\"P\")"
   ]
  },
  {
   "cell_type": "code",
   "execution_count": 84,
   "id": "2a80bd88-57dc-4d1d-addd-b9ba14513490",
   "metadata": {},
   "outputs": [
    {
     "data": {
      "text/plain": [
       "True"
      ]
     },
     "execution_count": 84,
     "metadata": {},
     "output_type": "execute_result"
    }
   ],
   "source": [
    "## Check if all the char in strings are alphanumeric\n",
    "a=\"ABCabc123\"\n",
    "a.isalnum()"
   ]
  },
  {
   "cell_type": "code",
   "execution_count": 85,
   "id": "729d67c4-3a29-4de8-9d80-dc27f35ed06c",
   "metadata": {},
   "outputs": [
    {
     "name": "stdout",
     "output_type": "stream",
     "text": [
      "correct\n"
     ]
    }
   ],
   "source": [
    "for i in a:\n",
    "    if i==\"A\":\n",
    "        print(\"correct\")"
   ]
  },
  {
   "cell_type": "code",
   "execution_count": 61,
   "id": "ac64f9c7-0e06-4a80-8129-d92631aa5ff0",
   "metadata": {},
   "outputs": [],
   "source": [
    "## to count the numbers of characters in the strings"
   ]
  },
  {
   "cell_type": "code",
   "execution_count": 86,
   "id": "a70a2bb1-2f80-4d28-aaee-c7b5516c9368",
   "metadata": {},
   "outputs": [
    {
     "name": "stdout",
     "output_type": "stream",
     "text": [
      "9\n"
     ]
    }
   ],
   "source": [
    "count=0\n",
    "for i in a:\n",
    "    count=count+1\n",
    "print(count)"
   ]
  },
  {
   "cell_type": "code",
   "execution_count": 87,
   "id": "47cb4121-e7e2-4aa6-972b-849e85c2b575",
   "metadata": {},
   "outputs": [
    {
     "data": {
      "text/plain": [
       "9"
      ]
     },
     "execution_count": 87,
     "metadata": {},
     "output_type": "execute_result"
    }
   ],
   "source": [
    "len(a)"
   ]
  },
  {
   "cell_type": "code",
   "execution_count": 88,
   "id": "8ad01634-80a2-454c-b1c8-31103a9e62a4",
   "metadata": {},
   "outputs": [
    {
     "name": "stdout",
     "output_type": "stream",
     "text": [
      "A\n",
      "B\n",
      "C\n",
      "a\n",
      "b\n",
      "c\n",
      "1\n",
      "2\n",
      "3\n"
     ]
    }
   ],
   "source": [
    "for i in a:\n",
    "    print(i)"
   ]
  },
  {
   "cell_type": "code",
   "execution_count": 89,
   "id": "f92c7b6b-e5cb-46c3-840a-c1013bc56497",
   "metadata": {},
   "outputs": [
    {
     "name": "stdout",
     "output_type": "stream",
     "text": [
      "A\n",
      "B\n",
      "C\n",
      "a\n",
      "b\n",
      "c\n",
      "1\n",
      "2\n",
      "3\n"
     ]
    }
   ],
   "source": [
    "for i in range(len(a)):\n",
    "    print(a[i])"
   ]
  },
  {
   "cell_type": "code",
   "execution_count": 90,
   "id": "c426127e-4b20-41e5-8957-9ac184813472",
   "metadata": {},
   "outputs": [
    {
     "name": "stdout",
     "output_type": "stream",
     "text": [
      "0 = A\n",
      "1 = B\n",
      "2 = C\n",
      "3 = a\n",
      "4 = b\n",
      "5 = c\n",
      "6 = 1\n",
      "7 = 2\n",
      "8 = 3\n"
     ]
    }
   ],
   "source": [
    "for i in range(len(a)):\n",
    "    print(i,\"=\",a[i])"
   ]
  },
  {
   "cell_type": "code",
   "execution_count": 91,
   "id": "0ead502a-8227-4eb0-909c-77479201a341",
   "metadata": {},
   "outputs": [],
   "source": [
    "#we can use index to iterate string reverse direction"
   ]
  },
  {
   "cell_type": "code",
   "execution_count": 107,
   "id": "f5b731f4-eccc-4663-bc10-4a940a1321d8",
   "metadata": {},
   "outputs": [
    {
     "name": "stdout",
     "output_type": "stream",
     "text": [
      "3\n",
      "2\n",
      "1\n",
      "c\n",
      "b\n",
      "a\n",
      "C\n",
      "B\n",
      "A\n"
     ]
    }
   ],
   "source": [
    "for i in range(len(a)-1,-1,-1):\n",
    "    print(a[i])"
   ]
  },
  {
   "cell_type": "code",
   "execution_count": 113,
   "id": "4be21591-4f8b-4b14-a1ad-12190a837e87",
   "metadata": {},
   "outputs": [],
   "source": [
    "strings=\"12ABab\"\n",
    "ch=len(strings)-1"
   ]
  },
  {
   "cell_type": "code",
   "execution_count": 114,
   "id": "c10f30ad-bfd4-4b9f-baa6-f386a0df5bbe",
   "metadata": {},
   "outputs": [
    {
     "data": {
      "text/plain": [
       "5"
      ]
     },
     "execution_count": 114,
     "metadata": {},
     "output_type": "execute_result"
    }
   ],
   "source": [
    "ch"
   ]
  },
  {
   "cell_type": "code",
   "execution_count": 115,
   "id": "7f94e2e5-c68b-427c-a8a5-6a380c06bc9f",
   "metadata": {},
   "outputs": [
    {
     "name": "stdout",
     "output_type": "stream",
     "text": [
      "b\n",
      "a\n",
      "B\n",
      "A\n",
      "2\n",
      "1\n"
     ]
    }
   ],
   "source": [
    "while ch>=0:\n",
    "    print(strings[ch])\n",
    "    ch=ch-1"
   ]
  },
  {
   "cell_type": "code",
   "execution_count": 116,
   "id": "1e549ee5-9cfa-480e-9635-eef562943ac5",
   "metadata": {},
   "outputs": [
    {
     "data": {
      "text/plain": [
       "('b', 'a', 'B', 'A', '2', '1')"
      ]
     },
     "execution_count": 116,
     "metadata": {},
     "output_type": "execute_result"
    }
   ],
   "source": [
    "strings[5],strings[4],strings[3],strings[2],strings[1],strings[0]"
   ]
  },
  {
   "cell_type": "code",
   "execution_count": 117,
   "id": "07b70c1b-b8c4-4a63-bd9d-cc4c45c8aab3",
   "metadata": {},
   "outputs": [
    {
     "name": "stdout",
     "output_type": "stream",
     "text": [
      "b\n",
      "a\n",
      "B\n",
      "A\n",
      "2\n",
      "1\n"
     ]
    }
   ],
   "source": [
    "#best  solution\n",
    "for i in range(len(strings)):\n",
    "    print(strings[len(strings)-(i+1)])"
   ]
  },
  {
   "cell_type": "code",
   "execution_count": 119,
   "id": "e29df054-8d94-40f9-8ab1-d345843bb366",
   "metadata": {},
   "outputs": [
    {
     "name": "stdout",
     "output_type": "stream",
     "text": [
      "baBA21"
     ]
    }
   ],
   "source": [
    "#best  solution\n",
    "for i in range(len(strings)):\n",
    "    print(strings[len(strings)-(i+1)],end=\"\")"
   ]
  },
  {
   "cell_type": "code",
   "execution_count": 120,
   "id": "db845578-f695-4065-b25b-f420d102ee7b",
   "metadata": {},
   "outputs": [],
   "source": [
    "n=\"Ankush\"\n",
    "vowels=\"AaEeIiOoUu\""
   ]
  },
  {
   "cell_type": "code",
   "execution_count": 122,
   "id": "4ea5aade-a216-4143-b774-246a53796c57",
   "metadata": {},
   "outputs": [
    {
     "name": "stdout",
     "output_type": "stream",
     "text": [
      "A is vowels\n",
      "n is not vowels\n",
      "k is not vowels\n",
      "u is vowels\n",
      "s is not vowels\n",
      "h is not vowels\n"
     ]
    }
   ],
   "source": [
    "for ch in n:\n",
    "    if ch in vowels:\n",
    "        print(f\"{ch} is vowels\")\n",
    "    else:\n",
    "        print(f\"{ch} is not vowels\")"
   ]
  },
  {
   "cell_type": "markdown",
   "id": "1f75adac-a6a8-42bd-bbaf-2c4b807a2bbc",
   "metadata": {},
   "source": [
    "## LIST\n"
   ]
  },
  {
   "cell_type": "code",
   "execution_count": 1,
   "id": "f2f8e520-a8f5-45bd-9e50-754a8fde2103",
   "metadata": {},
   "outputs": [
    {
     "data": {
      "text/plain": [
       "list"
      ]
     },
     "execution_count": 1,
     "metadata": {},
     "output_type": "execute_result"
    }
   ],
   "source": [
    "type([])"
   ]
  },
  {
   "cell_type": "code",
   "execution_count": 2,
   "id": "e5f5b757-5122-4528-beb3-b81417d44ad3",
   "metadata": {},
   "outputs": [
    {
     "data": {
      "text/plain": [
       "['KEiYARA', 'SIYARA', 'ram', 32, True, None]"
      ]
     },
     "execution_count": 2,
     "metadata": {},
     "output_type": "execute_result"
    }
   ],
   "source": [
    "[\"KEiYARA\",\"SIYARA\",\"ram\",32,True,None]"
   ]
  },
  {
   "cell_type": "code",
   "execution_count": 4,
   "id": "1f5c83ea-8de7-468e-8291-0c0748f467e7",
   "metadata": {},
   "outputs": [
    {
     "data": {
      "text/plain": [
       "[1, 2, 3, 4, 5]"
      ]
     },
     "execution_count": 4,
     "metadata": {},
     "output_type": "execute_result"
    }
   ],
   "source": [
    "list([1,2,3,4,5])"
   ]
  },
  {
   "cell_type": "code",
   "execution_count": 12,
   "id": "7292b83b-2b20-473c-bdb0-816df7abe76c",
   "metadata": {},
   "outputs": [],
   "source": [
    "str3=\"PWSKILLS\""
   ]
  },
  {
   "cell_type": "code",
   "execution_count": 13,
   "id": "1156665c-7f9b-4a01-b07d-23511e61a67b",
   "metadata": {},
   "outputs": [
    {
     "data": {
      "text/plain": [
       "['P', 'W', 'S', 'K', 'I', 'L', 'L', 'S']"
      ]
     },
     "execution_count": 13,
     "metadata": {},
     "output_type": "execute_result"
    }
   ],
   "source": [
    "list(str3)"
   ]
  },
  {
   "cell_type": "code",
   "execution_count": 14,
   "id": "9ffc0791-26a5-47db-87a8-92843e4f5011",
   "metadata": {},
   "outputs": [
    {
     "data": {
      "text/plain": [
       "'PWSKILLS'"
      ]
     },
     "execution_count": 14,
     "metadata": {},
     "output_type": "execute_result"
    }
   ],
   "source": [
    "str3"
   ]
  },
  {
   "cell_type": "code",
   "execution_count": 19,
   "id": "14f38468-551d-4e65-a1be-944e9cafc9fd",
   "metadata": {},
   "outputs": [],
   "source": [
    "str1=\"hey amkush yadav\""
   ]
  },
  {
   "cell_type": "code",
   "execution_count": 20,
   "id": "44eee9e9-4539-47ca-8f16-de875efcdc70",
   "metadata": {},
   "outputs": [
    {
     "data": {
      "text/plain": [
       "['hey', 'amkush', 'yadav']"
      ]
     },
     "execution_count": 20,
     "metadata": {},
     "output_type": "execute_result"
    }
   ],
   "source": [
    "list(str1.split(\" \"))"
   ]
  },
  {
   "cell_type": "code",
   "execution_count": 21,
   "id": "82c58acc-3061-49c2-9681-5cf749db5494",
   "metadata": {},
   "outputs": [
    {
     "data": {
      "text/plain": [
       "['hey', 'amkush', 'yadav']"
      ]
     },
     "execution_count": 21,
     "metadata": {},
     "output_type": "execute_result"
    }
   ],
   "source": [
    "str1.split(\" \")"
   ]
  },
  {
   "cell_type": "code",
   "execution_count": 24,
   "id": "802d5034-f590-436d-a277-51d64f06df89",
   "metadata": {},
   "outputs": [
    {
     "data": {
      "text/plain": [
       "' '"
      ]
     },
     "execution_count": 24,
     "metadata": {},
     "output_type": "execute_result"
    }
   ],
   "source": [
    "str1[3]"
   ]
  },
  {
   "cell_type": "code",
   "execution_count": 25,
   "id": "19d46766-d702-47c0-acb4-a72de19428b8",
   "metadata": {},
   "outputs": [
    {
     "data": {
      "text/plain": [
       "'a'"
      ]
     },
     "execution_count": 25,
     "metadata": {},
     "output_type": "execute_result"
    }
   ],
   "source": [
    "str1[4]"
   ]
  },
  {
   "cell_type": "code",
   "execution_count": 26,
   "id": "749f9a0b-f741-4b6e-9302-9d01da71166d",
   "metadata": {},
   "outputs": [],
   "source": [
    "list=str1.split(\" \")"
   ]
  },
  {
   "cell_type": "code",
   "execution_count": 27,
   "id": "2783933f-2851-4b05-8fd6-2a4c525dfd42",
   "metadata": {},
   "outputs": [
    {
     "data": {
      "text/plain": [
       "['hey', 'amkush', 'yadav']"
      ]
     },
     "execution_count": 27,
     "metadata": {},
     "output_type": "execute_result"
    }
   ],
   "source": [
    "list"
   ]
  },
  {
   "cell_type": "code",
   "execution_count": 31,
   "id": "c5db7e16-8ae6-4b47-9aac-54e902d813e8",
   "metadata": {},
   "outputs": [
    {
     "data": {
      "text/plain": [
       "['yadav', 'amkush', 'hey']"
      ]
     },
     "execution_count": 31,
     "metadata": {},
     "output_type": "execute_result"
    }
   ],
   "source": [
    "list[::-1]"
   ]
  },
  {
   "cell_type": "code",
   "execution_count": 32,
   "id": "bca007ed-c04f-4461-96f0-e213c6ffda9e",
   "metadata": {},
   "outputs": [
    {
     "data": {
      "text/plain": [
       "['hey', 'yadav']"
      ]
     },
     "execution_count": 32,
     "metadata": {},
     "output_type": "execute_result"
    }
   ],
   "source": [
    "list[::2]"
   ]
  },
  {
   "cell_type": "code",
   "execution_count": 35,
   "id": "406362b3-c547-4d7c-adc4-ac3e77ae453c",
   "metadata": {},
   "outputs": [
    {
     "data": {
      "text/plain": [
       "['hey']"
      ]
     },
     "execution_count": 35,
     "metadata": {},
     "output_type": "execute_result"
    }
   ],
   "source": [
    "list[::4]"
   ]
  },
  {
   "cell_type": "code",
   "execution_count": 36,
   "id": "803ffcc4-f004-4339-8da9-ad67365260a7",
   "metadata": {},
   "outputs": [],
   "source": [
    "# concenating"
   ]
  },
  {
   "cell_type": "code",
   "execution_count": 38,
   "id": "a1854c2d-82a9-4f5f-a059-43e18d9c7634",
   "metadata": {},
   "outputs": [
    {
     "data": {
      "text/plain": [
       "['hey', 'amkush', 'yadav', 'new element']"
      ]
     },
     "execution_count": 38,
     "metadata": {},
     "output_type": "execute_result"
    }
   ],
   "source": [
    "list+[\"new element\"]"
   ]
  },
  {
   "cell_type": "code",
   "execution_count": 39,
   "id": "45a4941e-1959-41fe-ae3c-860ce3da9c75",
   "metadata": {},
   "outputs": [
    {
     "data": {
      "text/plain": [
       "['hey', 'amkush', 'yadav', ['new number', 98]]"
      ]
     },
     "execution_count": 39,
     "metadata": {},
     "output_type": "execute_result"
    }
   ],
   "source": [
    "list+[[\"new number\",98]]"
   ]
  },
  {
   "cell_type": "code",
   "execution_count": 45,
   "id": "f0be0ff5-0c26-4af3-9a18-2c055b957850",
   "metadata": {},
   "outputs": [
    {
     "data": {
      "text/plain": [
       "['hey', 'amkush', 'yadav', 'hey', 'amkush', 'yadav']"
      ]
     },
     "execution_count": 45,
     "metadata": {},
     "output_type": "execute_result"
    }
   ],
   "source": [
    "list * 2"
   ]
  },
  {
   "cell_type": "code",
   "execution_count": 46,
   "id": "2dbc008f-dec1-4df7-a4dd-16db3c0c4a18",
   "metadata": {},
   "outputs": [
    {
     "name": "stdout",
     "output_type": "stream",
     "text": [
      "amkush\n"
     ]
    }
   ],
   "source": [
    "for elements in list:\n",
    "    if elements==\"amkush\":\n",
    "        print(elements)\n",
    "        break"
   ]
  },
  {
   "cell_type": "code",
   "execution_count": 47,
   "id": "dfc72a48-f5b2-4289-a359-15463d0e6b66",
   "metadata": {},
   "outputs": [
    {
     "data": {
      "text/plain": [
       "True"
      ]
     },
     "execution_count": 47,
     "metadata": {},
     "output_type": "execute_result"
    }
   ],
   "source": [
    "#check elements inside alist\n",
    "l1=[1,2,3,4]\n",
    "4 in l1"
   ]
  },
  {
   "cell_type": "code",
   "execution_count": 51,
   "id": "a5453b2d-6a95-4d4e-b293-89bec10a7e60",
   "metadata": {},
   "outputs": [],
   "source": [
    "l2=[\"Zebra\",\"Monkey\",\"Donkey\",\"Lion\"]\n",
    "l3=[5,6,7,7,8,9]"
   ]
  },
  {
   "cell_type": "code",
   "execution_count": 52,
   "id": "ffe1a534-f51d-4aa7-8771-497b49a2cc66",
   "metadata": {},
   "outputs": [
    {
     "name": "stdout",
     "output_type": "stream",
     "text": [
      "Zebra\n"
     ]
    }
   ],
   "source": [
    "print(max(l2))"
   ]
  },
  {
   "cell_type": "code",
   "execution_count": 53,
   "id": "ca84e42d-d273-40c0-a46b-f92ea638addc",
   "metadata": {},
   "outputs": [
    {
     "data": {
      "text/plain": [
       "'Donkey'"
      ]
     },
     "execution_count": 53,
     "metadata": {},
     "output_type": "execute_result"
    }
   ],
   "source": [
    "min(l2)"
   ]
  },
  {
   "cell_type": "code",
   "execution_count": 54,
   "id": "70139ad2-a3e3-4fe2-89ab-d3aaebd04786",
   "metadata": {},
   "outputs": [
    {
     "data": {
      "text/plain": [
       "9"
      ]
     },
     "execution_count": 54,
     "metadata": {},
     "output_type": "execute_result"
    }
   ],
   "source": [
    "max(l3)"
   ]
  },
  {
   "cell_type": "code",
   "execution_count": null,
   "id": "f4728444-025b-4422-98bd-a4fc682aada6",
   "metadata": {},
   "outputs": [
    {
     "data": {
      "text/plain": [
       "5"
      ]
     },
     "execution_count": 55,
     "metadata": {},
     "output_type": "execute_result"
    }
   ],
   "source": [
    "min(l3)"
   ]
  },
  {
   "cell_type": "code",
   "execution_count": 59,
   "id": "08c3e853-eab1-4d78-9cf1-e4a37b7a8d9c",
   "metadata": {},
   "outputs": [
    {
     "data": {
      "text/plain": [
       "False"
      ]
     },
     "execution_count": 59,
     "metadata": {},
     "output_type": "execute_result"
    }
   ],
   "source": [
    "1.9 in [2,5,9]"
   ]
  },
  {
   "cell_type": "code",
   "execution_count": 60,
   "id": "10e3fb56-0674-493d-ad56-4052d39164da",
   "metadata": {},
   "outputs": [
    {
     "data": {
      "text/plain": [
       "False"
      ]
     },
     "execution_count": 60,
     "metadata": {},
     "output_type": "execute_result"
    }
   ],
   "source": [
    "1.9999 in [2,4,6]"
   ]
  },
  {
   "cell_type": "code",
   "execution_count": 62,
   "id": "8c50fa7f-bfab-42a2-99fb-12b533ae993e",
   "metadata": {},
   "outputs": [
    {
     "data": {
      "text/plain": [
       "True"
      ]
     },
     "execution_count": 62,
     "metadata": {},
     "output_type": "execute_result"
    }
   ],
   "source": [
    "1.99999999999999999 in [2,4,6] #????"
   ]
  },
  {
   "cell_type": "code",
   "execution_count": 57,
   "id": "674f1058-78a1-48ca-804e-602543f79a31",
   "metadata": {},
   "outputs": [],
   "source": [
    "## append "
   ]
  },
  {
   "cell_type": "code",
   "execution_count": 75,
   "id": "44d84d2f-55fd-479d-95b2-cff696f31fe7",
   "metadata": {},
   "outputs": [],
   "source": [
    "List2=[2,3,7,9,0]"
   ]
  },
  {
   "cell_type": "code",
   "execution_count": 76,
   "id": "226562be-0bc6-420b-b85f-3b61e43bdd37",
   "metadata": {},
   "outputs": [
    {
     "data": {
      "text/plain": [
       "[2, 3, 7, 9, 0]"
      ]
     },
     "execution_count": 76,
     "metadata": {},
     "output_type": "execute_result"
    }
   ],
   "source": [
    "List2"
   ]
  },
  {
   "cell_type": "code",
   "execution_count": 77,
   "id": "ed72b077-e500-4270-962c-e24e39ded982",
   "metadata": {},
   "outputs": [],
   "source": [
    "List2.append(99)"
   ]
  },
  {
   "cell_type": "code",
   "execution_count": 78,
   "id": "b8d72cde-08ed-463b-9bb9-176dd67a3c2b",
   "metadata": {},
   "outputs": [
    {
     "name": "stdout",
     "output_type": "stream",
     "text": [
      "[2, 3, 7, 9, 0, 99]\n"
     ]
    }
   ],
   "source": [
    "print(List2)"
   ]
  },
  {
   "cell_type": "code",
   "execution_count": 79,
   "id": "eb88f961-65bc-4c45-8e9c-e4fee14be153",
   "metadata": {},
   "outputs": [],
   "source": [
    "List.append([\"pwskills\",\"data\",\"science\"])"
   ]
  },
  {
   "cell_type": "code",
   "execution_count": 80,
   "id": "4cc5eb5d-5934-4f03-860b-28f6ed146dbe",
   "metadata": {},
   "outputs": [
    {
     "name": "stdout",
     "output_type": "stream",
     "text": [
      "[2, 3, 7, 9, 0, 1, 1, 7, 1, 1, ['pwskills', 'data', 'science']]\n"
     ]
    }
   ],
   "source": [
    "print(List)"
   ]
  },
  {
   "cell_type": "code",
   "execution_count": 89,
   "id": "064ce489-a3e7-46f1-a58b-51a8d8796c6e",
   "metadata": {},
   "outputs": [],
   "source": [
    "List2=[\"kartik\",\"vijay\",\"murali\"]"
   ]
  },
  {
   "cell_type": "code",
   "execution_count": 90,
   "id": "03afec3c-2752-4820-bf42-68512d1e95ec",
   "metadata": {},
   "outputs": [
    {
     "data": {
      "text/plain": [
       "'murali'"
      ]
     },
     "execution_count": 90,
     "metadata": {},
     "output_type": "execute_result"
    }
   ],
   "source": [
    "List2.pop()#remove any random elemeents"
   ]
  },
  {
   "cell_type": "code",
   "execution_count": 91,
   "id": "6447e6a6-e657-4ace-8974-7e063ec499be",
   "metadata": {},
   "outputs": [
    {
     "name": "stdout",
     "output_type": "stream",
     "text": [
      "['kartik', 'vijay']\n"
     ]
    }
   ],
   "source": [
    "print(List2)"
   ]
  },
  {
   "cell_type": "code",
   "execution_count": 92,
   "id": "31376ce2-4fd6-4c4b-ac7a-cce7055bf188",
   "metadata": {},
   "outputs": [],
   "source": [
    "## sortings and reverse methods in the list"
   ]
  },
  {
   "cell_type": "code",
   "execution_count": 103,
   "id": "ac003574-c930-4ba3-9a89-7b6c5cc9a4f9",
   "metadata": {},
   "outputs": [],
   "source": [
    "new_list=['q','w','e','r','t','y']"
   ]
  },
  {
   "cell_type": "code",
   "execution_count": 104,
   "id": "caadb95e-7c29-45dd-a2b0-5a86fe6fca44",
   "metadata": {},
   "outputs": [
    {
     "data": {
      "text/plain": [
       "['q', 'w', 'e', 'r', 't', 'y']"
      ]
     },
     "execution_count": 104,
     "metadata": {},
     "output_type": "execute_result"
    }
   ],
   "source": [
    "new_list"
   ]
  },
  {
   "cell_type": "code",
   "execution_count": 105,
   "id": "43a08bfb-d28e-4452-9954-5dbc951e5a3b",
   "metadata": {},
   "outputs": [
    {
     "data": {
      "text/plain": [
       "['y', 't', 'r', 'e', 'w', 'q']"
      ]
     },
     "execution_count": 105,
     "metadata": {},
     "output_type": "execute_result"
    }
   ],
   "source": [
    "new_list[::-1]"
   ]
  },
  {
   "cell_type": "code",
   "execution_count": 106,
   "id": "462156e5-5949-4e31-9652-854a6af3c275",
   "metadata": {},
   "outputs": [],
   "source": [
    "new_list.reverse()"
   ]
  },
  {
   "cell_type": "code",
   "execution_count": 108,
   "id": "a675170e-ee78-4c6a-9509-6c2cdf26df26",
   "metadata": {},
   "outputs": [
    {
     "data": {
      "text/plain": [
       "['y', 't', 'r', 'e', 'w', 'q']"
      ]
     },
     "execution_count": 108,
     "metadata": {},
     "output_type": "execute_result"
    }
   ],
   "source": [
    "new_list"
   ]
  },
  {
   "cell_type": "code",
   "execution_count": 109,
   "id": "b043e746-e89b-4288-b05c-82d1be5a154d",
   "metadata": {},
   "outputs": [],
   "source": [
    "new_list.sort()"
   ]
  },
  {
   "cell_type": "code",
   "execution_count": 110,
   "id": "b29b33d5-a90d-4972-a7ea-ee52138d90b2",
   "metadata": {},
   "outputs": [
    {
     "data": {
      "text/plain": [
       "['e', 'q', 'r', 't', 'w', 'y']"
      ]
     },
     "execution_count": 110,
     "metadata": {},
     "output_type": "execute_result"
    }
   ],
   "source": [
    "new_list"
   ]
  },
  {
   "cell_type": "code",
   "execution_count": 111,
   "id": "df4e6e18-3c22-4fcb-95d0-6c42d5e85ad9",
   "metadata": {},
   "outputs": [
    {
     "ename": "TypeError",
     "evalue": "list.append() takes exactly one argument (2 given)",
     "output_type": "error",
     "traceback": [
      "\u001b[0;31m---------------------------------------------------------------------------\u001b[0m",
      "\u001b[0;31mTypeError\u001b[0m                                 Traceback (most recent call last)",
      "Cell \u001b[0;32mIn[111], line 1\u001b[0m\n\u001b[0;32m----> 1\u001b[0m \u001b[43mnew_list\u001b[49m\u001b[38;5;241;43m.\u001b[39;49m\u001b[43mappend\u001b[49m\u001b[43m(\u001b[49m\u001b[38;5;124;43m\"\u001b[39;49m\u001b[38;5;124;43mSurely\u001b[39;49m\u001b[38;5;124;43m\"\u001b[39;49m\u001b[43m,\u001b[49m\u001b[38;5;124;43m\"\u001b[39;49m\u001b[38;5;124;43mcomplteted\u001b[39;49m\u001b[38;5;124;43m\"\u001b[39;49m\u001b[43m)\u001b[49m\n",
      "\u001b[0;31mTypeError\u001b[0m: list.append() takes exactly one argument (2 given)"
     ]
    }
   ],
   "source": [
    "new_list.append(\"Surely\",\"complteted\")"
   ]
  },
  {
   "cell_type": "code",
   "execution_count": 120,
   "id": "4981f573-1705-42cc-8304-83dd542d6bb2",
   "metadata": {},
   "outputs": [],
   "source": [
    "new_list.extend([\"Surely\",\"complteted\"])"
   ]
  },
  {
   "cell_type": "code",
   "execution_count": 121,
   "id": "80abc983-e724-4a12-a01f-fb39025b1b74",
   "metadata": {},
   "outputs": [
    {
     "data": {
      "text/plain": [
       "['e',\n",
       " 'q',\n",
       " 'r',\n",
       " 't',\n",
       " 'w',\n",
       " 'y',\n",
       " ['Surely', 'complteted'],\n",
       " ['Surely', 'complteted'],\n",
       " ['Surely', 'complteted'],\n",
       " 'Surely',\n",
       " 'complteted']"
      ]
     },
     "execution_count": 121,
     "metadata": {},
     "output_type": "execute_result"
    }
   ],
   "source": [
    "new_list"
   ]
  },
  {
   "cell_type": "markdown",
   "id": "0fb3cb46-58e5-49d7-9a13-a153f9d72f58",
   "metadata": {},
   "source": [
    "# Nested list"
   ]
  },
  {
   "cell_type": "code",
   "execution_count": 123,
   "id": "a3e920c0-aa7e-4dc7-9f0e-1a3645916a3f",
   "metadata": {},
   "outputs": [],
   "source": [
    "l1=[1,4,7]\n",
    "l2=[2,5,8]\n",
    "l3=[3,6,9]\n",
    "\n",
    "#make a list of lists in aform of matrix\n",
    "matrix=[l1,l2,l3]"
   ]
  },
  {
   "cell_type": "code",
   "execution_count": 124,
   "id": "d667194d-0cbf-4db4-a064-ee5650985115",
   "metadata": {},
   "outputs": [
    {
     "data": {
      "text/plain": [
       "[[1, 4, 7], [2, 5, 8], [3, 6, 9]]"
      ]
     },
     "execution_count": 124,
     "metadata": {},
     "output_type": "execute_result"
    }
   ],
   "source": [
    "matrix"
   ]
  },
  {
   "cell_type": "code",
   "execution_count": 125,
   "id": "51be5943-566a-49f8-890e-bef412f08358",
   "metadata": {},
   "outputs": [
    {
     "data": {
      "text/plain": [
       "[1, 4, 7]"
      ]
     },
     "execution_count": 125,
     "metadata": {},
     "output_type": "execute_result"
    }
   ],
   "source": [
    "matrix[0]"
   ]
  },
  {
   "cell_type": "code",
   "execution_count": 126,
   "id": "d6ada4de-332d-4327-a6b5-7265f09e01b3",
   "metadata": {},
   "outputs": [
    {
     "data": {
      "text/plain": [
       "8"
      ]
     },
     "execution_count": 126,
     "metadata": {},
     "output_type": "execute_result"
    }
   ],
   "source": [
    "matrix[1][2]"
   ]
  },
  {
   "cell_type": "code",
   "execution_count": 127,
   "id": "20a4b367-b7e6-482a-a0f6-7525ae34736d",
   "metadata": {},
   "outputs": [
    {
     "data": {
      "text/plain": [
       "[6, 9]"
      ]
     },
     "execution_count": 127,
     "metadata": {},
     "output_type": "execute_result"
    }
   ],
   "source": [
    "matrix[2][1:]"
   ]
  },
  {
   "cell_type": "code",
   "execution_count": 136,
   "id": "061f9a2d-cdfa-4920-930a-d4ea33d47f30",
   "metadata": {},
   "outputs": [
    {
     "data": {
      "text/plain": [
       "[0, 1, 2, 3, 4, 5]"
      ]
     },
     "execution_count": 136,
     "metadata": {},
     "output_type": "execute_result"
    }
   ],
   "source": [
    "# list coprenhension\n",
    "[i for i in range(6)]"
   ]
  },
  {
   "cell_type": "code",
   "execution_count": 137,
   "id": "05cc9cde-c94d-435a-a8f4-5348b770e974",
   "metadata": {},
   "outputs": [
    {
     "data": {
      "text/plain": [
       "[0, ' ', 2, ' ', 4, ' ']"
      ]
     },
     "execution_count": 137,
     "metadata": {},
     "output_type": "execute_result"
    }
   ],
   "source": [
    "[i if i%2==0 else \" \" for i in range(6)]"
   ]
  },
  {
   "cell_type": "code",
   "execution_count": 142,
   "id": "efaba8ad-946c-443b-89e8-b5ac67555346",
   "metadata": {},
   "outputs": [],
   "source": [
    "#summof even numbers and odd numbers\n",
    "l1=[1,2,3,4,5,6,7,8,9]"
   ]
  },
  {
   "cell_type": "code",
   "execution_count": 145,
   "id": "9227b1f5-8afe-4e43-a15f-da18a7c8335b",
   "metadata": {},
   "outputs": [
    {
     "name": "stdout",
     "output_type": "stream",
     "text": [
      "20\n",
      "25\n"
     ]
    }
   ],
   "source": [
    "l1=[1,2,3,4,5,6,7,8,9]\n",
    "\n",
    "even_sum=0\n",
    "odd_sum=0\n",
    "for i in l1:\n",
    "    if i%2==0:\n",
    "        even_sum+=i\n",
    "    else:\n",
    "        odd_sum+=i\n",
    "print(even_sum)\n",
    "print(odd_sum)"
   ]
  },
  {
   "cell_type": "code",
   "execution_count": 152,
   "id": "fb6be7a7-1079-47e4-b40c-326c61b93e17",
   "metadata": {},
   "outputs": [
    {
     "data": {
      "text/plain": [
       "[1, 2, 3, 4, 5, 6, 7, 8, 9]"
      ]
     },
     "execution_count": 152,
     "metadata": {},
     "output_type": "execute_result"
    }
   ],
   "source": [
    "[num for num in l1]\n"
   ]
  },
  {
   "cell_type": "code",
   "execution_count": 154,
   "id": "1ccf2cc5-9551-41ab-912a-a1da0e9b9079",
   "metadata": {},
   "outputs": [
    {
     "data": {
      "text/plain": [
       "[2, 4, 6, 8]"
      ]
     },
     "execution_count": 154,
     "metadata": {},
     "output_type": "execute_result"
    }
   ],
   "source": [
    "[num for num in l1 if num%2==0]"
   ]
  },
  {
   "cell_type": "code",
   "execution_count": 156,
   "id": "8e93e2cb-459f-47ab-8125-7c9e2382200d",
   "metadata": {},
   "outputs": [],
   "source": [
    "even_sum=sum([num for num in l1 if num%2==0])"
   ]
  },
  {
   "cell_type": "code",
   "execution_count": 157,
   "id": "aa52d8a0-a3cb-4659-a173-621c8b832a69",
   "metadata": {},
   "outputs": [
    {
     "data": {
      "text/plain": [
       "20"
      ]
     },
     "execution_count": 157,
     "metadata": {},
     "output_type": "execute_result"
    }
   ],
   "source": [
    "even_sum"
   ]
  },
  {
   "cell_type": "code",
   "execution_count": 159,
   "id": "eb1e7e9d-754d-4699-b5d8-1eea3fdb672f",
   "metadata": {},
   "outputs": [],
   "source": [
    "odd_sum=sum([num for num in l1 if num%2!=0])"
   ]
  },
  {
   "cell_type": "code",
   "execution_count": 160,
   "id": "19e9e278-8818-435d-a81e-5495f3cf6c83",
   "metadata": {},
   "outputs": [
    {
     "data": {
      "text/plain": [
       "25"
      ]
     },
     "execution_count": 160,
     "metadata": {},
     "output_type": "execute_result"
    }
   ],
   "source": [
    "odd_sum"
   ]
  },
  {
   "cell_type": "code",
   "execution_count": 161,
   "id": "f6ff17e7-e83c-42c2-9434-418a451594f1",
   "metadata": {},
   "outputs": [
    {
     "data": {
      "text/plain": [
       "[1, 4, 9, 16, 25, 36, 49, 64, 81]"
      ]
     },
     "execution_count": 161,
     "metadata": {},
     "output_type": "execute_result"
    }
   ],
   "source": [
    "list=[1,2,3,4,5,6,7,8,9]\n",
    "[num**2 for num in list]"
   ]
  },
  {
   "cell_type": "code",
   "execution_count": 162,
   "id": "eb497da6-e3f7-49c2-91ae-448042fb6c8d",
   "metadata": {},
   "outputs": [],
   "source": [
    "# create a list of only positive numbers from a given list\n",
    "numbers=[1,2,3,0,-1,-2,-3]"
   ]
  },
  {
   "cell_type": "code",
   "execution_count": 164,
   "id": "90a9bb36-0abb-469e-bcbd-3021f5e1c192",
   "metadata": {},
   "outputs": [
    {
     "data": {
      "text/plain": [
       "[1, 2, 3]"
      ]
     },
     "execution_count": 164,
     "metadata": {},
     "output_type": "execute_result"
    }
   ],
   "source": [
    "[num for num in numbers if num>0]"
   ]
  },
  {
   "cell_type": "code",
   "execution_count": 166,
   "id": "5b4f3f7b-c607-40b4-9dc6-3eff975eb7e6",
   "metadata": {},
   "outputs": [],
   "source": [
    "# create a list of only the first letters of words in alist\n",
    "words=['apple','banana','cheer','date']"
   ]
  },
  {
   "cell_type": "code",
   "execution_count": 167,
   "id": "6cec7d00-55b6-4ae1-bd8d-fd3f649e19eb",
   "metadata": {},
   "outputs": [
    {
     "data": {
      "text/plain": [
       "['a', 'b', 'c', 'd']"
      ]
     },
     "execution_count": 167,
     "metadata": {},
     "output_type": "execute_result"
    }
   ],
   "source": [
    "[word[0] for word in words]"
   ]
  },
  {
   "cell_type": "code",
   "execution_count": 168,
   "id": "27fec84b-851e-4baf-b0bb-d684e909a059",
   "metadata": {},
   "outputs": [
    {
     "data": {
      "text/plain": [
       "[32.0, 51.8, 71.6, 91.4, 111.2, 131.0]"
      ]
     },
     "execution_count": 168,
     "metadata": {},
     "output_type": "execute_result"
    }
   ],
   "source": [
    "#convert a list of temeperatures from celsius to fahrenheit using comprehension # (9/5)*temp+32\n",
    "celsius_temp=[0,10,20,30,40,50]\n",
    "[99/50*temp+32 for temp in celsius_temp]"
   ]
  },
  {
   "cell_type": "code",
   "execution_count": 171,
   "id": "f55eaa53-8e6f-429e-9194-c4a640010d4e",
   "metadata": {},
   "outputs": [],
   "source": [
    "#flatter a list in asingle list\n",
    "lists=[[1,2,3],[4,5,6],[7,8,9]]"
   ]
  },
  {
   "cell_type": "code",
   "execution_count": 172,
   "id": "8b2be276-8319-4a93-9409-a7238eb5530d",
   "metadata": {},
   "outputs": [
    {
     "data": {
      "text/plain": [
       "[1, 2, 3, 4, 5, 6, 7, 8, 9]"
      ]
     },
     "execution_count": 172,
     "metadata": {},
     "output_type": "execute_result"
    }
   ],
   "source": [
    "[num for sublist in lists for num in sublist]"
   ]
  },
  {
   "cell_type": "code",
   "execution_count": 173,
   "id": "ee4ceb75-ec94-44dd-801b-f93af51c8802",
   "metadata": {},
   "outputs": [],
   "source": [
    "# create a list of only prime numbers from agiven list(using both code and comprehension)\n",
    "numbers=[1,2,3,4,5,6,7,8,9,10]"
   ]
  },
  {
   "cell_type": "code",
   "execution_count": 174,
   "id": "3e86ced6-2b15-4668-b3df-1a9b58d58e62",
   "metadata": {},
   "outputs": [],
   "source": [
    "#creates a list of all the possible combination of 2 elements from alist"
   ]
  },
  {
   "cell_type": "code",
   "execution_count": null,
   "id": "56e5b7f1-223a-4e71-bcf4-fdf88ce3e844",
   "metadata": {},
   "outputs": [],
   "source": []
  }
 ],
 "metadata": {
  "kernelspec": {
   "display_name": "Python 3 (ipykernel)",
   "language": "python",
   "name": "python3"
  },
  "language_info": {
   "codemirror_mode": {
    "name": "ipython",
    "version": 3
   },
   "file_extension": ".py",
   "mimetype": "text/x-python",
   "name": "python",
   "nbconvert_exporter": "python",
   "pygments_lexer": "ipython3",
   "version": "3.10.8"
  }
 },
 "nbformat": 4,
 "nbformat_minor": 5
}
