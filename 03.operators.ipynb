{
 "cells": [
  {
   "cell_type": "markdown",
   "id": "c5ba4210-b57a-4b5b-afa8-118c1118cc90",
   "metadata": {},
   "source": [
    "## LOGICAL OPERATORS\n",
    "1. and\n",
    "2. or\n",
    "3. not"
   ]
  },
  {
   "cell_type": "code",
   "execution_count": 2,
   "id": "55f412a2-e676-4913-bffa-7c59b032bc66",
   "metadata": {},
   "outputs": [
    {
     "data": {
      "text/plain": [
       "True"
      ]
     },
     "execution_count": 2,
     "metadata": {},
     "output_type": "execute_result"
    }
   ],
   "source": [
    "True or False"
   ]
  },
  {
   "cell_type": "code",
   "execution_count": 3,
   "id": "0d16cbd1-50be-41d4-b0f9-db5ea0f747ce",
   "metadata": {},
   "outputs": [
    {
     "data": {
      "text/plain": [
       "True"
      ]
     },
     "execution_count": 3,
     "metadata": {},
     "output_type": "execute_result"
    }
   ],
   "source": [
    "not False\n"
   ]
  },
  {
   "cell_type": "code",
   "execution_count": 6,
   "id": "21dd8daa-7dc3-46db-8c75-5e3fbeea703b",
   "metadata": {},
   "outputs": [
    {
     "name": "stdout",
     "output_type": "stream",
     "text": [
      "DEFINE VALUES OF start=True\n",
      "DEFINE values of stop=False\n",
      "\n",
      "DEFINE VALUES OF start=True\n",
      "DEFINE values of stop by negative start=True\n",
      "DEFINE VALUES OF start by negative stop=False\n",
      "DEFINE values of stop=False\n"
     ]
    }
   ],
   "source": [
    "# let's define two variable having boolean values true and false\n",
    "\n",
    "start=True\n",
    "stop=False\n",
    "print(f\"DEFINE VALUES OF start={start}\")\n",
    "print(f\"DEFINE values of stop={stop}\\n\")\n",
    "\n",
    "print(f\"DEFINE VALUES OF start={start}\")\n",
    "print(f\"DEFINE values of stop by negative start={not stop}\")\n",
    "\n",
    "print(f\"DEFINE VALUES OF start by negative stop={not start}\")\n",
    "print(f\"DEFINE values of stop={stop}\") "
   ]
  },
  {
   "cell_type": "code",
   "execution_count": 7,
   "id": "ed6fd555-518e-42ab-97d6-0b4eda1dd90d",
   "metadata": {},
   "outputs": [
    {
     "data": {
      "text/plain": [
       "False"
      ]
     },
     "execution_count": 7,
     "metadata": {},
     "output_type": "execute_result"
    }
   ],
   "source": [
    "bool(0)"
   ]
  },
  {
   "cell_type": "code",
   "execution_count": 8,
   "id": "b20f15d6-ad57-4e67-b6af-a84c29e1f269",
   "metadata": {},
   "outputs": [
    {
     "data": {
      "text/plain": [
       "0"
      ]
     },
     "execution_count": 8,
     "metadata": {},
     "output_type": "execute_result"
    }
   ],
   "source": [
    "int(bool(0))# first we type cast int in bool then bool in int"
   ]
  },
  {
   "cell_type": "code",
   "execution_count": 9,
   "id": "606c0189-b030-4dc4-9253-af388013d173",
   "metadata": {},
   "outputs": [
    {
     "data": {
      "text/plain": [
       "True"
      ]
     },
     "execution_count": 9,
     "metadata": {},
     "output_type": "execute_result"
    }
   ],
   "source": [
    "not int(bool(0))# again we type cast"
   ]
  },
  {
   "cell_type": "code",
   "execution_count": 10,
   "id": "00fc5260-8449-4eda-a745-eca637af0281",
   "metadata": {},
   "outputs": [
    {
     "data": {
      "text/plain": [
       "False"
      ]
     },
     "execution_count": 10,
     "metadata": {},
     "output_type": "execute_result"
    }
   ],
   "source": [
    "not 1\n"
   ]
  },
  {
   "cell_type": "code",
   "execution_count": 12,
   "id": "f5f3d3ca-43c6-4f4f-b114-8945611089b1",
   "metadata": {},
   "outputs": [
    {
     "data": {
      "text/plain": [
       "1"
      ]
     },
     "execution_count": 12,
     "metadata": {},
     "output_type": "execute_result"
    }
   ],
   "source": [
    "int (not 0)"
   ]
  },
  {
   "cell_type": "code",
   "execution_count": 13,
   "id": "9c824919-f1c1-42df-9ce9-999e4bf24595",
   "metadata": {},
   "outputs": [
    {
     "data": {
      "text/plain": [
       "0"
      ]
     },
     "execution_count": 13,
     "metadata": {},
     "output_type": "execute_result"
    }
   ],
   "source": [
    "int (not 4)# it reverse the no. 0 to 1 ...and other number--> to 0"
   ]
  },
  {
   "cell_type": "code",
   "execution_count": 19,
   "id": "6bbf01ef-e445-4c17-8247-163ead3dbef0",
   "metadata": {},
   "outputs": [
    {
     "name": "stdout",
     "output_type": "stream",
     "text": [
      "boolean value of no. 5 is True\n",
      "boolean value of no. -5 is True\n",
      "negation of no. 5 is Falseand negation of -5 is False\n"
     ]
    }
   ],
   "source": [
    "positive=5\n",
    "negative=-5\n",
    "print(f\"boolean value of no. {positive} is {bool(positive)}\")\n",
    "print(f\"boolean value of no. {negative} is {bool(positive)}\")\n",
    "\n",
    "print(f\"negation of no. {positive} is {not(positive) }and negation of {negative} is {not negative}\")\n",
    "\n",
    "      \n"
   ]
  },
  {
   "cell_type": "markdown",
   "id": "a71b79c9-5761-4f27-adf4-2b7fddb6c6ce",
   "metadata": {},
   "source": [
    "## logical And"
   ]
  },
  {
   "cell_type": "code",
   "execution_count": 21,
   "id": "939a1600-6238-4d05-95af-ff277eb3c1f0",
   "metadata": {},
   "outputs": [
    {
     "name": "stdout",
     "output_type": "stream",
     "text": [
      "Dish contains vegetables :True\n",
      "Dish contains salt:False\n",
      "HEENCE, dish prepared was good:False\n"
     ]
    }
   ],
   "source": [
    "vegetables=True\n",
    "salt=False\n",
    "dish=vegetables and salt\n",
    "print(f\"Dish contains vegetables :{vegetables}\")\n",
    "print(f\"Dish contains salt:{salt}\")\n",
    "print(f\"HEENCE, dish prepared was good:{dish}\")"
   ]
  },
  {
   "cell_type": "code",
   "execution_count": 22,
   "id": "a290e028-bc4c-49e4-8d9b-e8637594c32f",
   "metadata": {},
   "outputs": [
    {
     "data": {
      "text/plain": [
       "1"
      ]
     },
     "execution_count": 22,
     "metadata": {},
     "output_type": "execute_result"
    }
   ],
   "source": [
    "True*True# as 1*1"
   ]
  },
  {
   "cell_type": "code",
   "execution_count": 23,
   "id": "72bcdb4b-23c4-4a02-88d1-baf481fe81a8",
   "metadata": {},
   "outputs": [
    {
     "data": {
      "text/plain": [
       "0"
      ]
     },
     "execution_count": 23,
     "metadata": {},
     "output_type": "execute_result"
    }
   ],
   "source": [
    "True*Falseas #1*0"
   ]
  },
  {
   "cell_type": "code",
   "execution_count": 24,
   "id": "86d3f5a9-c37e-4e79-87ad-945e6366cc15",
   "metadata": {},
   "outputs": [
    {
     "data": {
      "text/plain": [
       "True"
      ]
     },
     "execution_count": 24,
     "metadata": {},
     "output_type": "execute_result"
    }
   ],
   "source": [
    "not True* False #here, it arises due to order of precedences, as we use bracket (as shown below) it first solve bracket , hence. output will correct"
   ]
  },
  {
   "cell_type": "code",
   "execution_count": 25,
   "id": "c9868d2a-1756-4138-b76c-6f9bec7397e0",
   "metadata": {},
   "outputs": [
    {
     "data": {
      "text/plain": [
       "0"
      ]
     },
     "execution_count": 25,
     "metadata": {},
     "output_type": "execute_result"
    }
   ],
   "source": [
    "False*False"
   ]
  },
  {
   "cell_type": "code",
   "execution_count": 26,
   "id": "18c8a81d-faf8-4e18-9a8f-5b2743ba24b4",
   "metadata": {},
   "outputs": [
    {
     "data": {
      "text/plain": [
       "0"
      ]
     },
     "execution_count": 26,
     "metadata": {},
     "output_type": "execute_result"
    }
   ],
   "source": [
    "(not True)*False"
   ]
  },
  {
   "cell_type": "code",
   "execution_count": 28,
   "id": "5862a526-67c9-47fd-b919-0e7af2079edf",
   "metadata": {},
   "outputs": [
    {
     "data": {
      "text/plain": [
       "True"
      ]
     },
     "execution_count": 28,
     "metadata": {},
     "output_type": "execute_result"
    }
   ],
   "source": [
    "not False * False# it solves firstly false into false which is 0, the it solve not 0 which is true....hence precedence order is also useful"
   ]
  },
  {
   "cell_type": "code",
   "execution_count": 41,
   "id": "d2a22597-74bc-465f-a7e7-3bf2b38f9e80",
   "metadata": {},
   "outputs": [
    {
     "name": "stdout",
     "output_type": "stream",
     "text": [
      "True\n",
      "True\n",
      "0\n"
     ]
    }
   ],
   "source": [
    "print(not(False)*False)\n",
    "print(not False*False)\n",
    "print((not False)*False)"
   ]
  },
  {
   "cell_type": "code",
   "execution_count": 38,
   "id": "2f197b94-c2c9-4c35-95b6-4afe75c0d2b0",
   "metadata": {},
   "outputs": [
    {
     "data": {
      "text/plain": [
       "True"
      ]
     },
     "execution_count": 42,
     "metadata": {},
     "output_type": "execute_result"
    }
   ],
   "source": [
    "not(False"
   ]
  },
  {
   "cell_type": "markdown",
   "id": "8472651b-38c1-4b05-9d69-bd2be394f066",
   "metadata": {},
   "source": [
    "### Equality operators"
   ]
  },
  {
   "cell_type": "code",
   "execution_count": null,
   "id": "76f29f2d-f681-4407-a5ab-76add2162e85",
   "metadata": {},
   "outputs": [],
   "source": []
  },
  {
   "cell_type": "code",
   "execution_count": null,
   "id": "01cf614b-8261-4463-87a3-5a734be46b2a",
   "metadata": {},
   "outputs": [],
   "source": []
  },
  {
   "cell_type": "code",
   "execution_count": null,
   "id": "5dfada88-3ce6-4c63-9e74-3309c75a8577",
   "metadata": {},
   "outputs": [],
   "source": []
  },
  {
   "cell_type": "code",
   "execution_count": null,
   "id": "aa6d75e2-c184-4ec3-8f13-6ecd6d0d05ca",
   "metadata": {},
   "outputs": [],
   "source": []
  },
  {
   "cell_type": "code",
   "execution_count": null,
   "id": "8456222a-e610-498b-8129-d3736b0780f2",
   "metadata": {},
   "outputs": [],
   "source": []
  },
  {
   "cell_type": "code",
   "execution_count": null,
   "id": "3470d995-b682-46f6-9e5c-6c3fb98d661e",
   "metadata": {},
   "outputs": [],
   "source": []
  },
  {
   "cell_type": "code",
   "execution_count": null,
   "id": "03e3e28a-113f-4f36-99c5-571946d977de",
   "metadata": {},
   "outputs": [],
   "source": []
  },
  {
   "cell_type": "code",
   "execution_count": null,
   "id": "32f6460d-9e70-4d9d-96bc-38aa73ed555d",
   "metadata": {},
   "outputs": [],
   "source": []
  },
  {
   "cell_type": "code",
   "execution_count": null,
   "id": "fa198d19-3ebd-471b-8ac7-08c545560e15",
   "metadata": {},
   "outputs": [],
   "source": []
  },
  {
   "cell_type": "code",
   "execution_count": null,
   "id": "f3f4328a-b286-43b6-87f5-fb3efdf61440",
   "metadata": {},
   "outputs": [],
   "source": []
  },
  {
   "cell_type": "code",
   "execution_count": null,
   "id": "087e2c1e-e182-47f1-81b1-aa23e2c9499f",
   "metadata": {},
   "outputs": [],
   "source": []
  },
  {
   "cell_type": "code",
   "execution_count": null,
   "id": "15a954f7-78af-4b8a-b3d7-5181e3d82f98",
   "metadata": {},
   "outputs": [],
   "source": []
  },
  {
   "cell_type": "code",
   "execution_count": null,
   "id": "40c85761-baa5-411f-a849-b0904bcb68e9",
   "metadata": {},
   "outputs": [],
   "source": []
  }
 ],
 "metadata": {
  "kernelspec": {
   "display_name": "Python 3 (ipykernel)",
   "language": "python",
   "name": "python3"
  },
  "language_info": {
   "codemirror_mode": {
    "name": "ipython",
    "version": 3
   },
   "file_extension": ".py",
   "mimetype": "text/x-python",
   "name": "python",
   "nbconvert_exporter": "python",
   "pygments_lexer": "ipython3",
   "version": "3.10.8"
  }
 },
 "nbformat": 4,
 "nbformat_minor": 5
}
