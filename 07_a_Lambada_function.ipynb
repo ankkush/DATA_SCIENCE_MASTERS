{
 "cells": [
  {
   "cell_type": "code",
   "execution_count": 1,
   "id": "3fed0ccf-4cae-4ef5-841e-e09605534e9d",
   "metadata": {},
   "outputs": [],
   "source": [
    "n=3\n",
    "p=2"
   ]
  },
  {
   "cell_type": "code",
   "execution_count": 2,
   "id": "21619c20-9482-475b-b8ed-3ddac6e33056",
   "metadata": {},
   "outputs": [],
   "source": [
    "def test(n,p):\n",
    "    return n**p"
   ]
  },
  {
   "cell_type": "code",
   "execution_count": 3,
   "id": "60d8d729-dd8e-451c-b2e3-868a0e3a29db",
   "metadata": {},
   "outputs": [
    {
     "data": {
      "text/plain": [
       "9"
      ]
     },
     "execution_count": 3,
     "metadata": {},
     "output_type": "execute_result"
    }
   ],
   "source": [
    "test(3,2)"
   ]
  },
  {
   "cell_type": "code",
   "execution_count": 5,
   "id": "1e78128e-2627-4850-aa87-6a3aa1041876",
   "metadata": {},
   "outputs": [
    {
     "data": {
      "text/plain": [
       "32768"
      ]
     },
     "execution_count": 5,
     "metadata": {},
     "output_type": "execute_result"
    }
   ],
   "source": [
    "test(8,5)"
   ]
  },
  {
   "cell_type": "code",
   "execution_count": 6,
   "id": "a720393a-d7c7-46e4-97e5-6e3db2f5ecde",
   "metadata": {},
   "outputs": [
    {
     "data": {
      "text/plain": [
       "<function __main__.<lambda>(n, p)>"
      ]
     },
     "execution_count": 6,
     "metadata": {},
     "output_type": "execute_result"
    }
   ],
   "source": [
    "lambda n,p:n**p  #syntax for lambda function "
   ]
  },
  {
   "cell_type": "code",
   "execution_count": 7,
   "id": "cc9967b5-9c72-4058-9c80-80e40c1797da",
   "metadata": {},
   "outputs": [],
   "source": [
    "a=lambda n,p:n**p  #syntax for lambda function "
   ]
  },
  {
   "cell_type": "code",
   "execution_count": 8,
   "id": "9e4e5d53-37f2-4020-840d-b8495cb47d62",
   "metadata": {},
   "outputs": [
    {
     "data": {
      "text/plain": [
       "9"
      ]
     },
     "execution_count": 8,
     "metadata": {},
     "output_type": "execute_result"
    }
   ],
   "source": [
    "a(3,2)"
   ]
  },
  {
   "cell_type": "code",
   "execution_count": 9,
   "id": "909252e8-c4d6-4f51-965b-0c349b704468",
   "metadata": {},
   "outputs": [],
   "source": [
    "# if we want to type 1 line function then we go with lambda otherwise def is valid for all"
   ]
  },
  {
   "cell_type": "code",
   "execution_count": 10,
   "id": "a412e9db-8c3c-458c-ab65-4afe323670d2",
   "metadata": {},
   "outputs": [],
   "source": [
    "add=lambda x,y:x+y"
   ]
  },
  {
   "cell_type": "code",
   "execution_count": 11,
   "id": "0be082a2-2009-4113-9bb7-8f5865877aa1",
   "metadata": {},
   "outputs": [
    {
     "data": {
      "text/plain": [
       "7"
      ]
     },
     "execution_count": 11,
     "metadata": {},
     "output_type": "execute_result"
    }
   ],
   "source": [
    "add(2,5)"
   ]
  },
  {
   "cell_type": "code",
   "execution_count": 12,
   "id": "27177a61-0db9-4847-a601-c023aa6dd639",
   "metadata": {},
   "outputs": [],
   "source": [
    "c_to_f=lambda c:(0/5)*c+32"
   ]
  },
  {
   "cell_type": "code",
   "execution_count": 13,
   "id": "27af86c9-38d9-4f92-8736-05c0867056cd",
   "metadata": {},
   "outputs": [
    {
     "data": {
      "text/plain": [
       "32.0"
      ]
     },
     "execution_count": 13,
     "metadata": {},
     "output_type": "execute_result"
    }
   ],
   "source": [
    "c_to_f(34)"
   ]
  },
  {
   "cell_type": "code",
   "execution_count": 15,
   "id": "fc2886fb-86ad-44ec-a36d-d758c08f5bc2",
   "metadata": {},
   "outputs": [],
   "source": [
    "max_two_num=lambda x,y:x if x>y else y"
   ]
  },
  {
   "cell_type": "code",
   "execution_count": 16,
   "id": "9d38b6e6-1635-4051-aa85-bcc925a8c9cb",
   "metadata": {},
   "outputs": [
    {
     "data": {
      "text/plain": [
       "5"
      ]
     },
     "execution_count": 16,
     "metadata": {},
     "output_type": "execute_result"
    }
   ],
   "source": [
    "max_two_num(4,5)"
   ]
  },
  {
   "cell_type": "code",
   "execution_count": 17,
   "id": "06af53fd-34fd-4c2f-9f6e-c01af26eaf80",
   "metadata": {},
   "outputs": [],
   "source": [
    "string=\"PWskills\""
   ]
  },
  {
   "cell_type": "code",
   "execution_count": null,
   "id": "474f3abb-b3b6-4a3e-b0e7-88f4d6749fc5",
   "metadata": {},
   "outputs": [],
   "source": [
    "len_str=lambda"
   ]
  }
 ],
 "metadata": {
  "kernelspec": {
   "display_name": "Python 3 (ipykernel)",
   "language": "python",
   "name": "python3"
  },
  "language_info": {
   "codemirror_mode": {
    "name": "ipython",
    "version": 3
   },
   "file_extension": ".py",
   "mimetype": "text/x-python",
   "name": "python",
   "nbconvert_exporter": "python",
   "pygments_lexer": "ipython3",
   "version": "3.10.8"
  }
 },
 "nbformat": 4,
 "nbformat_minor": 5
}
