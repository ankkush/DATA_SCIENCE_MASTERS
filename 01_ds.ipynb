{
 "cells": [
  {
   "cell_type": "markdown",
   "id": "aa76aa35-4fb1-460d-ad9a-7919c8d7f5f3",
   "metadata": {},
   "source": [
    "#.ipynb stands for interactive python notebook\n"
   ]
  },
  {
   "cell_type": "code",
   "execution_count": 2,
   "id": "7d1f40ab-111b-49eb-858b-2937c089daaa",
   "metadata": {},
   "outputs": [],
   "source": [
    "a=10"
   ]
  },
  {
   "cell_type": "code",
   "execution_count": 3,
   "id": "9868e40c-3eb9-470f-bfdb-9e7d460c3718",
   "metadata": {},
   "outputs": [
    {
     "name": "stdout",
     "output_type": "stream",
     "text": [
      "10\n"
     ]
    }
   ],
   "source": [
    "print(a)\n"
   ]
  },
  {
   "cell_type": "code",
   "execution_count": 4,
   "id": "3c11cc60-ef16-4d7f-a2d4-9a859f96a6cd",
   "metadata": {},
   "outputs": [],
   "source": [
    "# hastag is used as comment in 'code' compiler do not read it ...as it is a comment but in 'markdown' those comments are printed"
   ]
  },
  {
   "cell_type": "markdown",
   "id": "44d5f57b-1707-4fc4-a7ae-47f316fad651",
   "metadata": {},
   "source": [
    "###### use of Markdown is for printing the description written by using hastag(6 hastag)\n",
    "## jitne hastag lagayege unta small letter hoga as like in html h1,h2 etc...(2 hastag)\n",
    "wothout hastag bhi print hoga but size default rahega(without hastag)\n"
   ]
  },
  {
   "cell_type": "code",
   "execution_count": 5,
   "id": "93b05202-97f4-4c7b-b340-d4186b24207d",
   "metadata": {},
   "outputs": [],
   "source": [
    "# 'shift + enter' is short cut to execute"
   ]
  },
  {
   "cell_type": "code",
   "execution_count": 6,
   "id": "a136add2-5086-4ffd-9708-6dfeae0a3ba9",
   "metadata": {},
   "outputs": [],
   "source": [
    "#just before the run option..interrupt icon is seen which stops running of infinte loop"
   ]
  },
  {
   "cell_type": "code",
   "execution_count": 8,
   "id": "9fc8ea37-2614-4383-975f-68cbdbb2bde6",
   "metadata": {},
   "outputs": [],
   "source": [
    "#copy(just select the cell any then press the copy symbol and go to cell where you want to paste and press the paste icon just right side of copy\n",
    "#shortcut is copy by ctrl+c and then paste where you want by ctrl+v"
   ]
  },
  {
   "cell_type": "code",
   "execution_count": 9,
   "id": "517096fe-8de6-456d-81f3-826a61deb9f8",
   "metadata": {},
   "outputs": [
    {
     "data": {
      "text/plain": [
       "'multi line comment are given\\nby triple quotes of single line(or we also give multiline comment by double quotes too)\\n'"
      ]
     },
     "execution_count": 9,
     "metadata": {},
     "output_type": "execute_result"
    }
   ],
   "source": [
    "'''multi line comment are given\n",
    "by triple quotes of single line(or we also give multiline comment by double quotes too)\n",
    "'''"
   ]
  },
  {
   "cell_type": "markdown",
   "id": "9a7433bd-d940-495c-8486-a5cea08095f3",
   "metadata": {},
   "source": [
    "## markdone is used of title for eg below\n",
    "# WElcone in Python\n",
    "1) lets star code"
   ]
  },
  {
   "cell_type": "code",
   "execution_count": 10,
   "id": "d0d9a39c-50a9-4340-8a28-01a00c658eb5",
   "metadata": {},
   "outputs": [
    {
     "data": {
      "text/plain": [
       "4"
      ]
     },
     "execution_count": 10,
     "metadata": {},
     "output_type": "execute_result"
    }
   ],
   "source": [
    "1+3"
   ]
  },
  {
   "cell_type": "code",
   "execution_count": 11,
   "id": "da8106b2-2644-43ea-89a4-a0b4e1c366ca",
   "metadata": {},
   "outputs": [
    {
     "name": "stdout",
     "output_type": "stream",
     "text": [
      "4\n"
     ]
    }
   ],
   "source": [
    "print(1+3)"
   ]
  },
  {
   "cell_type": "code",
   "execution_count": 13,
   "id": "835dd980-922e-4ed7-962a-df0a662fe9ac",
   "metadata": {},
   "outputs": [],
   "source": [
    "#dono me difference to pata chal gaya hoga..without print wala output consult ke lioye hota hai"
   ]
  },
  {
   "cell_type": "code",
   "execution_count": 14,
   "id": "c94545d8-8e29-4fb9-bc08-8f6cedeb5f3c",
   "metadata": {},
   "outputs": [
    {
     "name": "stdout",
     "output_type": "stream",
     "text": [
      "HELLO WORLD\n"
     ]
    }
   ],
   "source": [
    "print(\"HELLO WORLD\") "
   ]
  },
  {
   "cell_type": "code",
   "execution_count": 15,
   "id": "1b0c4985-a7ff-4348-8532-d3247546811c",
   "metadata": {},
   "outputs": [
    {
     "name": "stdout",
     "output_type": "stream",
     "text": [
      "for mutlti line under print\n",
      "we use triple sigle quotes\n"
     ]
    }
   ],
   "source": [
    "print('''for mutlti line under print\n",
    "we use triple sigle quotes''')"
   ]
  },
  {
   "cell_type": "markdown",
   "id": "092d4206-6c78-4a39-9975-21732bc5a307",
   "metadata": {},
   "source": [
    "# let's learn about ASSignment variables"
   ]
  },
  {
   "cell_type": "code",
   "execution_count": 18,
   "id": "90a6a236-d279-4650-8071-bd768e626413",
   "metadata": {},
   "outputs": [],
   "source": [
    "name='ankush\n",
    "company=\"pwskills\"  # double or single quotes are important whenever you played with strings\n",
    "age=17\n",
    "college='Ld'"
   ]
  },
  {
   "cell_type": "code",
   "execution_count": 20,
   "id": "35a5124e-84ae-477e-ada5-53cb89191dd7",
   "metadata": {},
   "outputs": [
    {
     "data": {
      "text/plain": [
       "'ankush'"
      ]
     },
     "execution_count": 20,
     "metadata": {},
     "output_type": "execute_result"
    }
   ],
   "source": [
    "name"
   ]
  },
  {
   "cell_type": "code",
   "execution_count": 22,
   "id": "3d573e8f-d328-4f99-81bc-1a31bf4ff987",
   "metadata": {},
   "outputs": [],
   "source": [
    "college=\"vgec\"#we can update values too"
   ]
  },
  {
   "cell_type": "code",
   "execution_count": 23,
   "id": "477825c4-fe8e-4075-868d-fa26fdc6d944",
   "metadata": {},
   "outputs": [
    {
     "data": {
      "text/plain": [
       "'vgec'"
      ]
     },
     "execution_count": 23,
     "metadata": {},
     "output_type": "execute_result"
    }
   ],
   "source": [
    "college"
   ]
  },
  {
   "cell_type": "code",
   "execution_count": 24,
   "id": "37bfcce3-f535-4f20-8bba-164f385e01e1",
   "metadata": {},
   "outputs": [
    {
     "data": {
      "text/plain": [
       "str"
      ]
     },
     "execution_count": 24,
     "metadata": {},
     "output_type": "execute_result"
    }
   ],
   "source": [
    "type(company) # type of variables can be judge by using such comments"
   ]
  },
  {
   "cell_type": "code",
   "execution_count": 25,
   "id": "43d26478-a1ee-46ef-acd5-119243cbfc91",
   "metadata": {},
   "outputs": [
    {
     "data": {
      "text/plain": [
       "int"
      ]
     },
     "execution_count": 25,
     "metadata": {},
     "output_type": "execute_result"
    }
   ],
   "source": [
    "type(age)"
   ]
  },
  {
   "cell_type": "code",
   "execution_count": 26,
   "id": "f519d5cf-878f-4f6f-8855-e41fde498fc9",
   "metadata": {},
   "outputs": [
    {
     "data": {
      "text/plain": [
       "complex"
      ]
     },
     "execution_count": 26,
     "metadata": {},
     "output_type": "execute_result"
    }
   ],
   "source": [
    "type(1+2j) # complex no. ka type bhi batayega"
   ]
  },
  {
   "cell_type": "code",
   "execution_count": 28,
   "id": "7236974c-ad1d-4dfb-8b86-23e166b7d1af",
   "metadata": {},
   "outputs": [
    {
     "data": {
      "text/plain": [
       "'variable name can start with alphabhets(uper and lower case both) and by underscore(_)  \\nreserved key words such as loat,int,etc..are not allowed. \\nwhite sapace too not allowed\\nnumbers, special symbols  can be used after using first letter as mention very above'"
      ]
     },
     "execution_count": 28,
     "metadata": {},
     "output_type": "execute_result"
    }
   ],
   "source": [
    "\"\"\"variable name can start with alphabhets(uper and lower case both) and by underscore(_)  \n",
    "reserved key words such as loat,int,etc..are not allowed. \n",
    "white sapace too not allowed\n",
    "numbers, special symbols  can be used after using first letter as mention very above\"\"\""
   ]
  },
  {
   "cell_type": "code",
   "execution_count": 32,
   "id": "eebed8a7-dd2b-4663-b02a-3619b98284b9",
   "metadata": {},
   "outputs": [
    {
     "ename": "SyntaxError",
     "evalue": "invalid decimal literal (3775388113.py, line 1)",
     "output_type": "error",
     "traceback": [
      "\u001b[0;36m  Cell \u001b[0;32mIn[32], line 1\u001b[0;36m\u001b[0m\n\u001b[0;31m    5num=32 # not allowed\u001b[0m\n\u001b[0m    ^\u001b[0m\n\u001b[0;31mSyntaxError\u001b[0m\u001b[0;31m:\u001b[0m invalid decimal literal\n"
     ]
    }
   ],
   "source": [
    "5num=32 # not allowed"
   ]
  },
  {
   "cell_type": "code",
   "execution_count": 33,
   "id": "f9cc74e2-35c1-455e-9006-00abb2982b86",
   "metadata": {},
   "outputs": [
    {
     "ename": "SyntaxError",
     "evalue": "invalid decimal literal (4223410424.py, line 1)",
     "output_type": "error",
     "traceback": [
      "\u001b[0;36m  Cell \u001b[0;32mIn[33], line 1\u001b[0;36m\u001b[0m\n\u001b[0;31m    5num\u001b[0m\n\u001b[0m    ^\u001b[0m\n\u001b[0;31mSyntaxError\u001b[0m\u001b[0;31m:\u001b[0m invalid decimal literal\n"
     ]
    }
   ],
   "source": [
    "5num"
   ]
  },
  {
   "cell_type": "code",
   "execution_count": 34,
   "id": "c38cada3-5958-4b03-9507-7b94459e9aaa",
   "metadata": {},
   "outputs": [],
   "source": [
    "### bool variable"
   ]
  },
  {
   "cell_type": "code",
   "execution_count": 36,
   "id": "3fe8de6a-f235-4d9b-8940-606c19b97ad9",
   "metadata": {},
   "outputs": [
    {
     "data": {
      "text/plain": [
       "True"
      ]
     },
     "execution_count": 36,
     "metadata": {},
     "output_type": "execute_result"
    }
   ],
   "source": [
    "True"
   ]
  },
  {
   "cell_type": "code",
   "execution_count": 37,
   "id": "0dbfb702-dd82-473d-9f99-17d98286de56",
   "metadata": {},
   "outputs": [
    {
     "data": {
      "text/plain": [
       "True"
      ]
     },
     "execution_count": 37,
     "metadata": {},
     "output_type": "execute_result"
    }
   ],
   "source": [
    "True or False"
   ]
  },
  {
   "cell_type": "code",
   "execution_count": 38,
   "id": "6364e1a6-851c-4451-86dc-ad387632e244",
   "metadata": {},
   "outputs": [
    {
     "data": {
      "text/plain": [
       "False"
      ]
     },
     "execution_count": 38,
     "metadata": {},
     "output_type": "execute_result"
    }
   ],
   "source": [
    "False and True"
   ]
  },
  {
   "cell_type": "code",
   "execution_count": 39,
   "id": "1ed4eb9e-9dfd-44b7-bd67-066f6125c1d8",
   "metadata": {},
   "outputs": [
    {
     "data": {
      "text/plain": [
       "True"
      ]
     },
     "execution_count": 39,
     "metadata": {},
     "output_type": "execute_result"
    }
   ],
   "source": [
    "not False"
   ]
  },
  {
   "cell_type": "code",
   "execution_count": 40,
   "id": "1fd10bd7-bad9-4bae-9b34-32676024d5cc",
   "metadata": {},
   "outputs": [
    {
     "data": {
      "text/plain": [
       "bool"
      ]
     },
     "execution_count": 40,
     "metadata": {},
     "output_type": "execute_result"
    }
   ],
   "source": [
    "type(False)"
   ]
  },
  {
   "cell_type": "code",
   "execution_count": 45,
   "id": "7434ee4d-9ad1-49a2-a4c4-41a3ec19f4ac",
   "metadata": {},
   "outputs": [
    {
     "data": {
      "text/plain": [
       "True"
      ]
     },
     "execution_count": 45,
     "metadata": {},
     "output_type": "execute_result"
    }
   ],
   "source": [
    "\n",
    "bool(4) # and other than zero is true"
   ]
  },
  {
   "cell_type": "code",
   "execution_count": 42,
   "id": "ed77c364-4356-48f3-a881-3acefcf5cd0a",
   "metadata": {},
   "outputs": [
    {
     "data": {
      "text/plain": [
       "False"
      ]
     },
     "execution_count": 42,
     "metadata": {},
     "output_type": "execute_result"
    }
   ],
   "source": [
    "bool(0)"
   ]
  },
  {
   "cell_type": "code",
   "execution_count": 43,
   "id": "4491dba0-d6d2-42ef-a98a-a809a1bf8645",
   "metadata": {},
   "outputs": [
    {
     "data": {
      "text/plain": [
       "False"
      ]
     },
     "execution_count": 43,
     "metadata": {},
     "output_type": "execute_result"
    }
   ],
   "source": [
    "bool()"
   ]
  },
  {
   "cell_type": "code",
   "execution_count": 44,
   "id": "bf9df3a0-396d-49dc-991a-2bd0c2cbf506",
   "metadata": {},
   "outputs": [
    {
     "data": {
      "text/plain": [
       "True"
      ]
     },
     "execution_count": 44,
     "metadata": {},
     "output_type": "execute_result"
    }
   ],
   "source": [
    "bool(a)"
   ]
  },
  {
   "cell_type": "code",
   "execution_count": 46,
   "id": "3b4606c0-95d3-4ddb-bd9f-1ae7d75804b8",
   "metadata": {},
   "outputs": [
    {
     "name": "stdout",
     "output_type": "stream",
     "text": [
      "Good evening,ankush\n"
     ]
    }
   ],
   "source": [
    "a=1\n",
    "if bool(a)==False:\n",
    "    print(\"Good morning ankush\")\n",
    "else:\n",
    "    print(\"Good evening,ankush\")"
   ]
  },
  {
   "cell_type": "code",
   "execution_count": 47,
   "id": "2096d5e5-c2b3-4bdd-9614-6c5fdb8e9d09",
   "metadata": {},
   "outputs": [],
   "source": [
    "# now, above numbers are letter and numbers which converted in bool and this is known as typecasting"
   ]
  },
  {
   "cell_type": "code",
   "execution_count": 48,
   "id": "c0d8e7db-fac6-4c9c-b82e-024024cec29b",
   "metadata": {},
   "outputs": [
    {
     "data": {
      "text/plain": [
       "str"
      ]
     },
     "execution_count": 48,
     "metadata": {},
     "output_type": "execute_result"
    }
   ],
   "source": [
    "#typecasting\n",
    "type(str(23))"
   ]
  },
  {
   "cell_type": "code",
   "execution_count": 50,
   "id": "0ba37f99-ba2a-4b76-bc31-c397a5342e33",
   "metadata": {},
   "outputs": [
    {
     "data": {
      "text/plain": [
       "int"
      ]
     },
     "execution_count": 50,
     "metadata": {},
     "output_type": "execute_result"
    }
   ],
   "source": [
    "a=2\n",
    "type(a)"
   ]
  },
  {
   "cell_type": "code",
   "execution_count": 54,
   "id": "d0c75700-abde-41f3-a6a0-6800caaf6cc3",
   "metadata": {},
   "outputs": [
    {
     "data": {
      "text/plain": [
       "2.0"
      ]
     },
     "execution_count": 54,
     "metadata": {},
     "output_type": "execute_result"
    }
   ],
   "source": [
    "(float(a))"
   ]
  },
  {
   "cell_type": "markdown",
   "id": "feb9e5e0-b1e8-4ee3-bf30-7fda4a804d44",
   "metadata": {},
   "source": [
    "Dynamic Typing"
   ]
  },
  {
   "cell_type": "code",
   "execution_count": 58,
   "id": "d874f31c-1822-42f0-b294-2eabb521e52f",
   "metadata": {},
   "outputs": [
    {
     "name": "stdout",
     "output_type": "stream",
     "text": [
      "<class 'str'>\n"
     ]
    }
   ],
   "source": [
    "# phyton is good language as in c++ and java we define such as int a=5 but in python it understand type automatically \n",
    "a=5 #it unerstand that it is int\n",
    "b='jai shree ram' # will understand type of b\n",
    "print(type(b))\n"
   ]
  },
  {
   "cell_type": "markdown",
   "id": "e4a67087-5e27-4085-8ea9-137123e5e762",
   "metadata": {},
   "source": [
    "Concatenation between different types"
   ]
  },
  {
   "cell_type": "code",
   "execution_count": 63,
   "id": "b2550cd9-399c-4a75-991f-7c4537f250b5",
   "metadata": {},
   "outputs": [
    {
     "data": {
      "text/plain": [
       "'1 4'"
      ]
     },
     "execution_count": 63,
     "metadata": {},
     "output_type": "execute_result"
    }
   ],
   "source": [
    "\"1\"+\" 4\" # addition of two int values by converting it strings"
   ]
  },
  {
   "cell_type": "code",
   "execution_count": 64,
   "id": "06b8c4fc-8664-4cdd-83ca-1673fe6defbf",
   "metadata": {},
   "outputs": [
    {
     "ename": "TypeError",
     "evalue": "can only concatenate str (not \"int\") to str",
     "output_type": "error",
     "traceback": [
      "\u001b[0;31m---------------------------------------------------------------------------\u001b[0m",
      "\u001b[0;31mTypeError\u001b[0m                                 Traceback (most recent call last)",
      "Cell \u001b[0;32mIn[64], line 1\u001b[0m\n\u001b[0;32m----> 1\u001b[0m \u001b[38;5;124;43m\"\u001b[39;49m\u001b[38;5;124;43m1\u001b[39;49m\u001b[38;5;124;43m\"\u001b[39;49m\u001b[38;5;241;43m+\u001b[39;49m\u001b[38;5;241;43m5\u001b[39;49m \u001b[38;5;66;03m# one is string and other is int..which is not possible hence error will be occurs\u001b[39;00m\n",
      "\u001b[0;31mTypeError\u001b[0m: can only concatenate str (not \"int\") to str"
     ]
    }
   ],
   "source": [
    "\"1\"+5 # one is string and other is int..which is not possible hence error will be occurs"
   ]
  },
  {
   "cell_type": "code",
   "execution_count": 70,
   "id": "ff0a1f0f-eafd-4cb2-bb00-9dc3d5853790",
   "metadata": {},
   "outputs": [
    {
     "data": {
      "text/plain": [
       "'ankush'"
      ]
     },
     "execution_count": 70,
     "metadata": {},
     "output_type": "execute_result"
    }
   ],
   "source": [
    "\"an\"+\"kush\""
   ]
  },
  {
   "cell_type": "code",
   "execution_count": 72,
   "id": "18c4005c-2753-48b6-9b09-6874142b7f81",
   "metadata": {},
   "outputs": [
    {
     "data": {
      "text/plain": [
       "5.05"
      ]
     },
     "execution_count": 72,
     "metadata": {},
     "output_type": "execute_result"
    }
   ],
   "source": [
    "2.05+3 # one in float other in int ..hence result converted into float"
   ]
  },
  {
   "cell_type": "code",
   "execution_count": 73,
   "id": "ef9d1e29-e8e6-41fa-b7ed-1ae5aadda135",
   "metadata": {},
   "outputs": [
    {
     "ename": "TypeError",
     "evalue": "unsupported operand type(s) for /: 'str' and 'str'",
     "output_type": "error",
     "traceback": [
      "\u001b[0;31m---------------------------------------------------------------------------\u001b[0m",
      "\u001b[0;31mTypeError\u001b[0m                                 Traceback (most recent call last)",
      "Cell \u001b[0;32mIn[73], line 1\u001b[0m\n\u001b[0;32m----> 1\u001b[0m \u001b[38;5;124;43m\"\u001b[39;49m\u001b[38;5;124;43m1\u001b[39;49m\u001b[38;5;124;43m\"\u001b[39;49m\u001b[43m \u001b[49m\u001b[38;5;241;43m/\u001b[39;49m\u001b[43m \u001b[49m\u001b[38;5;28;43mstr\u001b[39;49m\u001b[43m(\u001b[49m\u001b[38;5;241;43m1\u001b[39;49m\u001b[43m)\u001b[49m \u001b[38;5;66;03m# divide is not possible\u001b[39;00m\n",
      "\u001b[0;31mTypeError\u001b[0m: unsupported operand type(s) for /: 'str' and 'str'"
     ]
    }
   ],
   "source": [
    "\"1\" / str(1) # divide is not possible on string"
   ]
  },
  {
   "cell_type": "code",
   "execution_count": 74,
   "id": "9f71352c-6cea-43cb-8bd0-6d75245f3b36",
   "metadata": {},
   "outputs": [
    {
     "data": {
      "text/plain": [
       "'33'"
      ]
     },
     "execution_count": 74,
     "metadata": {},
     "output_type": "execute_result"
    }
   ],
   "source": [
    "\"3\"+str(3) #addition possible"
   ]
  },
  {
   "cell_type": "code",
   "execution_count": 75,
   "id": "58c81e12-5630-4f99-ab3d-1c6299789814",
   "metadata": {},
   "outputs": [
    {
     "ename": "TypeError",
     "evalue": "unsupported operand type(s) for -: 'str' and 'str'",
     "output_type": "error",
     "traceback": [
      "\u001b[0;31m---------------------------------------------------------------------------\u001b[0m",
      "\u001b[0;31mTypeError\u001b[0m                                 Traceback (most recent call last)",
      "Cell \u001b[0;32mIn[75], line 1\u001b[0m\n\u001b[0;32m----> 1\u001b[0m \u001b[38;5;124;43m\"\u001b[39;49m\u001b[38;5;124;43m4\u001b[39;49m\u001b[38;5;124;43m\"\u001b[39;49m\u001b[38;5;241;43m-\u001b[39;49m\u001b[38;5;28;43mstr\u001b[39;49m\u001b[43m(\u001b[49m\u001b[38;5;241;43m2\u001b[39;49m\u001b[43m)\u001b[49m \u001b[38;5;66;03m#\u001b[39;00m\n",
      "\u001b[0;31mTypeError\u001b[0m: unsupported operand type(s) for -: 'str' and 'str'"
     ]
    }
   ],
   "source": [
    "\"4\"-str(2) #subtraction is not possible"
   ]
  },
  {
   "cell_type": "code",
   "execution_count": 76,
   "id": "55449c71-2b14-4fc3-8c45-a9725be0f9ff",
   "metadata": {},
   "outputs": [
    {
     "ename": "TypeError",
     "evalue": "can't multiply sequence by non-int of type 'str'",
     "output_type": "error",
     "traceback": [
      "\u001b[0;31m---------------------------------------------------------------------------\u001b[0m",
      "\u001b[0;31mTypeError\u001b[0m                                 Traceback (most recent call last)",
      "Cell \u001b[0;32mIn[76], line 1\u001b[0m\n\u001b[0;32m----> 1\u001b[0m \u001b[38;5;124;43m\"\u001b[39;49m\u001b[38;5;124;43m2\u001b[39;49m\u001b[38;5;124;43m\"\u001b[39;49m\u001b[38;5;241;43m*\u001b[39;49m\u001b[38;5;28;43mstr\u001b[39;49m\u001b[43m(\u001b[49m\u001b[38;5;241;43m4\u001b[39;49m\u001b[43m)\u001b[49m \u001b[38;5;66;03m# mutiplication is possible\u001b[39;00m\n",
      "\u001b[0;31mTypeError\u001b[0m: can't multiply sequence by non-int of type 'str'"
     ]
    }
   ],
   "source": [
    "\"2\"*str(4) # mutiplication is possible"
   ]
  },
  {
   "cell_type": "code",
   "execution_count": 77,
   "id": "55c6478f-8f42-42f3-9f08-3f08d7e8a44b",
   "metadata": {},
   "outputs": [
    {
     "data": {
      "text/plain": [
       "'2222'"
      ]
     },
     "execution_count": 77,
     "metadata": {},
     "output_type": "execute_result"
    }
   ],
   "source": [
    "#but, aisa sab bhi hota hai...ye print pattern  wale me ham ye use karenge\n",
    "\"2\"*4"
   ]
  },
  {
   "cell_type": "code",
   "execution_count": 80,
   "id": "43178d80-3939-4dce-b01d-79d2eb02c924",
   "metadata": {},
   "outputs": [
    {
     "ename": "TypeError",
     "evalue": "unsupported operand type(s) for /: 'str' and 'int'",
     "output_type": "error",
     "traceback": [
      "\u001b[0;31m---------------------------------------------------------------------------\u001b[0m",
      "\u001b[0;31mTypeError\u001b[0m                                 Traceback (most recent call last)",
      "Cell \u001b[0;32mIn[80], line 1\u001b[0m\n\u001b[0;32m----> 1\u001b[0m \u001b[38;5;124;43m\"\u001b[39;49m\u001b[38;5;124;43m2\u001b[39;49m\u001b[38;5;124;43m\"\u001b[39;49m\u001b[38;5;241;43m/\u001b[39;49m\u001b[43m \u001b[49m\u001b[38;5;241;43m3\u001b[39;49m \u001b[38;5;66;03m# ye nahi hoga.error comes\u001b[39;00m\n",
      "\u001b[0;31mTypeError\u001b[0m: unsupported operand type(s) for /: 'str' and 'int'"
     ]
    }
   ],
   "source": [
    "\"2\"/ 3 # ye nahi hoga.error comes"
   ]
  },
  {
   "cell_type": "code",
   "execution_count": 81,
   "id": "bd425624-fb85-46c3-afec-f87746a0bdce",
   "metadata": {},
   "outputs": [],
   "source": [
    "type=bool(-1)"
   ]
  },
  {
   "cell_type": "code",
   "execution_count": null,
   "id": "67918447-bebc-4279-860c-9d7bde4d74df",
   "metadata": {},
   "outputs": [],
   "source": []
  },
  {
   "cell_type": "code",
   "execution_count": null,
   "id": "c3b5705b-bfb4-4ed9-ba71-5681a6964667",
   "metadata": {},
   "outputs": [],
   "source": []
  },
  {
   "cell_type": "code",
   "execution_count": null,
   "id": "4716c19c-f597-4a1e-9099-48b754b93189",
   "metadata": {},
   "outputs": [],
   "source": []
  }
 ],
 "metadata": {
  "kernelspec": {
   "display_name": "Python 3 (ipykernel)",
   "language": "python",
   "name": "python3"
  },
  "language_info": {
   "codemirror_mode": {
    "name": "ipython",
    "version": 3
   },
   "file_extension": ".py",
   "mimetype": "text/x-python",
   "name": "python",
   "nbconvert_exporter": "python",
   "pygments_lexer": "ipython3",
   "version": "3.10.8"
  }
 },
 "nbformat": 4,
 "nbformat_minor": 5
}
