{
 "cells": [
  {
   "cell_type": "code",
   "execution_count": 6,
   "id": "22c1b4bb-97c3-42f4-a384-2fcf8a46951c",
   "metadata": {},
   "outputs": [],
   "source": [
    "s={}#wrong way to declare empty set"
   ]
  },
  {
   "cell_type": "code",
   "execution_count": 3,
   "id": "d383fa3c-60c8-46d1-be5d-e24cb7eed8f8",
   "metadata": {},
   "outputs": [
    {
     "data": {
      "text/plain": [
       "dict"
      ]
     },
     "execution_count": 3,
     "metadata": {},
     "output_type": "execute_result"
    }
   ],
   "source": [
    "type(s)"
   ]
  },
  {
   "cell_type": "code",
   "execution_count": 4,
   "id": "6ce7d080-bea0-4734-a541-69985a048df9",
   "metadata": {},
   "outputs": [],
   "source": [
    "s1={1,2,3,4}"
   ]
  },
  {
   "cell_type": "code",
   "execution_count": 5,
   "id": "70cef695-0602-4524-a292-8d3196253c78",
   "metadata": {},
   "outputs": [
    {
     "data": {
      "text/plain": [
       "set"
      ]
     },
     "execution_count": 5,
     "metadata": {},
     "output_type": "execute_result"
    }
   ],
   "source": [
    "type(s1)"
   ]
  },
  {
   "cell_type": "code",
   "execution_count": 7,
   "id": "4b5fa6ec-83ad-48eb-ab77-58b1ab44fca9",
   "metadata": {},
   "outputs": [],
   "source": [
    "s2={1,2,3,45,5,6,45,45,5}"
   ]
  },
  {
   "cell_type": "code",
   "execution_count": 9,
   "id": "7fee171f-f8b8-4faf-b474-42f0a5975782",
   "metadata": {},
   "outputs": [
    {
     "data": {
      "text/plain": [
       "{1, 2, 3, 5, 6, 45}"
      ]
     },
     "execution_count": 9,
     "metadata": {},
     "output_type": "execute_result"
    }
   ],
   "source": [
    "s2#it doesn't contain same elements more than one type"
   ]
  },
  {
   "cell_type": "code",
   "execution_count": 12,
   "id": "9ee58867-1409-416e-8247-e4427ab71470",
   "metadata": {},
   "outputs": [
    {
     "data": {
      "text/plain": [
       "(1, 2, 3, 5, 6, 45)"
      ]
     },
     "execution_count": 12,
     "metadata": {},
     "output_type": "execute_result"
    }
   ],
   "source": [
    "tuple(s2)#convert set in tuple"
   ]
  },
  {
   "cell_type": "code",
   "execution_count": 14,
   "id": "b94b5068-426f-43ac-9698-944ea25b25b0",
   "metadata": {},
   "outputs": [
    {
     "ename": "NameError",
     "evalue": "name 'l' is not defined",
     "output_type": "error",
     "traceback": [
      "\u001b[0;31m---------------------------------------------------------------------------\u001b[0m",
      "\u001b[0;31mNameError\u001b[0m                                 Traceback (most recent call last)",
      "Cell \u001b[0;32mIn[14], line 1\u001b[0m\n\u001b[0;32m----> 1\u001b[0m \u001b[43ml\u001b[49m[s2]\u001b[38;5;66;03m#non proper way\u001b[39;00m\n",
      "\u001b[0;31mNameError\u001b[0m: name 'l' is not defined"
     ]
    }
   ],
   "source": [
    "l[s2]#non proper way"
   ]
  },
  {
   "cell_type": "code",
   "execution_count": 15,
   "id": "00cb9cb1-b55f-4dbc-bf78-e93e53932642",
   "metadata": {},
   "outputs": [
    {
     "data": {
      "text/plain": [
       "list[{1, 2, 3, 5, 6, 45}]"
      ]
     },
     "execution_count": 15,
     "metadata": {},
     "output_type": "execute_result"
    }
   ],
   "source": [
    "list[s2]#proper way"
   ]
  },
  {
   "cell_type": "code",
   "execution_count": 18,
   "id": "4d7fa8f5-ad30-476c-92cb-2dc9d5755ec4",
   "metadata": {},
   "outputs": [
    {
     "ename": "TypeError",
     "evalue": "unhashable type: 'list'",
     "output_type": "error",
     "traceback": [
      "\u001b[0;31m---------------------------------------------------------------------------\u001b[0m",
      "\u001b[0;31mTypeError\u001b[0m                                 Traceback (most recent call last)",
      "Cell \u001b[0;32mIn[18], line 1\u001b[0m\n\u001b[0;32m----> 1\u001b[0m s3\u001b[38;5;241m=\u001b[39m{\u001b[38;5;241m1\u001b[39m,\u001b[38;5;241m2\u001b[39m,\u001b[38;5;241m3\u001b[39m,\u001b[38;5;241m4\u001b[39m,[\u001b[38;5;241m1\u001b[39m,\u001b[38;5;241m2\u001b[39m,\u001b[38;5;241m3\u001b[39m]}\u001b[38;5;66;03m#not allow list in sets\u001b[39;00m\n",
      "\u001b[0;31mTypeError\u001b[0m: unhashable type: 'list'"
     ]
    }
   ],
   "source": [
    "s3={1,2,3,4,[1,2,3]}#not allow list in sets, because we can change in list"
   ]
  },
  {
   "cell_type": "code",
   "execution_count": 19,
   "id": "5243ae12-4d91-4ba8-b79d-1f8141850cba",
   "metadata": {},
   "outputs": [],
   "source": [
    "s4={1,2,3,4,(1,2,3,4)}#it allow tuple because tuple not allow to make changes"
   ]
  },
  {
   "cell_type": "code",
   "execution_count": 20,
   "id": "0d45af6c-f81f-4deb-9b2e-3de71d7e2c73",
   "metadata": {},
   "outputs": [
    {
     "data": {
      "text/plain": [
       "{(1, 2, 3, 4), 1, 2, 3, 4}"
      ]
     },
     "execution_count": 20,
     "metadata": {},
     "output_type": "execute_result"
    }
   ],
   "source": [
    "s4"
   ]
  },
  {
   "cell_type": "code",
   "execution_count": 21,
   "id": "0081b531-81ed-45c9-b2c9-fcb2e75fac74",
   "metadata": {},
   "outputs": [],
   "source": [
    "s5={\"kush\",\"Kush\",2}"
   ]
  },
  {
   "cell_type": "code",
   "execution_count": 22,
   "id": "2eb09582-d8a6-4d62-a62c-3e0628463cea",
   "metadata": {},
   "outputs": [
    {
     "data": {
      "text/plain": [
       "{2, 'Kush', 'kush'}"
      ]
     },
     "execution_count": 22,
     "metadata": {},
     "output_type": "execute_result"
    }
   ],
   "source": [
    "s5"
   ]
  },
  {
   "cell_type": "code",
   "execution_count": 26,
   "id": "c0acff10-e23f-4fa7-b6d4-c51c4c89378b",
   "metadata": {},
   "outputs": [
    {
     "ename": "TypeError",
     "evalue": "'set' object is not subscriptable",
     "output_type": "error",
     "traceback": [
      "\u001b[0;31m---------------------------------------------------------------------------\u001b[0m",
      "\u001b[0;31mTypeError\u001b[0m                                 Traceback (most recent call last)",
      "Cell \u001b[0;32mIn[26], line 1\u001b[0m\n\u001b[0;32m----> 1\u001b[0m \u001b[43ms5\u001b[49m\u001b[43m[\u001b[49m\u001b[38;5;241;43m0\u001b[39;49m\u001b[43m]\u001b[49m\u001b[38;5;66;03m#we can not subcsript the elements in directly in sets\u001b[39;00m\n",
      "\u001b[0;31mTypeError\u001b[0m: 'set' object is not subscriptable"
     ]
    }
   ],
   "source": [
    "s5[0]#we can not subcsript the elements in directly in sets"
   ]
  },
  {
   "cell_type": "code",
   "execution_count": 27,
   "id": "8f97823c-504a-4f5f-917b-6f73f7c7d255",
   "metadata": {},
   "outputs": [
    {
     "name": "stdout",
     "output_type": "stream",
     "text": [
      "2\n",
      "kush\n",
      "Kush\n"
     ]
    }
   ],
   "source": [
    "for i in s5:\n",
    "    print(i)  #here with the help of for loop we can subscript elements of sets"
   ]
  },
  {
   "cell_type": "code",
   "execution_count": 28,
   "id": "ef0f313d-f4dd-402e-adc1-aed0139257d3",
   "metadata": {},
   "outputs": [],
   "source": [
    "s5.add(99)#it will add"
   ]
  },
  {
   "cell_type": "code",
   "execution_count": 29,
   "id": "12ba14b3-41ab-4811-af2b-25c5423b8db8",
   "metadata": {},
   "outputs": [
    {
     "data": {
      "text/plain": [
       "{2, 99, 'Kush', 'kush'}"
      ]
     },
     "execution_count": 29,
     "metadata": {},
     "output_type": "execute_result"
    }
   ],
   "source": [
    "s5"
   ]
  },
  {
   "cell_type": "code",
   "execution_count": 31,
   "id": "976e8aa0-8d7f-4275-a438-8904137c7fe5",
   "metadata": {},
   "outputs": [],
   "source": [
    "s5.add(2) #as 2 is avaliable already hence it doesnt add again"
   ]
  },
  {
   "cell_type": "code",
   "execution_count": 32,
   "id": "12973904-d53b-4b1e-b3d8-0900ad75adfe",
   "metadata": {},
   "outputs": [
    {
     "data": {
      "text/plain": [
       "{2, 99, 'Kush', 'kush'}"
      ]
     },
     "execution_count": 32,
     "metadata": {},
     "output_type": "execute_result"
    }
   ],
   "source": [
    "s5"
   ]
  },
  {
   "cell_type": "code",
   "execution_count": 33,
   "id": "8e1ec31b-196d-448e-bbb1-f7eb392fa50a",
   "metadata": {},
   "outputs": [
    {
     "data": {
      "text/plain": [
       "4"
      ]
     },
     "execution_count": 33,
     "metadata": {},
     "output_type": "execute_result"
    }
   ],
   "source": [
    "len(s5)"
   ]
  },
  {
   "cell_type": "code",
   "execution_count": 35,
   "id": "7901de1d-fc96-4959-b5fa-05da9ef2a25e",
   "metadata": {},
   "outputs": [
    {
     "data": {
      "text/plain": [
       "2"
      ]
     },
     "execution_count": 35,
     "metadata": {},
     "output_type": "execute_result"
    }
   ],
   "source": [
    "s5.pop()#remove any random values"
   ]
  },
  {
   "cell_type": "code",
   "execution_count": 36,
   "id": "3493f169-d5f7-4dbc-8d69-0d28386b4a9f",
   "metadata": {},
   "outputs": [
    {
     "data": {
      "text/plain": [
       "{'Kush', 'kush'}"
      ]
     },
     "execution_count": 36,
     "metadata": {},
     "output_type": "execute_result"
    }
   ],
   "source": [
    "s5"
   ]
  },
  {
   "cell_type": "code",
   "execution_count": 37,
   "id": "baf906fd-6a3b-4466-a51e-beb00f29ee6f",
   "metadata": {},
   "outputs": [
    {
     "data": {
      "text/plain": [
       "'kush'"
      ]
     },
     "execution_count": 37,
     "metadata": {},
     "output_type": "execute_result"
    }
   ],
   "source": [
    "s5.pop()"
   ]
  },
  {
   "cell_type": "code",
   "execution_count": 38,
   "id": "4334c5b9-60df-44ad-bda1-7c7d71ed495d",
   "metadata": {},
   "outputs": [
    {
     "data": {
      "text/plain": [
       "{'Kush'}"
      ]
     },
     "execution_count": 38,
     "metadata": {},
     "output_type": "execute_result"
    }
   ],
   "source": [
    "s5"
   ]
  },
  {
   "cell_type": "code",
   "execution_count": 40,
   "id": "5eda6320-7d5b-4f0a-80dc-40514e266a1e",
   "metadata": {},
   "outputs": [],
   "source": [
    "s5.clear()#remove all elements from set"
   ]
  },
  {
   "cell_type": "code",
   "execution_count": 41,
   "id": "db32258c-3ef9-4fa7-a5a3-70291bdd8687",
   "metadata": {},
   "outputs": [
    {
     "data": {
      "text/plain": [
       "set()"
      ]
     },
     "execution_count": 41,
     "metadata": {},
     "output_type": "execute_result"
    }
   ],
   "source": [
    "s5"
   ]
  },
  {
   "cell_type": "code",
   "execution_count": 42,
   "id": "5bafde77-febd-4f3c-97a9-3c90f216ff5a",
   "metadata": {},
   "outputs": [],
   "source": [
    "s6={1,2,3,4}\n",
    "s7={1,2,3,5}"
   ]
  },
  {
   "cell_type": "code",
   "execution_count": 43,
   "id": "3ee9d5aa-8aea-47ab-90d3-698e3cc46a7a",
   "metadata": {},
   "outputs": [
    {
     "data": {
      "text/plain": [
       "{4}"
      ]
     },
     "execution_count": 43,
     "metadata": {},
     "output_type": "execute_result"
    }
   ],
   "source": [
    "s6.difference(s7)"
   ]
  },
  {
   "cell_type": "code",
   "execution_count": 44,
   "id": "07cc4be3-9604-431e-81e2-bf7f7df71f0c",
   "metadata": {},
   "outputs": [
    {
     "ename": "AttributeError",
     "evalue": "'set' object has no attribute 'differenece'",
     "output_type": "error",
     "traceback": [
      "\u001b[0;31m---------------------------------------------------------------------------\u001b[0m",
      "\u001b[0;31mAttributeError\u001b[0m                            Traceback (most recent call last)",
      "Cell \u001b[0;32mIn[44], line 1\u001b[0m\n\u001b[0;32m----> 1\u001b[0m \u001b[43ms7\u001b[49m\u001b[38;5;241;43m.\u001b[39;49m\u001b[43mdifferenece\u001b[49m(s5)\n",
      "\u001b[0;31mAttributeError\u001b[0m: 'set' object has no attribute 'differenece'"
     ]
    }
   ],
   "source": [
    "s7.differenece(s5)"
   ]
  },
  {
   "cell_type": "code",
   "execution_count": null,
   "id": "aa55f519-e4dd-4441-bd3e-5e0dd55579f9",
   "metadata": {},
   "outputs": [],
   "source": []
  }
 ],
 "metadata": {
  "kernelspec": {
   "display_name": "Python 3 (ipykernel)",
   "language": "python",
   "name": "python3"
  },
  "language_info": {
   "codemirror_mode": {
    "name": "ipython",
    "version": 3
   },
   "file_extension": ".py",
   "mimetype": "text/x-python",
   "name": "python",
   "nbconvert_exporter": "python",
   "pygments_lexer": "ipython3",
   "version": "3.10.8"
  }
 },
 "nbformat": 4,
 "nbformat_minor": 5
}
