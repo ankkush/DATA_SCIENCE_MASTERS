{
 "cells": [
  {
   "cell_type": "code",
   "execution_count": 1,
   "id": "83f174eb-8ce6-495e-bca4-493fa82d6afa",
   "metadata": {},
   "outputs": [],
   "source": [
    "def test(a,b,c,d):\n",
    "    pass"
   ]
  },
  {
   "cell_type": "code",
   "execution_count": 2,
   "id": "7836db84-b9f4-43d0-a862-ba2d296a7007",
   "metadata": {},
   "outputs": [
    {
     "ename": "NameError",
     "evalue": "name 'good' is not defined",
     "output_type": "error",
     "traceback": [
      "\u001b[0;31m---------------------------------------------------------------------------\u001b[0m",
      "\u001b[0;31mNameError\u001b[0m                                 Traceback (most recent call last)",
      "Cell \u001b[0;32mIn[2], line 1\u001b[0m\n\u001b[0;32m----> 1\u001b[0m test(\u001b[38;5;241m2\u001b[39m,\u001b[43mgood\u001b[49m,\u001b[38;5;241m3\u001b[39m,\u001b[38;5;241m2\u001b[39m)\n",
      "\u001b[0;31mNameError\u001b[0m: name 'good' is not defined"
     ]
    }
   ],
   "source": [
    "test(2,good,3,2)"
   ]
  },
  {
   "cell_type": "code",
   "execution_count": 3,
   "id": "4b995b36-2bf9-4b88-a3c3-06a289567dbb",
   "metadata": {},
   "outputs": [
    {
     "ename": "TypeError",
     "evalue": "test() missing 2 required positional arguments: 'c' and 'd'",
     "output_type": "error",
     "traceback": [
      "\u001b[0;31m---------------------------------------------------------------------------\u001b[0m",
      "\u001b[0;31mTypeError\u001b[0m                                 Traceback (most recent call last)",
      "Cell \u001b[0;32mIn[3], line 1\u001b[0m\n\u001b[0;32m----> 1\u001b[0m \u001b[43mtest\u001b[49m\u001b[43m(\u001b[49m\u001b[38;5;124;43m\"\u001b[39;49m\u001b[38;5;124;43mgood\u001b[39;49m\u001b[38;5;124;43m\"\u001b[39;49m\u001b[43m,\u001b[49m\u001b[38;5;241;43m1\u001b[39;49m\u001b[43m)\u001b[49m\n",
      "\u001b[0;31mTypeError\u001b[0m: test() missing 2 required positional arguments: 'c' and 'd'"
     ]
    }
   ],
   "source": [
    "test(\"good\",1)"
   ]
  },
  {
   "cell_type": "code",
   "execution_count": 4,
   "id": "1743cda6-6bf6-4d25-ac89-3f65b23de5cd",
   "metadata": {},
   "outputs": [],
   "source": [
    "test(\"GOOd\",1,2,\"HI\")"
   ]
  },
  {
   "cell_type": "code",
   "execution_count": 5,
   "id": "42dcb60f-37df-4b97-95f9-68f573539d6c",
   "metadata": {},
   "outputs": [],
   "source": [
    "def test1(*args):\n",
    "    return args\n",
    "#as we seen above that we can pass that much argument which should equal to variables declared but, in case of *args we can pass any no. of arguments"
   ]
  },
  {
   "cell_type": "code",
   "execution_count": 6,
   "id": "4702268a-ac6d-43da-af1e-66acbfb4b4d8",
   "metadata": {},
   "outputs": [
    {
     "data": {
      "text/plain": [
       "('ankush', 222, [333, 455], 22)"
      ]
     },
     "execution_count": 6,
     "metadata": {},
     "output_type": "execute_result"
    }
   ],
   "source": [
    "test1(\"ankush\",222,[333,455],22)"
   ]
  },
  {
   "cell_type": "code",
   "execution_count": 7,
   "id": "8180f87a-e00d-429b-ba5e-adabb89c92dc",
   "metadata": {},
   "outputs": [
    {
     "ename": "NameError",
     "evalue": "name 'jaan' is not defined",
     "output_type": "error",
     "traceback": [
      "\u001b[0;31m---------------------------------------------------------------------------\u001b[0m",
      "\u001b[0;31mNameError\u001b[0m                                 Traceback (most recent call last)",
      "Cell \u001b[0;32mIn[7], line 1\u001b[0m\n\u001b[0;32m----> 1\u001b[0m test1(\u001b[38;5;124m\"\u001b[39m\u001b[38;5;124mJAAN \u001b[39m\u001b[38;5;124m\"\u001b[39m,\u001b[43mjaan\u001b[49m)\n",
      "\u001b[0;31mNameError\u001b[0m: name 'jaan' is not defined"
     ]
    }
   ],
   "source": [
    "test1(\"JAAN \",jaan)"
   ]
  },
  {
   "cell_type": "code",
   "execution_count": 8,
   "id": "c5fa3b85-06af-4235-9ef8-aaf1bfc69e0f",
   "metadata": {},
   "outputs": [
    {
     "data": {
      "text/plain": [
       "(111, 222, 444, 666, 'a', 'aeiou')"
      ]
     },
     "execution_count": 8,
     "metadata": {},
     "output_type": "execute_result"
    }
   ],
   "source": [
    "(111,222,444,666,\"a\",\"aeiou\")"
   ]
  },
  {
   "cell_type": "code",
   "execution_count": 10,
   "id": "4869f62b-796b-4cd4-b7e8-487cf46eb4db",
   "metadata": {},
   "outputs": [],
   "source": [
    "def test2(*REALKUSH):\n",
    "    return REALKUSH"
   ]
  },
  {
   "cell_type": "code",
   "execution_count": 11,
   "id": "bb3ed948-3bc0-4b18-b2b9-217feb1c490e",
   "metadata": {},
   "outputs": [
    {
     "data": {
      "text/plain": [
       "('fod', 'hello', True, None, 223)"
      ]
     },
     "execution_count": 11,
     "metadata": {},
     "output_type": "execute_result"
    }
   ],
   "source": [
    "test2(\"fod\",\"hello\",True,None,223)"
   ]
  },
  {
   "cell_type": "code",
   "execution_count": 15,
   "id": "6d6beff4-ffc0-479e-9c9e-741da5ca4ec7",
   "metadata": {},
   "outputs": [],
   "source": [
    "def test3(*args,a):\n",
    "    return args,a"
   ]
  },
  {
   "cell_type": "code",
   "execution_count": 16,
   "id": "f053032f-344d-4479-acd5-ad114af8636f",
   "metadata": {},
   "outputs": [
    {
     "ename": "TypeError",
     "evalue": "test3() missing 1 required keyword-only argument: 'a'",
     "output_type": "error",
     "traceback": [
      "\u001b[0;31m---------------------------------------------------------------------------\u001b[0m",
      "\u001b[0;31mTypeError\u001b[0m                                 Traceback (most recent call last)",
      "Cell \u001b[0;32mIn[16], line 1\u001b[0m\n\u001b[0;32m----> 1\u001b[0m \u001b[43mtest3\u001b[49m\u001b[43m(\u001b[49m\u001b[38;5;241;43m1\u001b[39;49m\u001b[43m,\u001b[49m\u001b[38;5;241;43m23\u001b[39;49m\u001b[43m,\u001b[49m\u001b[38;5;241;43m45\u001b[39;49m\u001b[43m,\u001b[49m\u001b[38;5;241;43m4\u001b[39;49m\u001b[43m)\u001b[49m\n",
      "\u001b[0;31mTypeError\u001b[0m: test3() missing 1 required keyword-only argument: 'a'"
     ]
    }
   ],
   "source": [
    "test3(1,23,45,4)"
   ]
  },
  {
   "cell_type": "code",
   "execution_count": 17,
   "id": "45286d32-3ea8-4f14-8778-752b73c09f67",
   "metadata": {},
   "outputs": [
    {
     "data": {
      "text/plain": [
       "((12, 23, 44), 443)"
      ]
     },
     "execution_count": 17,
     "metadata": {},
     "output_type": "execute_result"
    }
   ],
   "source": [
    "test3(12,23,44,a=443)"
   ]
  },
  {
   "cell_type": "code",
   "execution_count": 23,
   "id": "04275f6a-2147-4a78-8048-20ddb4fe7b13",
   "metadata": {},
   "outputs": [],
   "source": [
    "def test4(*args):\n",
    "    l=[]\n",
    "    for i in args:\n",
    "        if type(i)==list:\n",
    "            l.append(i)\n",
    "    return(l)"
   ]
  },
  {
   "cell_type": "code",
   "execution_count": 24,
   "id": "db898572-38b2-452a-a172-242a87170bbc",
   "metadata": {},
   "outputs": [
    {
     "data": {
      "text/plain": [
       "[[234, 66, 'ki'], [4, 6, 8]]"
      ]
     },
     "execution_count": 24,
     "metadata": {},
     "output_type": "execute_result"
    }
   ],
   "source": [
    "test4(1,23,4,55,6,67,\"kiush\",[234,66,\"ki\"],(\"GOOD\",3,3,4,3,3,3),[4,6,8])#it find all lists"
   ]
  },
  {
   "cell_type": "code",
   "execution_count": 25,
   "id": "5b0468f2-099b-4209-99c5-b6506ec260ea",
   "metadata": {},
   "outputs": [],
   "source": [
    "def test5(**kwargs):\n",
    "    return kwargs"
   ]
  },
  {
   "cell_type": "code",
   "execution_count": 26,
   "id": "fc5c603c-a0b8-4def-93c7-b3d9118fb97d",
   "metadata": {},
   "outputs": [
    {
     "data": {
      "text/plain": [
       "{}"
      ]
     },
     "execution_count": 26,
     "metadata": {},
     "output_type": "execute_result"
    }
   ],
   "source": [
    "test5()"
   ]
  },
  {
   "cell_type": "code",
   "execution_count": 27,
   "id": "a8e2a927-398e-4a1d-9b0f-be0295fbbf59",
   "metadata": {},
   "outputs": [
    {
     "data": {
      "text/plain": [
       "dict"
      ]
     },
     "execution_count": 27,
     "metadata": {},
     "output_type": "execute_result"
    }
   ],
   "source": [
    "type(test5())# double ** is used for dict"
   ]
  },
  {
   "cell_type": "code",
   "execution_count": 30,
   "id": "47a1422d-8c6f-4369-ad07-7bb90f030b36",
   "metadata": {},
   "outputs": [
    {
     "data": {
      "text/plain": [
       "{'a': 23, 'b': 44, 'c': 55, 'd': 12, 'e': ('jaan', 'rael')}"
      ]
     },
     "execution_count": 30,
     "metadata": {},
     "output_type": "execute_result"
    }
   ],
   "source": [
    "test5(a=23,b=44,c=55,d=12,e=(\"jaan\",\"rael\"))"
   ]
  },
  {
   "cell_type": "code",
   "execution_count": 35,
   "id": "25ae0528-0097-406f-ad5f-8c8e991bb5f6",
   "metadata": {},
   "outputs": [],
   "source": [
    "def test6(**kwargs):\n",
    "    for i in kwargs.keys():\n",
    "        if type(kwargs[i])==list:\n",
    "            return i, kwargs[i]"
   ]
  },
  {
   "cell_type": "code",
   "execution_count": 36,
   "id": "b643f9d4-0bbd-4e8b-a73b-4424517c468a",
   "metadata": {},
   "outputs": [
    {
     "data": {
      "text/plain": [
       "('c', [45, 3, 2, 1])"
      ]
     },
     "execution_count": 36,
     "metadata": {},
     "output_type": "execute_result"
    }
   ],
   "source": [
    "test6(a=23,v=\"dodo\",f=(\"JI\",3,\"ss\"),c=[45,3,2,1])"
   ]
  },
  {
   "cell_type": "code",
   "execution_count": 41,
   "id": "9c856bcf-f3be-4b4c-8dc7-612f8f6af6ba",
   "metadata": {},
   "outputs": [],
   "source": [
    "def test7(*args,**kwargs):\n",
    "    return args,kwargs"
   ]
  },
  {
   "cell_type": "code",
   "execution_count": 42,
   "id": "b6d125d6-a5ce-4276-9166-58f554914c8d",
   "metadata": {},
   "outputs": [
    {
     "data": {
      "text/plain": [
       "((2, 23), {'a': 334, 'n': 898})"
      ]
     },
     "execution_count": 42,
     "metadata": {},
     "output_type": "execute_result"
    }
   ],
   "source": [
    "test7(2,23,a=334,n=898)"
   ]
  },
  {
   "cell_type": "code",
   "execution_count": null,
   "id": "a9d76025-996d-49b2-9ac3-a2436b88e73b",
   "metadata": {},
   "outputs": [],
   "source": []
  }
 ],
 "metadata": {
  "kernelspec": {
   "display_name": "Python 3 (ipykernel)",
   "language": "python",
   "name": "python3"
  },
  "language_info": {
   "codemirror_mode": {
    "name": "ipython",
    "version": 3
   },
   "file_extension": ".py",
   "mimetype": "text/x-python",
   "name": "python",
   "nbconvert_exporter": "python",
   "pygments_lexer": "ipython3",
   "version": "3.10.8"
  }
 },
 "nbformat": 4,
 "nbformat_minor": 5
}
