{
 "cells": [
  {
   "cell_type": "code",
   "execution_count": 1,
   "id": "77c0d1b0-fabb-4b34-98df-da9c123fed56",
   "metadata": {},
   "outputs": [],
   "source": [
    "def test(): #here, i named name of  function is test\n",
    "    pass"
   ]
  },
  {
   "cell_type": "code",
   "execution_count": 2,
   "id": "3163d7a5-581e-4ad0-ae89-0b20b3d65dc9",
   "metadata": {},
   "outputs": [],
   "source": [
    "# by using pass it will not give any error "
   ]
  },
  {
   "cell_type": "code",
   "execution_count": 3,
   "id": "300098e4-7646-4d13-b77f-a83c7ac8e2a1",
   "metadata": {},
   "outputs": [],
   "source": [
    "def test1():\n",
    "    print(\"THIS IS MY FIRST FUNCTION\")"
   ]
  },
  {
   "cell_type": "code",
   "execution_count": 4,
   "id": "d7391678-2ffd-4b40-ad3c-073f7680d514",
   "metadata": {},
   "outputs": [
    {
     "name": "stdout",
     "output_type": "stream",
     "text": [
      "THIS IS MY FIRST FUNCTION\n"
     ]
    }
   ],
   "source": [
    "test1()"
   ]
  },
  {
   "cell_type": "code",
   "execution_count": 5,
   "id": "b282ac30-3100-4a07-855f-71ef6fcc4c9a",
   "metadata": {},
   "outputs": [
    {
     "name": "stdout",
     "output_type": "stream",
     "text": [
      "THIS IS MY FIRST FUNCTION\n"
     ]
    },
    {
     "ename": "TypeError",
     "evalue": "unsupported operand type(s) for +: 'NoneType' and 'str'",
     "output_type": "error",
     "traceback": [
      "\u001b[0;31m---------------------------------------------------------------------------\u001b[0m",
      "\u001b[0;31mTypeError\u001b[0m                                 Traceback (most recent call last)",
      "Cell \u001b[0;32mIn[5], line 1\u001b[0m\n\u001b[0;32m----> 1\u001b[0m \u001b[43mtest1\u001b[49m\u001b[43m(\u001b[49m\u001b[43m)\u001b[49m\u001b[43m \u001b[49m\u001b[38;5;241;43m+\u001b[39;49m\u001b[38;5;124;43m\"\u001b[39;49m\u001b[38;5;124;43mANKUSH\u001b[39;49m\u001b[38;5;124;43m\"\u001b[39;49m \u001b[38;5;66;03m#we can't concatinating this operation\u001b[39;00m\n",
      "\u001b[0;31mTypeError\u001b[0m: unsupported operand type(s) for +: 'NoneType' and 'str'"
     ]
    }
   ],
   "source": [
    "test1() +\"ANKUSH\" #we can't concatinating this operation"
   ]
  },
  {
   "cell_type": "code",
   "execution_count": 6,
   "id": "182f8c00-8a9b-4817-ad7c-a9a55584efeb",
   "metadata": {},
   "outputs": [],
   "source": [
    "# we can't perform operation because print return None type and we can't add string with none"
   ]
  },
  {
   "cell_type": "code",
   "execution_count": 7,
   "id": "712bb9be-f474-48df-aa0c-8d8f1f908f7a",
   "metadata": {},
   "outputs": [],
   "source": [
    "def test2():\n",
    "    return \"USE RETURN\""
   ]
  },
  {
   "cell_type": "code",
   "execution_count": 9,
   "id": "93c04d31-00d3-4388-903a-56efb28b3460",
   "metadata": {},
   "outputs": [
    {
     "data": {
      "text/plain": [
       "'USE RETURN'"
      ]
     },
     "execution_count": 9,
     "metadata": {},
     "output_type": "execute_result"
    }
   ],
   "source": [
    "test2()"
   ]
  },
  {
   "cell_type": "code",
   "execution_count": 12,
   "id": "941a8f93-bf83-4940-8f8c-3f94f6ae04cf",
   "metadata": {},
   "outputs": [
    {
     "data": {
      "text/plain": [
       "'USE RETURN REAL'"
      ]
     },
     "execution_count": 12,
     "metadata": {},
     "output_type": "execute_result"
    }
   ],
   "source": [
    "test2()+  \" REAL\""
   ]
  },
  {
   "cell_type": "code",
   "execution_count": 13,
   "id": "2d810439-e1de-4508-955e-b2f6b5a57c8c",
   "metadata": {},
   "outputs": [],
   "source": [
    "def test3():\n",
    "    return 1,2,\"GOOD\",1.2"
   ]
  },
  {
   "cell_type": "code",
   "execution_count": 14,
   "id": "d4c29f78-ae2e-4ec8-a121-5142d0035eab",
   "metadata": {},
   "outputs": [
    {
     "data": {
      "text/plain": [
       "(1, 2, 'GOOD', 1.2)"
      ]
     },
     "execution_count": 14,
     "metadata": {},
     "output_type": "execute_result"
    }
   ],
   "source": [
    "test3()# we can obtain many returns value by using function"
   ]
  },
  {
   "cell_type": "code",
   "execution_count": 15,
   "id": "ac19c4cd-863e-4a0d-b647-ebfd39674e2c",
   "metadata": {},
   "outputs": [],
   "source": [
    "a=1,2,3,4,5"
   ]
  },
  {
   "cell_type": "code",
   "execution_count": 16,
   "id": "7530b6d1-196d-4b78-8d9e-a78a33317d7d",
   "metadata": {},
   "outputs": [
    {
     "data": {
      "text/plain": [
       "(1, 2, 3, 4, 5)"
      ]
     },
     "execution_count": 16,
     "metadata": {},
     "output_type": "execute_result"
    }
   ],
   "source": [
    "a"
   ]
  },
  {
   "cell_type": "code",
   "execution_count": 17,
   "id": "01054d9b-efe7-467c-9ba7-77cbe0cfe9e6",
   "metadata": {},
   "outputs": [],
   "source": [
    "a,b,c,d=2.2,True,None,\"PWskills\""
   ]
  },
  {
   "cell_type": "code",
   "execution_count": 18,
   "id": "dc01eb24-1cca-4f50-806f-d966518e59bc",
   "metadata": {},
   "outputs": [
    {
     "data": {
      "text/plain": [
       "2.2"
      ]
     },
     "execution_count": 18,
     "metadata": {},
     "output_type": "execute_result"
    }
   ],
   "source": [
    "a"
   ]
  },
  {
   "cell_type": "code",
   "execution_count": 19,
   "id": "ad2de5b4-282d-40e3-b45c-2a6689d50e5b",
   "metadata": {},
   "outputs": [
    {
     "data": {
      "text/plain": [
       "'PWskills'"
      ]
     },
     "execution_count": 19,
     "metadata": {},
     "output_type": "execute_result"
    }
   ],
   "source": [
    "d"
   ]
  },
  {
   "cell_type": "code",
   "execution_count": 20,
   "id": "17e1eac8-08b9-4e5e-806c-0950ea7bbff5",
   "metadata": {},
   "outputs": [
    {
     "data": {
      "text/plain": [
       "(1, 2, 'GOOD', 1.2)"
      ]
     },
     "execution_count": 20,
     "metadata": {},
     "output_type": "execute_result"
    }
   ],
   "source": [
    "test3()# it it returns multiple values in form of tuple"
   ]
  },
  {
   "cell_type": "code",
   "execution_count": 21,
   "id": "b0e4b54b-dbec-4404-b1c2-f1edc602d436",
   "metadata": {},
   "outputs": [
    {
     "data": {
      "text/plain": [
       "'GOOD'"
      ]
     },
     "execution_count": 21,
     "metadata": {},
     "output_type": "execute_result"
    }
   ],
   "source": [
    "test3()[2]# to return particular return value...so , we have to use this"
   ]
  },
  {
   "cell_type": "code",
   "execution_count": 22,
   "id": "632d4ea3-9b32-4a8b-bff9-6c7e55670a41",
   "metadata": {},
   "outputs": [],
   "source": [
    "x,y,z,w=test3()"
   ]
  },
  {
   "cell_type": "code",
   "execution_count": 23,
   "id": "aac8cfed-2007-4c2e-ab70-7f108f99868c",
   "metadata": {},
   "outputs": [
    {
     "data": {
      "text/plain": [
       "1"
      ]
     },
     "execution_count": 23,
     "metadata": {},
     "output_type": "execute_result"
    }
   ],
   "source": [
    "x"
   ]
  },
  {
   "cell_type": "code",
   "execution_count": 24,
   "id": "75ed4b84-0571-49f5-8b93-b88e09dfd177",
   "metadata": {},
   "outputs": [
    {
     "data": {
      "text/plain": [
       "'GOOD'"
      ]
     },
     "execution_count": 24,
     "metadata": {},
     "output_type": "execute_result"
    }
   ],
   "source": [
    "z"
   ]
  },
  {
   "cell_type": "code",
   "execution_count": 25,
   "id": "0151bdfc-38ca-412d-b1ce-86e333c232d2",
   "metadata": {},
   "outputs": [],
   "source": [
    "def test4():\n",
    "    a=3*4*5\n",
    "    return a"
   ]
  },
  {
   "cell_type": "code",
   "execution_count": 26,
   "id": "7323009e-183c-4838-a86c-cfdb81fa7210",
   "metadata": {},
   "outputs": [
    {
     "data": {
      "text/plain": [
       "60"
      ]
     },
     "execution_count": 26,
     "metadata": {},
     "output_type": "execute_result"
    }
   ],
   "source": [
    "test4()"
   ]
  },
  {
   "cell_type": "code",
   "execution_count": 27,
   "id": "98005492-2ec6-470f-b0df-097e1646b0e5",
   "metadata": {},
   "outputs": [
    {
     "data": {
      "text/plain": [
       "int"
      ]
     },
     "execution_count": 27,
     "metadata": {},
     "output_type": "execute_result"
    }
   ],
   "source": [
    "type(test4())"
   ]
  },
  {
   "cell_type": "code",
   "execution_count": 31,
   "id": "b722bb2f-6b1f-4d54-a6e0-e3cabc210b25",
   "metadata": {},
   "outputs": [],
   "source": [
    "def test5(a,b):\n",
    "    c=a+b\n",
    "    return c"
   ]
  },
  {
   "cell_type": "code",
   "execution_count": 32,
   "id": "9b0174f7-7636-4404-befb-c6539c80dc45",
   "metadata": {},
   "outputs": [
    {
     "data": {
      "text/plain": [
       "5"
      ]
     },
     "execution_count": 32,
     "metadata": {},
     "output_type": "execute_result"
    }
   ],
   "source": [
    "test5(2,3)"
   ]
  },
  {
   "cell_type": "code",
   "execution_count": 33,
   "id": "f46b4a75-fbd9-4eac-bb4e-4a54b553ff3f",
   "metadata": {},
   "outputs": [
    {
     "data": {
      "text/plain": [
       "'HELLOKUSH'"
      ]
     },
     "execution_count": 33,
     "metadata": {},
     "output_type": "execute_result"
    }
   ],
   "source": [
    "test5(\"HELLO\",\"KUSH\")"
   ]
  },
  {
   "cell_type": "code",
   "execution_count": 35,
   "id": "4a98feb0-6f79-431a-8d12-acb4152f0444",
   "metadata": {},
   "outputs": [
    {
     "data": {
      "text/plain": [
       "[1, 2, 4, 5, 2, 4, 6, 8]"
      ]
     },
     "execution_count": 35,
     "metadata": {},
     "output_type": "execute_result"
    }
   ],
   "source": [
    "test5([1,2,4,5],[2,4,6,8])"
   ]
  },
  {
   "cell_type": "code",
   "execution_count": 36,
   "id": "5bff20b1-4074-4589-9352-3ab86b7d4337",
   "metadata": {},
   "outputs": [
    {
     "data": {
      "text/plain": [
       "'REALKUSH'"
      ]
     },
     "execution_count": 36,
     "metadata": {},
     "output_type": "execute_result"
    }
   ],
   "source": [
    "test5(b=\"KUSH\",a=\"REAL\")"
   ]
  },
  {
   "cell_type": "code",
   "execution_count": 49,
   "id": "73d2c814-82a4-492d-aafb-c3d9fd6f05e0",
   "metadata": {},
   "outputs": [],
   "source": [
    "l= [0.62,233,\"KUSH\",[1,2,3],\"pwskills\",3,445]# creates a function which will take a list as a input and give a final list with all the numeric value"
   ]
  },
  {
   "cell_type": "code",
   "execution_count": 52,
   "id": "4c31d93e-668a-4992-a4cf-b71a4885cade",
   "metadata": {},
   "outputs": [],
   "source": [
    "def test6(a):\n",
    "    n=[]\n",
    "    for i in a:\n",
    "        if type(i)==int or type(i)==float:\n",
    "            n.append(i)\n",
    "    return n"
   ]
  },
  {
   "cell_type": "code",
   "execution_count": 53,
   "id": "7e825471-431c-47ba-a34d-c8d4a27abf9d",
   "metadata": {},
   "outputs": [
    {
     "data": {
      "text/plain": [
       "[0.62, 233, 3, 445]"
      ]
     },
     "execution_count": 53,
     "metadata": {},
     "output_type": "execute_result"
    }
   ],
   "source": [
    "test6(l)"
   ]
  },
  {
   "cell_type": "code",
   "execution_count": 56,
   "id": "23d06200-382b-4e5a-ba04-fe7e74efb839",
   "metadata": {},
   "outputs": [],
   "source": [
    "# to print nested list values too\n",
    "def test7(a):  \n",
    "    n=[]\n",
    "    for i in a:\n",
    "        if type(i)==list:\n",
    "            for j in i:\n",
    "                if type(j)==int or type(j)==float:\n",
    "                    n.append(j)\n",
    "        else:\n",
    "            if type(i)==int or type(i)==float:\n",
    "                n.append(i)\n",
    "    return n\n",
    "            \n",
    "    "
   ]
  },
  {
   "cell_type": "code",
   "execution_count": 57,
   "id": "3962d2a1-3d09-4ee8-848d-a99042ee3a0c",
   "metadata": {},
   "outputs": [
    {
     "data": {
      "text/plain": [
       "[0.62, 233, 1, 2, 3, 3, 445]"
      ]
     },
     "execution_count": 57,
     "metadata": {},
     "output_type": "execute_result"
    }
   ],
   "source": [
    "test7(l)"
   ]
  },
  {
   "cell_type": "code",
   "execution_count": null,
   "id": "5f2e7a27-584b-4f01-b9a6-51a71765b8ac",
   "metadata": {},
   "outputs": [],
   "source": []
  }
 ],
 "metadata": {
  "kernelspec": {
   "display_name": "Python 3 (ipykernel)",
   "language": "python",
   "name": "python3"
  },
  "language_info": {
   "codemirror_mode": {
    "name": "ipython",
    "version": 3
   },
   "file_extension": ".py",
   "mimetype": "text/x-python",
   "name": "python",
   "nbconvert_exporter": "python",
   "pygments_lexer": "ipython3",
   "version": "3.10.8"
  }
 },
 "nbformat": 4,
 "nbformat_minor": 5
}
